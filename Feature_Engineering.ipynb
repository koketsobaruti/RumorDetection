{
 "cells": [
  {
   "cell_type": "markdown",
   "id": "fc833102-d939-46ba-bb39-5680167b58ce",
   "metadata": {},
   "source": [
    "## Data Extraction and Feature Engineering"
   ]
  },
  {
   "cell_type": "code",
   "execution_count": 26,
   "id": "1bc95a4b-2574-441d-97b0-9a239c9eb7e9",
   "metadata": {},
   "outputs": [],
   "source": [
    "import pandas as pd # importing the Pandas library\n",
    "import os, json # the os module and json package"
   ]
  },
  {
   "cell_type": "code",
   "execution_count": null,
   "id": "cb6d0dde-d12c-4759-9332-2214ea2c1213",
   "metadata": {},
   "outputs": [],
   "source": [
    "from datetime import datetime"
   ]
  },
  {
   "cell_type": "code",
   "execution_count": 40,
   "id": "7f7f5b0b-5070-48ae-ace8-4a9927a3e1e9",
   "metadata": {},
   "outputs": [],
   "source": [
    "def check_nulls(df):\n",
    "    # check null rows\n",
    "    null_mask = df.isnull().any(axis=1)\n",
    "    null_rows = df[null_mask]\n",
    "    return null_rows"
   ]
  },
  {
   "cell_type": "code",
   "execution_count": 23,
   "id": "ce2bc3c6-d73f-4a75-adfc-6d16c41c8419",
   "metadata": {},
   "outputs": [],
   "source": [
    "def replace_vals(df):\n",
    "    columns = ['in_reply_to_status_id', 'in_reply_to_user_id']\n",
    "    df[columns] = df[columns].fillna('No ID') \n",
    "    return df"
   ]
  },
  {
   "cell_type": "code",
   "execution_count": 24,
   "id": "623861d9-057d-4a95-b36c-27f18d628b20",
   "metadata": {},
   "outputs": [],
   "source": [
    "def fetch_source_df(topic, classtype):\n",
    "    # Define the directory path\n",
    "    directory_path = \"phemernrdataset/pheme-rnr-dataset/\"+topic+\"/\"+classtype+\"/\"\n",
    "    \n",
    "    #create an empty DataFrame\n",
    "    source_Tweet_data = pd.DataFrame()\n",
    "    user_id = []\n",
    "    tweet_id = []\n",
    "    tweet_text = []\n",
    "    retweet_count = []\n",
    "    favorite_count = []\n",
    "    followers_count = []\n",
    "    friends_count = []\n",
    "    verified = []\n",
    "    created_at = []\n",
    "    # Get the list of folders in the directory\n",
    "    folders = [folder for folder in os.listdir(directory_path) if os.path.isdir(os.path.join(directory_path, folder))]\n",
    "    \n",
    "    # Get the first folder name\n",
    "    first_folder_name = folders[0] if folders else None\n",
    "    #print(len(folders))\n",
    "    print(\"First folder name:\", first_folder_name)\n",
    "    index = 0\n",
    "    for file_name in folders:\n",
    "        new_path = directory_path + file_name+'/' + 'source-tweet/' + file_name + '.json'\n",
    "        f = open(new_path)\n",
    "        data = json.load(f)\n",
    "        #print(data)\n",
    "        user_id.append(data['user']['id_str'])\n",
    "        tweet_id.append(data['id_str'])\n",
    "        tweet_text.append(data['text'])\n",
    "        retweet_count.append(data['retweet_count'])\n",
    "        favorite_count.append(data['favorite_count'])\n",
    "        followers_count.append(data['user']['followers_count'])\n",
    "        friends_count.append(data['user']['friends_count'])\n",
    "        verified.append(data['user']['verified'])\n",
    "        created_at.append(data['created_at'])\n",
    "    \n",
    "    #create a df\n",
    "    data = {'user_id': user_id,\n",
    "            'tweet_id':tweet_id, \n",
    "            'tweet_text':tweet_text, \n",
    "            'retweet_count':retweet_count,\n",
    "            'favorite_count':favorite_count,\n",
    "            'followers_count':followers_count, \n",
    "            'friends_count':friends_count, \n",
    "            'verified':verified, \n",
    "            'created_at':created_at}\n",
    "    \n",
    "    df = pd.DataFrame(data)\n",
    "\n",
    "    if(classtype=='rumours'):\n",
    "        df['label'] = 'rumor'\n",
    "\n",
    "    else:\n",
    "        df['label'] = 'non-rumor'\n",
    "    \n",
    "    df['label'] = df['label'].replace({'rumor': 1, 'non-rumor': 0})\n",
    "    df['verified'] = df['verified'].replace({True: 1, False: 0})\n",
    "    \n",
    "    return df"
   ]
  },
  {
   "cell_type": "code",
   "execution_count": 19,
   "id": "460f740d-a844-406d-be19-1e5e66b70718",
   "metadata": {},
   "outputs": [],
   "source": [
    "def fetch_response_tweets(topic, classtype, res_type):\n",
    "    response_user_id = []\n",
    "    response_tweet_id = []\n",
    "    in_reply_to_status_id = []\n",
    "    in_reply_to_user_id = []\n",
    "    response_tweet_text = []\n",
    "    response_retweet_count = []\n",
    "    response_favorite_count = []\n",
    "    response_created_at = []\n",
    "    main_thread_id = []\n",
    "    response_directory_path = \"phemernrdataset/pheme-rnr-dataset/\"+topic+\"/\"+classtype+\"/\"\n",
    "    # Get the list of folders in the directory\n",
    "    folders = [folder for folder in os.listdir(response_directory_path) \n",
    "               if os.path.isdir(os.path.join(response_directory_path, folder))]\n",
    "    \n",
    "    #loop through all the folders in the directory\n",
    "    for folder in folders:\n",
    "        path = response_directory_path + folder+'/' + 'reactions/'\n",
    "        json_files = sorted([pos_json for pos_json in os.listdir(path)\n",
    "                 if pos_json.endswith('.json')])\n",
    "        \n",
    "        for index, js in enumerate(json_files):\n",
    "    \n",
    "            try:\n",
    "                #open the file using the given directory\n",
    "                with open(os.path.join(path, js)) as file:\n",
    "                    #load data from json file\n",
    "                    data = json.load(file)\n",
    "    \n",
    "                    #convert to string first before storing in array\n",
    "                    main_thread_id.append(folder)\n",
    "                    response_user_id.append(data['user']['id_str'])\n",
    "                    response_tweet_id.append(data['id_str'])\n",
    "                    in_reply_to_status_id.append(str(data['in_reply_to_status_id_str']))\n",
    "                    in_reply_to_user_id.append(str(data['in_reply_to_user_id_str']))\n",
    "                    response_tweet_text.append(data['text'])\n",
    "                    response_retweet_count.append(data['retweet_count'])\n",
    "                    response_favorite_count.append(data['favorite_count'])\n",
    "                    response_created_at.append(data['created_at'])\n",
    "    \n",
    "            except Exception as inst:\n",
    "                print(type(inst))    # the exception type\n",
    "                print(inst.args)     # arguments stored in .args\n",
    "                print(inst) \n",
    "    \n",
    "    \n",
    "    \n",
    "    #create a df\n",
    "    data = {'main_tweet_id': main_thread_id,\n",
    "            'response_tweet_id':response_tweet_id, \n",
    "            'user_id': response_user_id,\n",
    "            'in_reply_to_status_id':in_reply_to_status_id, \n",
    "            'in_reply_to_user_id':in_reply_to_user_id, \n",
    "            'response_tweet_text':response_tweet_text,\n",
    "            'retweet_count': response_retweet_count,\n",
    "            'favorite_count':response_favorite_count,\n",
    "            'response_created_at':response_created_at}\n",
    "    \n",
    "    response_tweet_data = pd.DataFrame(data)\n",
    "    response_tweet_data['label'] = res_type\n",
    "    response_tweet_data['label'] = response_tweet_data['label'].replace({'rumour': 1, 'non-rumour': 0})\n",
    "    return response_tweet_data"
   ]
  },
  {
   "cell_type": "markdown",
   "id": "2c87c146-e2f4-4d7c-9783-6e8a03891a75",
   "metadata": {},
   "source": [
    "## Add time_delay column"
   ]
  },
  {
   "cell_type": "code",
   "execution_count": 2,
   "id": "58101170-0f88-4b98-bb73-84b5d90811b7",
   "metadata": {},
   "outputs": [],
   "source": [
    "def add_date_time(df, column_to_drop):\n",
    "    date = []\n",
    "    time = []\n",
    "    \n",
    "    for i in df.index:\n",
    "        time_str = df.loc[i, column_to_drop]\n",
    "        #tweet_id = df.loc[i,'tweet_id']\n",
    "        try:\n",
    "            # Parse the timestamp string into a datetime object\n",
    "            timestamp = datetime.strptime(time_str, \"%a %b %d %H:%M:%S %z %Y\")\n",
    "        \n",
    "            # Extract date and time separately\n",
    "            date.append(timestamp.date())\n",
    "            time.append(timestamp.time())\n",
    "        except Exception as inst:\n",
    "                #print(f'User: {tweet_id}')\n",
    "                print(type(inst))    # the exception type\n",
    "                print(inst.args)     # arguments stored in .args\n",
    "                print(inst) \n",
    "\n",
    "    #add new columns\n",
    "    df['time_posted'] = time\n",
    "    df['date_posted'] = date\n",
    "    #after updating df with new column delete unnecessary column\n",
    "    df = df.drop(column_to_drop, axis=1)\n",
    "    \n",
    "    return df"
   ]
  },
  {
   "cell_type": "code",
   "execution_count": 79,
   "id": "a7e30b72-6228-4b78-87bf-e5df843f4075",
   "metadata": {},
   "outputs": [],
   "source": [
    "def set_time_delay(df_source, df_response):\n",
    "    time_elapsed = []\n",
    "\n",
    "    for i in df_source.index:\n",
    "        # Get the tweet_id of the main post\n",
    "        tweet_id = df_source.loc[i, 'tweet_id']\n",
    "    \n",
    "        # Get the index of the first response of the current source tweet\n",
    "        response_indices = df_response.index[df_response['main_tweet_id'] == tweet_id].tolist()\n",
    "\n",
    "        if response_indices:\n",
    "            try:\n",
    "                # Get the time of the first response\n",
    "                response_index = response_indices[0]\n",
    "                response_time = df_response.loc[response_index, 'time_posted']\n",
    "                source_time = df_source.loc[i, 'time_posted']\n",
    "                \n",
    "                # Ensure the time values are in the correct format before combining with datetime.min\n",
    "                datetime1 = datetime.combine(datetime.min, datetime.strptime(str(response_time), '%H:%M:%S').time())\n",
    "                datetime2 = datetime.combine(datetime.min, datetime.strptime(str(source_time), '%H:%M:%S').time())\n",
    "        \n",
    "                # Calculate the time difference and return in minutes\n",
    "                time_difference = (datetime1 - datetime2).seconds / 60\n",
    "                time_difference = \"{:.4f}\".format(time_difference)\n",
    "                time_elapsed.append(time_difference)\n",
    "        \n",
    "            except Exception as inst:\n",
    "                print(f'User: {tweet_id}')\n",
    "                print(type(inst))    # the exception type\n",
    "                print(inst.args)     # arguments stored in .args\n",
    "                print(inst) \n",
    "\n",
    "        else:\n",
    "            # If no response is found, set the time delay to 'NaT' (Not a Time)\n",
    "            time_elapsed.append('NaT')\n",
    "            #print(f'User {tweet_id} not found')\n",
    "    \n",
    "    # Assign the calculated time delays to a new column in the source dataframe\n",
    "    df_source['time_delay (min)'] = time_elapsed\n",
    "    # Optionally drop columns you no longer need\n",
    "    df_source = df_source.drop(['time_posted', 'date_posted'], axis=1)\n",
    "    \n",
    "    return df_source"
   ]
  },
  {
   "cell_type": "markdown",
   "id": "bc35ec5c-2b89-443d-ad20-2dece7d150f1",
   "metadata": {},
   "source": [
    "### Rumor"
   ]
  },
  {
   "cell_type": "markdown",
   "id": "954afb45-8684-4162-b44c-ed7a1cc16b1b",
   "metadata": {
    "jp-MarkdownHeadingCollapsed": true
   },
   "source": [
    "#### Germanwings Crash "
   ]
  },
  {
   "cell_type": "code",
   "execution_count": 74,
   "id": "61141418-173a-4a58-91f5-be4a434909fd",
   "metadata": {
    "scrolled": true
   },
   "outputs": [
    {
     "name": "stdout",
     "output_type": "stream",
     "text": [
      "First folder name: 580387098039046145\n",
      "<class 'pandas.core.frame.DataFrame'>\n",
      "RangeIndex: 238 entries, 0 to 237\n",
      "Data columns (total 10 columns):\n",
      " #   Column           Non-Null Count  Dtype \n",
      "---  ------           --------------  ----- \n",
      " 0   user_id          238 non-null    object\n",
      " 1   tweet_id         238 non-null    object\n",
      " 2   tweet_text       238 non-null    object\n",
      " 3   retweet_count    238 non-null    int64 \n",
      " 4   favorite_count   238 non-null    int64 \n",
      " 5   followers_count  238 non-null    int64 \n",
      " 6   friends_count    238 non-null    int64 \n",
      " 7   verified         238 non-null    int64 \n",
      " 8   created_at       238 non-null    object\n",
      " 9   label            238 non-null    int64 \n",
      "dtypes: int64(6), object(4)\n",
      "memory usage: 18.7+ KB\n",
      "None\n"
     ]
    },
    {
     "name": "stderr",
     "output_type": "stream",
     "text": [
      "/tmp/ipykernel_285630/1796586709.py:58: FutureWarning: Downcasting behavior in `replace` is deprecated and will be removed in a future version. To retain the old behavior, explicitly call `result.infer_objects(copy=False)`. To opt-in to the future behavior, set `pd.set_option('future.no_silent_downcasting', True)`\n",
      "  df['label'] = df['label'].replace({'rumor': 1, 'non-rumor': 0})\n",
      "/tmp/ipykernel_285630/1796586709.py:59: FutureWarning: Downcasting behavior in `replace` is deprecated and will be removed in a future version. To retain the old behavior, explicitly call `result.infer_objects(copy=False)`. To opt-in to the future behavior, set `pd.set_option('future.no_silent_downcasting', True)`\n",
      "  df['verified'] = df['verified'].replace({True: 1, False: 0})\n"
     ]
    }
   ],
   "source": [
    "germanwings_s_rumors = fetch_source_df('germanwings-crash', 'rumours')\n",
    "print(germanwings_s_rumors.info())"
   ]
  },
  {
   "cell_type": "code",
   "execution_count": 70,
   "id": "59c6e919-8589-4f90-9770-02617e68fddf",
   "metadata": {},
   "outputs": [
    {
     "name": "stdout",
     "output_type": "stream",
     "text": [
      "<class 'pandas.core.frame.DataFrame'>\n",
      "RangeIndex: 2256 entries, 0 to 2255\n",
      "Data columns (total 10 columns):\n",
      " #   Column                 Non-Null Count  Dtype \n",
      "---  ------                 --------------  ----- \n",
      " 0   main_tweet_id          2256 non-null   object\n",
      " 1   response_tweet_id      2256 non-null   object\n",
      " 2   user_id                2256 non-null   object\n",
      " 3   in_reply_to_status_id  2256 non-null   object\n",
      " 4   in_reply_to_user_id    2256 non-null   object\n",
      " 5   response_tweet_text    2256 non-null   object\n",
      " 6   retweet_count          2256 non-null   int64 \n",
      " 7   favorite_count         2256 non-null   int64 \n",
      " 8   response_created_at    2256 non-null   object\n",
      " 9   label                  2256 non-null   int64 \n",
      "dtypes: int64(3), object(7)\n",
      "memory usage: 176.4+ KB\n",
      "None\n"
     ]
    },
    {
     "name": "stderr",
     "output_type": "stream",
     "text": [
      "/tmp/ipykernel_285630/3794510746.py:61: FutureWarning: Downcasting behavior in `replace` is deprecated and will be removed in a future version. To retain the old behavior, explicitly call `result.infer_objects(copy=False)`. To opt-in to the future behavior, set `pd.set_option('future.no_silent_downcasting', True)`\n",
      "  response_tweet_data['label'] = response_tweet_data['label'].replace({'rumour': 1, 'non-rumour': 0})\n"
     ]
    }
   ],
   "source": [
    "germanwings_crash_r_res = fetch_response_tweets('germanwings-crash', 'rumours','rumour')\n",
    "print(germanwings_crash_r_res.info())"
   ]
  },
  {
   "cell_type": "markdown",
   "id": "666308ac-d136-4217-bb41-bd8edbf9f257",
   "metadata": {},
   "source": [
    "##### Add date time"
   ]
  },
  {
   "cell_type": "code",
   "execution_count": 75,
   "id": "4b701bf3-bfab-4a27-8090-168581e89541",
   "metadata": {},
   "outputs": [
    {
     "name": "stdout",
     "output_type": "stream",
     "text": [
      "<class 'pandas.core.frame.DataFrame'>\n",
      "RangeIndex: 238 entries, 0 to 237\n",
      "Data columns (total 11 columns):\n",
      " #   Column           Non-Null Count  Dtype \n",
      "---  ------           --------------  ----- \n",
      " 0   user_id          238 non-null    object\n",
      " 1   tweet_id         238 non-null    object\n",
      " 2   tweet_text       238 non-null    object\n",
      " 3   retweet_count    238 non-null    int64 \n",
      " 4   favorite_count   238 non-null    int64 \n",
      " 5   followers_count  238 non-null    int64 \n",
      " 6   friends_count    238 non-null    int64 \n",
      " 7   verified         238 non-null    int64 \n",
      " 8   label            238 non-null    int64 \n",
      " 9   time_posted      238 non-null    object\n",
      " 10  date_posted      238 non-null    object\n",
      "dtypes: int64(6), object(5)\n",
      "memory usage: 20.6+ KB\n"
     ]
    }
   ],
   "source": [
    "germanwings_s_rumors = add_date_time(germanwings_s_rumors, 'created_at')\n",
    "germanwings_s_rumors.info()"
   ]
  },
  {
   "cell_type": "code",
   "execution_count": 76,
   "id": "2a5b73f9-cdd3-455d-a512-30a61af362c1",
   "metadata": {},
   "outputs": [
    {
     "name": "stdout",
     "output_type": "stream",
     "text": [
      "<class 'pandas.core.frame.DataFrame'>\n",
      "RangeIndex: 2256 entries, 0 to 2255\n",
      "Data columns (total 11 columns):\n",
      " #   Column                 Non-Null Count  Dtype \n",
      "---  ------                 --------------  ----- \n",
      " 0   main_tweet_id          2256 non-null   object\n",
      " 1   response_tweet_id      2256 non-null   object\n",
      " 2   user_id                2256 non-null   object\n",
      " 3   in_reply_to_status_id  2256 non-null   object\n",
      " 4   in_reply_to_user_id    2256 non-null   object\n",
      " 5   response_tweet_text    2256 non-null   object\n",
      " 6   retweet_count          2256 non-null   int64 \n",
      " 7   favorite_count         2256 non-null   int64 \n",
      " 8   label                  2256 non-null   int64 \n",
      " 9   time_posted            2256 non-null   object\n",
      " 10  date_posted            2256 non-null   object\n",
      "dtypes: int64(3), object(8)\n",
      "memory usage: 194.0+ KB\n"
     ]
    }
   ],
   "source": [
    "germanwings_crash_r_res = add_date_time(germanwings_crash_r_res, 'response_created_at')\n",
    "germanwings_crash_r_res.info()"
   ]
  },
  {
   "cell_type": "code",
   "execution_count": 43,
   "id": "ffc10f4f-a6a4-4238-bcf7-686428da5e8b",
   "metadata": {
    "scrolled": true
   },
   "outputs": [
    {
     "name": "stdout",
     "output_type": "stream",
     "text": [
      "Row 168 is malformed: ['581303989406314496', '581305382099779584', '2361372481', '581303989406314496', '112562263', '@GR8_2B_alive']\n",
      "Row 169 is malformed: []\n",
      "Row 170 is malformed: [' It makes sense because Obama is flying America into the side of a mountain.', '0', '2', 'Fri Mar 27 04:02:57 +0000 2015', '1']\n",
      "Row 848 is malformed: ['581287562947395584', '581293812120576000', '2570798579', '581290111410663424', '113655965', '@upma23 @DrShobha If Hindu rapes nun-majority ism']\n",
      "Row 849 is malformed: ['If moslim rapes nun-secularism ']\n",
      "Row 850 is malformed: [\"Opps....i didn't know!\", '0', '0', 'Fri Mar 27 03:16:59 +0000 2015', '1']\n",
      "Row 2050 is malformed: ['581287795991302144', '581293235290529794', '2570798579', '581287795991302144', '162304163', '@mediacrooks @DrShobha If Hindu rapes nun-majority ism']\n",
      "Row 2051 is malformed: ['If moslim rapes nun-secularism ']\n",
      "Row 2052 is malformed: [\"Opps....i didn't know!\", '0', '0', 'Fri Mar 27 03:14:41 +0000 2015', '1']\n"
     ]
    }
   ],
   "source": [
    "import csv\n",
    "\n",
    "file_path = 'germanwings_response.csv'\n",
    "ind = []\n",
    "# Check the number of columns in each row\n",
    "with open(file_path, 'r', encoding='utf-8') as file:\n",
    "    reader = csv.reader(file)\n",
    "    for i, row in enumerate(reader):\n",
    "        if len(row) != 10:  # Assuming there should be 10 columns\n",
    "            print(f\"Row {i} is malformed: {row}\")\n",
    "            ind.append(i)"
   ]
  },
  {
   "cell_type": "code",
   "execution_count": 47,
   "id": "00df287c-800f-4313-9daa-ded1ea82ed0c",
   "metadata": {
    "scrolled": true
   },
   "outputs": [
    {
     "data": {
      "text/html": [
       "<div>\n",
       "<style scoped>\n",
       "    .dataframe tbody tr th:only-of-type {\n",
       "        vertical-align: middle;\n",
       "    }\n",
       "\n",
       "    .dataframe tbody tr th {\n",
       "        vertical-align: top;\n",
       "    }\n",
       "\n",
       "    .dataframe thead th {\n",
       "        text-align: right;\n",
       "    }\n",
       "</style>\n",
       "<table border=\"1\" class=\"dataframe\">\n",
       "  <thead>\n",
       "    <tr style=\"text-align: right;\">\n",
       "      <th></th>\n",
       "      <th>main_tweet_id</th>\n",
       "      <th>response_tweet_id</th>\n",
       "      <th>user_id</th>\n",
       "      <th>in_reply_to_status_id</th>\n",
       "      <th>in_reply_to_user_id</th>\n",
       "      <th>response_tweet_text</th>\n",
       "      <th>retweet_count</th>\n",
       "      <th>favorite_count</th>\n",
       "      <th>label</th>\n",
       "      <th>time_posted</th>\n",
       "      <th>date_posted</th>\n",
       "    </tr>\n",
       "  </thead>\n",
       "  <tbody>\n",
       "    <tr>\n",
       "      <th>168</th>\n",
       "      <td>581303989406314496</td>\n",
       "      <td>581306385247293440</td>\n",
       "      <td>503570249</td>\n",
       "      <td>581303989406314496</td>\n",
       "      <td>112562263</td>\n",
       "      <td>@GR8_2B_alive Too early to make this an issue....</td>\n",
       "      <td>0</td>\n",
       "      <td>1</td>\n",
       "      <td>1</td>\n",
       "      <td>04:06:57</td>\n",
       "      <td>2015-03-27</td>\n",
       "    </tr>\n",
       "    <tr>\n",
       "      <th>169</th>\n",
       "      <td>581303989406314496</td>\n",
       "      <td>581307187793956864</td>\n",
       "      <td>277320969</td>\n",
       "      <td>581303989406314496</td>\n",
       "      <td>112562263</td>\n",
       "      <td>@GR8_2B_alive The common denominator for whole...</td>\n",
       "      <td>0</td>\n",
       "      <td>1</td>\n",
       "      <td>1</td>\n",
       "      <td>04:10:08</td>\n",
       "      <td>2015-03-27</td>\n",
       "    </tr>\n",
       "    <tr>\n",
       "      <th>170</th>\n",
       "      <td>581303989406314496</td>\n",
       "      <td>581307433680670721</td>\n",
       "      <td>18524109</td>\n",
       "      <td>581303989406314496</td>\n",
       "      <td>112562263</td>\n",
       "      <td>@GR8_2B_alive Read that story. Follow the link...</td>\n",
       "      <td>0</td>\n",
       "      <td>2</td>\n",
       "      <td>1</td>\n",
       "      <td>04:11:07</td>\n",
       "      <td>2015-03-27</td>\n",
       "    </tr>\n",
       "    <tr>\n",
       "      <th>848</th>\n",
       "      <td>581287562947395584</td>\n",
       "      <td>581306111422177282</td>\n",
       "      <td>232246010</td>\n",
       "      <td>581290698512596992</td>\n",
       "      <td>87882279</td>\n",
       "      <td>@ganeshmahnar @rvaidya2000 @DrShobha  They bel...</td>\n",
       "      <td>0</td>\n",
       "      <td>0</td>\n",
       "      <td>1</td>\n",
       "      <td>04:05:51</td>\n",
       "      <td>2015-03-27</td>\n",
       "    </tr>\n",
       "    <tr>\n",
       "      <th>849</th>\n",
       "      <td>581287562947395584</td>\n",
       "      <td>581375064584511488</td>\n",
       "      <td>386089446</td>\n",
       "      <td>581290698512596992</td>\n",
       "      <td>87882279</td>\n",
       "      <td>@ganeshmahnar Peace or pieces? @rvaidya2000 @D...</td>\n",
       "      <td>0</td>\n",
       "      <td>0</td>\n",
       "      <td>1</td>\n",
       "      <td>08:39:51</td>\n",
       "      <td>2015-03-27</td>\n",
       "    </tr>\n",
       "    <tr>\n",
       "      <th>850</th>\n",
       "      <td>581287562947395584</td>\n",
       "      <td>581376883935223808</td>\n",
       "      <td>87882279</td>\n",
       "      <td>581375064584511488</td>\n",
       "      <td>386089446</td>\n",
       "      <td>@ShubhamBhuyaat here meaning is eternal peace ...</td>\n",
       "      <td>0</td>\n",
       "      <td>0</td>\n",
       "      <td>1</td>\n",
       "      <td>08:47:05</td>\n",
       "      <td>2015-03-27</td>\n",
       "    </tr>\n",
       "    <tr>\n",
       "      <th>2050</th>\n",
       "      <td>581287795991302144</td>\n",
       "      <td>581302424423440384</td>\n",
       "      <td>3037749678</td>\n",
       "      <td>581287795991302144</td>\n",
       "      <td>162304163</td>\n",
       "      <td>@mediacrooks @DrShobha Germany is harbouring k...</td>\n",
       "      <td>0</td>\n",
       "      <td>0</td>\n",
       "      <td>1</td>\n",
       "      <td>03:51:12</td>\n",
       "      <td>2015-03-27</td>\n",
       "    </tr>\n",
       "    <tr>\n",
       "      <th>2051</th>\n",
       "      <td>581287795991302144</td>\n",
       "      <td>581306424476618753</td>\n",
       "      <td>1686700296</td>\n",
       "      <td>581287795991302144</td>\n",
       "      <td>162304163</td>\n",
       "      <td>@mediacrooks Not all, but too many are. Like t...</td>\n",
       "      <td>1</td>\n",
       "      <td>2</td>\n",
       "      <td>1</td>\n",
       "      <td>04:07:06</td>\n",
       "      <td>2015-03-27</td>\n",
       "    </tr>\n",
       "    <tr>\n",
       "      <th>2052</th>\n",
       "      <td>581287795991302144</td>\n",
       "      <td>581318336442552320</td>\n",
       "      <td>51310666</td>\n",
       "      <td>581287795991302144</td>\n",
       "      <td>162304163</td>\n",
       "      <td>@mediacrooks @Aks9009Pa @DrShobha oh shit!</td>\n",
       "      <td>1</td>\n",
       "      <td>0</td>\n",
       "      <td>1</td>\n",
       "      <td>04:54:26</td>\n",
       "      <td>2015-03-27</td>\n",
       "    </tr>\n",
       "  </tbody>\n",
       "</table>\n",
       "</div>"
      ],
      "text/plain": [
       "           main_tweet_id   response_tweet_id     user_id  \\\n",
       "168   581303989406314496  581306385247293440   503570249   \n",
       "169   581303989406314496  581307187793956864   277320969   \n",
       "170   581303989406314496  581307433680670721    18524109   \n",
       "848   581287562947395584  581306111422177282   232246010   \n",
       "849   581287562947395584  581375064584511488   386089446   \n",
       "850   581287562947395584  581376883935223808    87882279   \n",
       "2050  581287795991302144  581302424423440384  3037749678   \n",
       "2051  581287795991302144  581306424476618753  1686700296   \n",
       "2052  581287795991302144  581318336442552320    51310666   \n",
       "\n",
       "     in_reply_to_status_id in_reply_to_user_id  \\\n",
       "168     581303989406314496           112562263   \n",
       "169     581303989406314496           112562263   \n",
       "170     581303989406314496           112562263   \n",
       "848     581290698512596992            87882279   \n",
       "849     581290698512596992            87882279   \n",
       "850     581375064584511488           386089446   \n",
       "2050    581287795991302144           162304163   \n",
       "2051    581287795991302144           162304163   \n",
       "2052    581287795991302144           162304163   \n",
       "\n",
       "                                    response_tweet_text  retweet_count  \\\n",
       "168   @GR8_2B_alive Too early to make this an issue....              0   \n",
       "169   @GR8_2B_alive The common denominator for whole...              0   \n",
       "170   @GR8_2B_alive Read that story. Follow the link...              0   \n",
       "848   @ganeshmahnar @rvaidya2000 @DrShobha  They bel...              0   \n",
       "849   @ganeshmahnar Peace or pieces? @rvaidya2000 @D...              0   \n",
       "850   @ShubhamBhuyaat here meaning is eternal peace ...              0   \n",
       "2050  @mediacrooks @DrShobha Germany is harbouring k...              0   \n",
       "2051  @mediacrooks Not all, but too many are. Like t...              1   \n",
       "2052         @mediacrooks @Aks9009Pa @DrShobha oh shit!              1   \n",
       "\n",
       "      favorite_count  label time_posted date_posted  \n",
       "168                1      1    04:06:57  2015-03-27  \n",
       "169                1      1    04:10:08  2015-03-27  \n",
       "170                2      1    04:11:07  2015-03-27  \n",
       "848                0      1    04:05:51  2015-03-27  \n",
       "849                0      1    08:39:51  2015-03-27  \n",
       "850                0      1    08:47:05  2015-03-27  \n",
       "2050               0      1    03:51:12  2015-03-27  \n",
       "2051               2      1    04:07:06  2015-03-27  \n",
       "2052               0      1    04:54:26  2015-03-27  "
      ]
     },
     "metadata": {},
     "output_type": "display_data"
    },
    {
     "name": "stdout",
     "output_type": "stream",
     "text": [
      "9\n"
     ]
    }
   ],
   "source": [
    "display(germanwings_crash_r_res.loc[ind, :])\n",
    "print(len(ind))"
   ]
  },
  {
   "cell_type": "markdown",
   "id": "9a3f3590-0fdf-4dce-a452-03de1b21eedf",
   "metadata": {},
   "source": [
    "##### add time delay"
   ]
  },
  {
   "cell_type": "code",
   "execution_count": 57,
   "id": "fc92c777-b49e-4efc-858a-2e6e0ee74745",
   "metadata": {},
   "outputs": [
    {
     "data": {
      "text/html": [
       "<div>\n",
       "<style scoped>\n",
       "    .dataframe tbody tr th:only-of-type {\n",
       "        vertical-align: middle;\n",
       "    }\n",
       "\n",
       "    .dataframe tbody tr th {\n",
       "        vertical-align: top;\n",
       "    }\n",
       "\n",
       "    .dataframe thead th {\n",
       "        text-align: right;\n",
       "    }\n",
       "</style>\n",
       "<table border=\"1\" class=\"dataframe\">\n",
       "  <thead>\n",
       "    <tr style=\"text-align: right;\">\n",
       "      <th></th>\n",
       "      <th>main_tweet_id</th>\n",
       "      <th>response_tweet_id</th>\n",
       "      <th>user_id</th>\n",
       "      <th>in_reply_to_status_id</th>\n",
       "      <th>in_reply_to_user_id</th>\n",
       "      <th>response_tweet_text</th>\n",
       "      <th>retweet_count</th>\n",
       "      <th>favorite_count</th>\n",
       "      <th>label</th>\n",
       "      <th>time_posted</th>\n",
       "      <th>date_posted</th>\n",
       "    </tr>\n",
       "  </thead>\n",
       "  <tbody>\n",
       "  </tbody>\n",
       "</table>\n",
       "</div>"
      ],
      "text/plain": [
       "Empty DataFrame\n",
       "Columns: [main_tweet_id, response_tweet_id, user_id, in_reply_to_status_id, in_reply_to_user_id, response_tweet_text, retweet_count, favorite_count, label, time_posted, date_posted]\n",
       "Index: []"
      ]
     },
     "metadata": {},
     "output_type": "display_data"
    }
   ],
   "source": [
    "display(germanwings_crash_r_res[germanwings_crash_r_res['main_tweet_id']=='580328783619579904'])"
   ]
  },
  {
   "cell_type": "code",
   "execution_count": 60,
   "id": "fa845d81-d11a-4942-b066-0d1984150cb7",
   "metadata": {},
   "outputs": [],
   "source": [
    "df_time = pd.DataFrame()"
   ]
  },
  {
   "cell_type": "code",
   "execution_count": 77,
   "id": "73d07141-a87e-49b5-b1ed-036e8d297fc4",
   "metadata": {
    "scrolled": true
   },
   "outputs": [
    {
     "name": "stdout",
     "output_type": "stream",
     "text": [
      "User 581066887200694272 not found\n",
      "User 580885455257882624 not found\n",
      "User 580350166005248000 not found\n",
      "User 580328783619579904 not found\n",
      "User 580327924978569216 not found\n",
      "User 580372806178881537 not found\n",
      "User 580347361039413248 not found\n",
      "User 580336766663540736 not found\n",
      "User 581293685041557504 not found\n",
      "User 580346392431968257 not found\n",
      "User 580344171019542528 not found\n",
      "User 580353449721655296 not found\n",
      "User 580321925265788928 not found\n",
      "User 581064157870555136 not found\n",
      "User 580320995266936832 not found\n",
      "User 580338546856235009 not found\n",
      "User 580322782392762368 not found\n",
      "User 580346142183002113 not found\n",
      "User 580885187837325312 not found\n",
      "User 581357303405813760 not found\n",
      "User 580324985148932097 not found\n",
      "User 580321317527879680 not found\n",
      "User 580368137796743168 not found\n",
      "User 580347364562587649 not found\n",
      "User 581317224096387072 not found\n",
      "User 580331453889708032 not found\n",
      "User 580327626419482624 not found\n",
      "User 580347464907153408 not found\n",
      "User 580326762673901568 not found\n",
      "User 580329560350183424 not found\n",
      "User 580357700791468032 not found\n",
      "User 580328617713897472 not found\n",
      "User 580333028624457728 not found\n",
      "User 580322005280493568 not found\n",
      "User 580323315614543873 not found\n",
      "User 581291208506376192 not found\n",
      "<class 'pandas.core.frame.DataFrame'>\n",
      "RangeIndex: 238 entries, 0 to 237\n",
      "Data columns (total 10 columns):\n",
      " #   Column            Non-Null Count  Dtype \n",
      "---  ------            --------------  ----- \n",
      " 0   user_id           238 non-null    object\n",
      " 1   tweet_id          238 non-null    object\n",
      " 2   tweet_text        238 non-null    object\n",
      " 3   retweet_count     238 non-null    int64 \n",
      " 4   favorite_count    238 non-null    int64 \n",
      " 5   followers_count   238 non-null    int64 \n",
      " 6   friends_count     238 non-null    int64 \n",
      " 7   verified          238 non-null    int64 \n",
      " 8   label             238 non-null    int64 \n",
      " 9   time_delay (min)  238 non-null    object\n",
      "dtypes: int64(6), object(4)\n",
      "memory usage: 18.7+ KB\n"
     ]
    }
   ],
   "source": [
    "germanwings_s_rumors = set_time_delay(germanwings_s_rumors, germanwings_crash_r_res)\n",
    "germanwings_s_rumors.info()"
   ]
  },
  {
   "cell_type": "markdown",
   "id": "cb7cc94d-f5fd-43ba-97a3-40d23210b757",
   "metadata": {
    "jp-MarkdownHeadingCollapsed": true
   },
   "source": [
    "#### Charlie"
   ]
  },
  {
   "cell_type": "code",
   "execution_count": 80,
   "id": "231e9ff3-6cd1-4a4a-9616-04578e754fcc",
   "metadata": {},
   "outputs": [
    {
     "name": "stdout",
     "output_type": "stream",
     "text": [
      "First folder name: 553487971497041920\n",
      "<class 'pandas.core.frame.DataFrame'>\n",
      "RangeIndex: 458 entries, 0 to 457\n",
      "Data columns (total 10 columns):\n",
      " #   Column           Non-Null Count  Dtype \n",
      "---  ------           --------------  ----- \n",
      " 0   user_id          458 non-null    object\n",
      " 1   tweet_id         458 non-null    object\n",
      " 2   tweet_text       458 non-null    object\n",
      " 3   retweet_count    458 non-null    int64 \n",
      " 4   favorite_count   458 non-null    int64 \n",
      " 5   followers_count  458 non-null    int64 \n",
      " 6   friends_count    458 non-null    int64 \n",
      " 7   verified         458 non-null    int64 \n",
      " 8   created_at       458 non-null    object\n",
      " 9   label            458 non-null    int64 \n",
      "dtypes: int64(6), object(4)\n",
      "memory usage: 35.9+ KB\n"
     ]
    },
    {
     "name": "stderr",
     "output_type": "stream",
     "text": [
      "/tmp/ipykernel_285630/1796586709.py:58: FutureWarning: Downcasting behavior in `replace` is deprecated and will be removed in a future version. To retain the old behavior, explicitly call `result.infer_objects(copy=False)`. To opt-in to the future behavior, set `pd.set_option('future.no_silent_downcasting', True)`\n",
      "  df['label'] = df['label'].replace({'rumor': 1, 'non-rumor': 0})\n",
      "/tmp/ipykernel_285630/1796586709.py:59: FutureWarning: Downcasting behavior in `replace` is deprecated and will be removed in a future version. To retain the old behavior, explicitly call `result.infer_objects(copy=False)`. To opt-in to the future behavior, set `pd.set_option('future.no_silent_downcasting', True)`\n",
      "  df['verified'] = df['verified'].replace({True: 1, False: 0})\n"
     ]
    }
   ],
   "source": [
    "charlie_source_df = fetch_source_df('charliehebdo', 'rumours')\n",
    "charlie_source_df.info()"
   ]
  },
  {
   "cell_type": "code",
   "execution_count": 81,
   "id": "51484dfc-dc71-4ee3-b6e7-82cac4a214db",
   "metadata": {},
   "outputs": [
    {
     "name": "stdout",
     "output_type": "stream",
     "text": [
      "<class 'pandas.core.frame.DataFrame'>\n",
      "RangeIndex: 6887 entries, 0 to 6886\n",
      "Data columns (total 10 columns):\n",
      " #   Column                 Non-Null Count  Dtype \n",
      "---  ------                 --------------  ----- \n",
      " 0   main_tweet_id          6887 non-null   object\n",
      " 1   response_tweet_id      6887 non-null   object\n",
      " 2   user_id                6887 non-null   object\n",
      " 3   in_reply_to_status_id  6887 non-null   object\n",
      " 4   in_reply_to_user_id    6887 non-null   object\n",
      " 5   response_tweet_text    6887 non-null   object\n",
      " 6   retweet_count          6887 non-null   int64 \n",
      " 7   favorite_count         6887 non-null   int64 \n",
      " 8   response_created_at    6887 non-null   object\n",
      " 9   label                  6887 non-null   int64 \n",
      "dtypes: int64(3), object(7)\n",
      "memory usage: 538.2+ KB\n"
     ]
    },
    {
     "name": "stderr",
     "output_type": "stream",
     "text": [
      "/tmp/ipykernel_285630/3794510746.py:61: FutureWarning: Downcasting behavior in `replace` is deprecated and will be removed in a future version. To retain the old behavior, explicitly call `result.infer_objects(copy=False)`. To opt-in to the future behavior, set `pd.set_option('future.no_silent_downcasting', True)`\n",
      "  response_tweet_data['label'] = response_tweet_data['label'].replace({'rumour': 1, 'non-rumour': 0})\n"
     ]
    }
   ],
   "source": [
    "charlie_r_res = fetch_response_tweets('charliehebdo', 'rumours','rumour')\n",
    "charlie_r_res.info()"
   ]
  },
  {
   "cell_type": "code",
   "execution_count": 82,
   "id": "4cad872a-ee3f-4dbf-b425-3977d1716a20",
   "metadata": {
    "scrolled": true
   },
   "outputs": [
    {
     "name": "stdout",
     "output_type": "stream",
     "text": [
      "<class 'pandas.core.frame.DataFrame'>\n",
      "RangeIndex: 458 entries, 0 to 457\n",
      "Data columns (total 11 columns):\n",
      " #   Column           Non-Null Count  Dtype \n",
      "---  ------           --------------  ----- \n",
      " 0   user_id          458 non-null    object\n",
      " 1   tweet_id         458 non-null    object\n",
      " 2   tweet_text       458 non-null    object\n",
      " 3   retweet_count    458 non-null    int64 \n",
      " 4   favorite_count   458 non-null    int64 \n",
      " 5   followers_count  458 non-null    int64 \n",
      " 6   friends_count    458 non-null    int64 \n",
      " 7   verified         458 non-null    int64 \n",
      " 8   label            458 non-null    int64 \n",
      " 9   time_posted      458 non-null    object\n",
      " 10  date_posted      458 non-null    object\n",
      "dtypes: int64(6), object(5)\n",
      "memory usage: 39.5+ KB\n"
     ]
    }
   ],
   "source": [
    "charlie_source_df = add_date_time(charlie_source_df, 'created_at')\n",
    "charlie_source_df.info()"
   ]
  },
  {
   "cell_type": "code",
   "execution_count": 85,
   "id": "20913a4b-44eb-4b51-9d96-3e6cb5c96275",
   "metadata": {},
   "outputs": [
    {
     "name": "stdout",
     "output_type": "stream",
     "text": [
      "<class 'pandas.core.frame.DataFrame'>\n",
      "RangeIndex: 6887 entries, 0 to 6886\n",
      "Data columns (total 11 columns):\n",
      " #   Column                 Non-Null Count  Dtype \n",
      "---  ------                 --------------  ----- \n",
      " 0   main_tweet_id          6887 non-null   object\n",
      " 1   response_tweet_id      6887 non-null   object\n",
      " 2   user_id                6887 non-null   object\n",
      " 3   in_reply_to_status_id  6887 non-null   object\n",
      " 4   in_reply_to_user_id    6887 non-null   object\n",
      " 5   response_tweet_text    6887 non-null   object\n",
      " 6   retweet_count          6887 non-null   int64 \n",
      " 7   favorite_count         6887 non-null   int64 \n",
      " 8   label                  6887 non-null   int64 \n",
      " 9   time_posted            6887 non-null   object\n",
      " 10  date_posted            6887 non-null   object\n",
      "dtypes: int64(3), object(8)\n",
      "memory usage: 592.0+ KB\n"
     ]
    }
   ],
   "source": [
    "charlie_r_res = add_date_time(charlie_r_res, 'response_created_at')\n",
    "charlie_r_res.info()"
   ]
  },
  {
   "cell_type": "code",
   "execution_count": 87,
   "id": "5f3ba9b6-f216-43d9-8250-d096e6d262f1",
   "metadata": {},
   "outputs": [
    {
     "name": "stdout",
     "output_type": "stream",
     "text": [
      "<class 'pandas.core.frame.DataFrame'>\n",
      "RangeIndex: 458 entries, 0 to 457\n",
      "Data columns (total 10 columns):\n",
      " #   Column            Non-Null Count  Dtype \n",
      "---  ------            --------------  ----- \n",
      " 0   user_id           458 non-null    object\n",
      " 1   tweet_id          458 non-null    object\n",
      " 2   tweet_text        458 non-null    object\n",
      " 3   retweet_count     458 non-null    int64 \n",
      " 4   favorite_count    458 non-null    int64 \n",
      " 5   followers_count   458 non-null    int64 \n",
      " 6   friends_count     458 non-null    int64 \n",
      " 7   verified          458 non-null    int64 \n",
      " 8   label             458 non-null    int64 \n",
      " 9   time_delay (min)  458 non-null    object\n",
      "dtypes: int64(6), object(4)\n",
      "memory usage: 35.9+ KB\n"
     ]
    }
   ],
   "source": [
    "charlie_source_df = set_time_delay(charlie_source_df, charlie_r_res)\n",
    "charlie_source_df.info()"
   ]
  },
  {
   "cell_type": "markdown",
   "id": "cc61e721-a9e6-4367-8eba-92f115d5582a",
   "metadata": {
    "jp-MarkdownHeadingCollapsed": true
   },
   "source": [
    "#### Ottawa"
   ]
  },
  {
   "cell_type": "code",
   "execution_count": 88,
   "id": "b387b76e-8576-4460-9be9-ca53bbe034b1",
   "metadata": {
    "scrolled": true
   },
   "outputs": [
    {
     "name": "stdout",
     "output_type": "stream",
     "text": [
      "First folder name: 524944399890124801\n",
      "<class 'pandas.core.frame.DataFrame'>\n",
      "RangeIndex: 470 entries, 0 to 469\n",
      "Data columns (total 10 columns):\n",
      " #   Column           Non-Null Count  Dtype \n",
      "---  ------           --------------  ----- \n",
      " 0   user_id          470 non-null    object\n",
      " 1   tweet_id         470 non-null    object\n",
      " 2   tweet_text       470 non-null    object\n",
      " 3   retweet_count    470 non-null    int64 \n",
      " 4   favorite_count   470 non-null    int64 \n",
      " 5   followers_count  470 non-null    int64 \n",
      " 6   friends_count    470 non-null    int64 \n",
      " 7   verified         470 non-null    int64 \n",
      " 8   created_at       470 non-null    object\n",
      " 9   label            470 non-null    int64 \n",
      "dtypes: int64(6), object(4)\n",
      "memory usage: 36.8+ KB\n"
     ]
    },
    {
     "name": "stderr",
     "output_type": "stream",
     "text": [
      "/tmp/ipykernel_285630/1796586709.py:58: FutureWarning: Downcasting behavior in `replace` is deprecated and will be removed in a future version. To retain the old behavior, explicitly call `result.infer_objects(copy=False)`. To opt-in to the future behavior, set `pd.set_option('future.no_silent_downcasting', True)`\n",
      "  df['label'] = df['label'].replace({'rumor': 1, 'non-rumor': 0})\n",
      "/tmp/ipykernel_285630/1796586709.py:59: FutureWarning: Downcasting behavior in `replace` is deprecated and will be removed in a future version. To retain the old behavior, explicitly call `result.infer_objects(copy=False)`. To opt-in to the future behavior, set `pd.set_option('future.no_silent_downcasting', True)`\n",
      "  df['verified'] = df['verified'].replace({True: 1, False: 0})\n"
     ]
    }
   ],
   "source": [
    "ottawa_rs_df = fetch_source_df('ottawashooting', 'rumours')\n",
    "ottawa_rs_df.info()"
   ]
  },
  {
   "cell_type": "code",
   "execution_count": 91,
   "id": "d94d764a-304e-410c-be36-a593e290edd3",
   "metadata": {
    "scrolled": true
   },
   "outputs": [
    {
     "name": "stdout",
     "output_type": "stream",
     "text": [
      "<class 'pandas.core.frame.DataFrame'>\n",
      "RangeIndex: 5966 entries, 0 to 5965\n",
      "Data columns (total 10 columns):\n",
      " #   Column                 Non-Null Count  Dtype \n",
      "---  ------                 --------------  ----- \n",
      " 0   main_tweet_id          5966 non-null   object\n",
      " 1   response_tweet_id      5966 non-null   object\n",
      " 2   user_id                5966 non-null   object\n",
      " 3   in_reply_to_status_id  5966 non-null   object\n",
      " 4   in_reply_to_user_id    5966 non-null   object\n",
      " 5   response_tweet_text    5966 non-null   object\n",
      " 6   retweet_count          5966 non-null   int64 \n",
      " 7   favorite_count         5966 non-null   int64 \n",
      " 8   response_created_at    5966 non-null   object\n",
      " 9   label                  5966 non-null   int64 \n",
      "dtypes: int64(3), object(7)\n",
      "memory usage: 466.2+ KB\n"
     ]
    },
    {
     "name": "stderr",
     "output_type": "stream",
     "text": [
      "/tmp/ipykernel_285630/3794510746.py:61: FutureWarning: Downcasting behavior in `replace` is deprecated and will be removed in a future version. To retain the old behavior, explicitly call `result.infer_objects(copy=False)`. To opt-in to the future behavior, set `pd.set_option('future.no_silent_downcasting', True)`\n",
      "  response_tweet_data['label'] = response_tweet_data['label'].replace({'rumour': 1, 'non-rumour': 0})\n"
     ]
    }
   ],
   "source": [
    "ottawa_r_res = fetch_response_tweets('ottawashooting', 'rumours','rumour')\n",
    "ottawa_r_res.info()"
   ]
  },
  {
   "cell_type": "code",
   "execution_count": 93,
   "id": "979bb2ce-bfc9-401e-a640-0e6367408df9",
   "metadata": {
    "scrolled": true
   },
   "outputs": [
    {
     "name": "stdout",
     "output_type": "stream",
     "text": [
      "<class 'pandas.core.frame.DataFrame'>\n",
      "RangeIndex: 470 entries, 0 to 469\n",
      "Data columns (total 11 columns):\n",
      " #   Column           Non-Null Count  Dtype \n",
      "---  ------           --------------  ----- \n",
      " 0   user_id          470 non-null    object\n",
      " 1   tweet_id         470 non-null    object\n",
      " 2   tweet_text       470 non-null    object\n",
      " 3   retweet_count    470 non-null    int64 \n",
      " 4   favorite_count   470 non-null    int64 \n",
      " 5   followers_count  470 non-null    int64 \n",
      " 6   friends_count    470 non-null    int64 \n",
      " 7   verified         470 non-null    int64 \n",
      " 8   label            470 non-null    int64 \n",
      " 9   time_posted      470 non-null    object\n",
      " 10  date_posted      470 non-null    object\n",
      "dtypes: int64(6), object(5)\n",
      "memory usage: 40.5+ KB\n"
     ]
    }
   ],
   "source": [
    "ottawa_rs_df = add_date_time(ottawa_rs_df, 'created_at')\n",
    "ottawa_rs_df.info()"
   ]
  },
  {
   "cell_type": "code",
   "execution_count": 94,
   "id": "dfea176b-51ad-44b3-8564-42398a9beb3b",
   "metadata": {
    "scrolled": true
   },
   "outputs": [
    {
     "name": "stdout",
     "output_type": "stream",
     "text": [
      "<class 'pandas.core.frame.DataFrame'>\n",
      "RangeIndex: 5966 entries, 0 to 5965\n",
      "Data columns (total 11 columns):\n",
      " #   Column                 Non-Null Count  Dtype \n",
      "---  ------                 --------------  ----- \n",
      " 0   main_tweet_id          5966 non-null   object\n",
      " 1   response_tweet_id      5966 non-null   object\n",
      " 2   user_id                5966 non-null   object\n",
      " 3   in_reply_to_status_id  5966 non-null   object\n",
      " 4   in_reply_to_user_id    5966 non-null   object\n",
      " 5   response_tweet_text    5966 non-null   object\n",
      " 6   retweet_count          5966 non-null   int64 \n",
      " 7   favorite_count         5966 non-null   int64 \n",
      " 8   label                  5966 non-null   int64 \n",
      " 9   time_posted            5966 non-null   object\n",
      " 10  date_posted            5966 non-null   object\n",
      "dtypes: int64(3), object(8)\n",
      "memory usage: 512.8+ KB\n"
     ]
    }
   ],
   "source": [
    "ottawa_r_res = add_date_time(ottawa_r_res, 'response_created_at')\n",
    "ottawa_r_res.info()"
   ]
  },
  {
   "cell_type": "code",
   "execution_count": 121,
   "id": "08ca15e1-3d76-490e-84db-ed9606d76919",
   "metadata": {},
   "outputs": [
    {
     "name": "stdout",
     "output_type": "stream",
     "text": [
      "<class 'pandas.core.frame.DataFrame'>\n",
      "RangeIndex: 470 entries, 0 to 469\n",
      "Data columns (total 10 columns):\n",
      " #   Column            Non-Null Count  Dtype \n",
      "---  ------            --------------  ----- \n",
      " 0   user_id           470 non-null    object\n",
      " 1   tweet_id          470 non-null    object\n",
      " 2   tweet_text        470 non-null    object\n",
      " 3   retweet_count     470 non-null    int64 \n",
      " 4   favorite_count    470 non-null    int64 \n",
      " 5   followers_count   470 non-null    int64 \n",
      " 6   friends_count     470 non-null    int64 \n",
      " 7   verified          470 non-null    int64 \n",
      " 8   label             470 non-null    int64 \n",
      " 9   time_delay (min)  470 non-null    object\n",
      "dtypes: int64(6), object(4)\n",
      "memory usage: 36.8+ KB\n"
     ]
    }
   ],
   "source": [
    "ottawa_rs_df = set_time_delay(ottawa_rs_df, ottawa_r_res)\n",
    "ottawa_rs_df.info()"
   ]
  },
  {
   "cell_type": "markdown",
   "id": "704ce153-57b9-4b79-874d-b63eb3d58491",
   "metadata": {
    "jp-MarkdownHeadingCollapsed": true
   },
   "source": [
    "#### Ferguson"
   ]
  },
  {
   "cell_type": "code",
   "execution_count": 140,
   "id": "8cf204b5-212f-4aa2-89d9-2dc4ad93fc83",
   "metadata": {},
   "outputs": [
    {
     "name": "stdout",
     "output_type": "stream",
     "text": [
      "First folder name: 500291013521334272\n",
      "<class 'pandas.core.frame.DataFrame'>\n",
      "RangeIndex: 284 entries, 0 to 283\n",
      "Data columns (total 10 columns):\n",
      " #   Column           Non-Null Count  Dtype \n",
      "---  ------           --------------  ----- \n",
      " 0   user_id          284 non-null    object\n",
      " 1   tweet_id         284 non-null    object\n",
      " 2   tweet_text       284 non-null    object\n",
      " 3   retweet_count    284 non-null    int64 \n",
      " 4   favorite_count   284 non-null    int64 \n",
      " 5   followers_count  284 non-null    int64 \n",
      " 6   friends_count    284 non-null    int64 \n",
      " 7   verified         284 non-null    int64 \n",
      " 8   created_at       284 non-null    object\n",
      " 9   label            284 non-null    int64 \n",
      "dtypes: int64(6), object(4)\n",
      "memory usage: 22.3+ KB\n"
     ]
    },
    {
     "name": "stderr",
     "output_type": "stream",
     "text": [
      "/tmp/ipykernel_285630/1796586709.py:58: FutureWarning: Downcasting behavior in `replace` is deprecated and will be removed in a future version. To retain the old behavior, explicitly call `result.infer_objects(copy=False)`. To opt-in to the future behavior, set `pd.set_option('future.no_silent_downcasting', True)`\n",
      "  df['label'] = df['label'].replace({'rumor': 1, 'non-rumor': 0})\n",
      "/tmp/ipykernel_285630/1796586709.py:59: FutureWarning: Downcasting behavior in `replace` is deprecated and will be removed in a future version. To retain the old behavior, explicitly call `result.infer_objects(copy=False)`. To opt-in to the future behavior, set `pd.set_option('future.no_silent_downcasting', True)`\n",
      "  df['verified'] = df['verified'].replace({True: 1, False: 0})\n"
     ]
    }
   ],
   "source": [
    "ferguson_rs_df = fetch_source_df('ferguson', 'rumours')\n",
    "ferguson_rs_df.info()"
   ]
  },
  {
   "cell_type": "code",
   "execution_count": 141,
   "id": "f70eefa0-1f70-4b3a-ae1d-f1c9fc1d2a7c",
   "metadata": {
    "scrolled": true
   },
   "outputs": [
    {
     "name": "stdout",
     "output_type": "stream",
     "text": [
      "<class 'pandas.core.frame.DataFrame'>\n",
      "RangeIndex: 6195 entries, 0 to 6194\n",
      "Data columns (total 10 columns):\n",
      " #   Column                 Non-Null Count  Dtype \n",
      "---  ------                 --------------  ----- \n",
      " 0   main_tweet_id          6195 non-null   object\n",
      " 1   response_tweet_id      6195 non-null   object\n",
      " 2   user_id                6195 non-null   object\n",
      " 3   in_reply_to_status_id  6195 non-null   object\n",
      " 4   in_reply_to_user_id    6195 non-null   object\n",
      " 5   response_tweet_text    6195 non-null   object\n",
      " 6   retweet_count          6195 non-null   int64 \n",
      " 7   favorite_count         6195 non-null   int64 \n",
      " 8   response_created_at    6195 non-null   object\n",
      " 9   label                  6195 non-null   int64 \n",
      "dtypes: int64(3), object(7)\n",
      "memory usage: 484.1+ KB\n"
     ]
    },
    {
     "name": "stderr",
     "output_type": "stream",
     "text": [
      "/tmp/ipykernel_285630/3794510746.py:61: FutureWarning: Downcasting behavior in `replace` is deprecated and will be removed in a future version. To retain the old behavior, explicitly call `result.infer_objects(copy=False)`. To opt-in to the future behavior, set `pd.set_option('future.no_silent_downcasting', True)`\n",
      "  response_tweet_data['label'] = response_tweet_data['label'].replace({'rumour': 1, 'non-rumour': 0})\n"
     ]
    }
   ],
   "source": [
    "ferguson_r_res = fetch_response_tweets('ferguson', 'rumours','rumour')\n",
    "ferguson_r_res.info()"
   ]
  },
  {
   "cell_type": "code",
   "execution_count": 142,
   "id": "d1e63f8a-10c2-4c3c-9479-4e0b19304889",
   "metadata": {},
   "outputs": [
    {
     "name": "stdout",
     "output_type": "stream",
     "text": [
      "<class 'pandas.core.frame.DataFrame'>\n",
      "RangeIndex: 284 entries, 0 to 283\n",
      "Data columns (total 11 columns):\n",
      " #   Column           Non-Null Count  Dtype \n",
      "---  ------           --------------  ----- \n",
      " 0   user_id          284 non-null    object\n",
      " 1   tweet_id         284 non-null    object\n",
      " 2   tweet_text       284 non-null    object\n",
      " 3   retweet_count    284 non-null    int64 \n",
      " 4   favorite_count   284 non-null    int64 \n",
      " 5   followers_count  284 non-null    int64 \n",
      " 6   friends_count    284 non-null    int64 \n",
      " 7   verified         284 non-null    int64 \n",
      " 8   label            284 non-null    int64 \n",
      " 9   time_posted      284 non-null    object\n",
      " 10  date_posted      284 non-null    object\n",
      "dtypes: int64(6), object(5)\n",
      "memory usage: 24.5+ KB\n"
     ]
    }
   ],
   "source": [
    "ferguson_rs_df = add_date_time(ferguson_rs_df, 'created_at')\n",
    "ferguson_rs_df.info()"
   ]
  },
  {
   "cell_type": "code",
   "execution_count": 143,
   "id": "890b0f70-6b04-4701-a2bd-868191a7dcb8",
   "metadata": {
    "scrolled": true
   },
   "outputs": [
    {
     "name": "stdout",
     "output_type": "stream",
     "text": [
      "<class 'pandas.core.frame.DataFrame'>\n",
      "RangeIndex: 6195 entries, 0 to 6194\n",
      "Data columns (total 11 columns):\n",
      " #   Column                 Non-Null Count  Dtype \n",
      "---  ------                 --------------  ----- \n",
      " 0   main_tweet_id          6195 non-null   object\n",
      " 1   response_tweet_id      6195 non-null   object\n",
      " 2   user_id                6195 non-null   object\n",
      " 3   in_reply_to_status_id  6195 non-null   object\n",
      " 4   in_reply_to_user_id    6195 non-null   object\n",
      " 5   response_tweet_text    6195 non-null   object\n",
      " 6   retweet_count          6195 non-null   int64 \n",
      " 7   favorite_count         6195 non-null   int64 \n",
      " 8   label                  6195 non-null   int64 \n",
      " 9   time_posted            6195 non-null   object\n",
      " 10  date_posted            6195 non-null   object\n",
      "dtypes: int64(3), object(8)\n",
      "memory usage: 532.5+ KB\n"
     ]
    }
   ],
   "source": [
    "ferguson_r_res = add_date_time(ferguson_r_res, 'response_created_at')\n",
    "ferguson_r_res.info()"
   ]
  },
  {
   "cell_type": "code",
   "execution_count": 144,
   "id": "8479624b-361a-49a3-82c5-aa5d0b473860",
   "metadata": {},
   "outputs": [
    {
     "name": "stdout",
     "output_type": "stream",
     "text": [
      "<class 'pandas.core.frame.DataFrame'>\n",
      "RangeIndex: 284 entries, 0 to 283\n",
      "Data columns (total 10 columns):\n",
      " #   Column            Non-Null Count  Dtype \n",
      "---  ------            --------------  ----- \n",
      " 0   user_id           284 non-null    object\n",
      " 1   tweet_id          284 non-null    object\n",
      " 2   tweet_text        284 non-null    object\n",
      " 3   retweet_count     284 non-null    int64 \n",
      " 4   favorite_count    284 non-null    int64 \n",
      " 5   followers_count   284 non-null    int64 \n",
      " 6   friends_count     284 non-null    int64 \n",
      " 7   verified          284 non-null    int64 \n",
      " 8   label             284 non-null    int64 \n",
      " 9   time_delay (min)  284 non-null    object\n",
      "dtypes: int64(6), object(4)\n",
      "memory usage: 22.3+ KB\n"
     ]
    }
   ],
   "source": [
    "ferguson_rs_df = set_time_delay(ferguson_rs_df, ferguson_r_res)\n",
    "ferguson_rs_df.info()"
   ]
  },
  {
   "cell_type": "markdown",
   "id": "2211d125-95ae-4206-aef8-a1260daa6855",
   "metadata": {
    "jp-MarkdownHeadingCollapsed": true
   },
   "source": [
    "#### Sydney"
   ]
  },
  {
   "cell_type": "code",
   "execution_count": 100,
   "id": "a251ca8c-9d9c-4d1b-b297-d7da89f98869",
   "metadata": {
    "scrolled": true
   },
   "outputs": [
    {
     "name": "stdout",
     "output_type": "stream",
     "text": [
      "First folder name: 544284823041212416\n",
      "<class 'pandas.core.frame.DataFrame'>\n",
      "RangeIndex: 522 entries, 0 to 521\n",
      "Data columns (total 10 columns):\n",
      " #   Column           Non-Null Count  Dtype \n",
      "---  ------           --------------  ----- \n",
      " 0   user_id          522 non-null    object\n",
      " 1   tweet_id         522 non-null    object\n",
      " 2   tweet_text       522 non-null    object\n",
      " 3   retweet_count    522 non-null    int64 \n",
      " 4   favorite_count   522 non-null    int64 \n",
      " 5   followers_count  522 non-null    int64 \n",
      " 6   friends_count    522 non-null    int64 \n",
      " 7   verified         522 non-null    int64 \n",
      " 8   created_at       522 non-null    object\n",
      " 9   label            522 non-null    int64 \n",
      "dtypes: int64(6), object(4)\n",
      "memory usage: 40.9+ KB\n"
     ]
    },
    {
     "name": "stderr",
     "output_type": "stream",
     "text": [
      "/tmp/ipykernel_285630/1796586709.py:58: FutureWarning: Downcasting behavior in `replace` is deprecated and will be removed in a future version. To retain the old behavior, explicitly call `result.infer_objects(copy=False)`. To opt-in to the future behavior, set `pd.set_option('future.no_silent_downcasting', True)`\n",
      "  df['label'] = df['label'].replace({'rumor': 1, 'non-rumor': 0})\n",
      "/tmp/ipykernel_285630/1796586709.py:59: FutureWarning: Downcasting behavior in `replace` is deprecated and will be removed in a future version. To retain the old behavior, explicitly call `result.infer_objects(copy=False)`. To opt-in to the future behavior, set `pd.set_option('future.no_silent_downcasting', True)`\n",
      "  df['verified'] = df['verified'].replace({True: 1, False: 0})\n"
     ]
    }
   ],
   "source": [
    "sydney_sr = fetch_source_df('sydneysiege', 'rumours')\n",
    "sydney_sr.info()"
   ]
  },
  {
   "cell_type": "code",
   "execution_count": 101,
   "id": "a5b274e7-6bca-4a1f-9f1c-08d88514130f",
   "metadata": {
    "scrolled": true
   },
   "outputs": [
    {
     "name": "stdout",
     "output_type": "stream",
     "text": [
      "<class 'pandas.core.frame.DataFrame'>\n",
      "RangeIndex: 8154 entries, 0 to 8153\n",
      "Data columns (total 10 columns):\n",
      " #   Column                 Non-Null Count  Dtype \n",
      "---  ------                 --------------  ----- \n",
      " 0   main_tweet_id          8154 non-null   object\n",
      " 1   response_tweet_id      8154 non-null   object\n",
      " 2   user_id                8154 non-null   object\n",
      " 3   in_reply_to_status_id  8154 non-null   object\n",
      " 4   in_reply_to_user_id    8154 non-null   object\n",
      " 5   response_tweet_text    8154 non-null   object\n",
      " 6   retweet_count          8154 non-null   int64 \n",
      " 7   favorite_count         8154 non-null   int64 \n",
      " 8   response_created_at    8154 non-null   object\n",
      " 9   label                  8154 non-null   int64 \n",
      "dtypes: int64(3), object(7)\n",
      "memory usage: 637.2+ KB\n"
     ]
    },
    {
     "name": "stderr",
     "output_type": "stream",
     "text": [
      "/tmp/ipykernel_285630/3794510746.py:61: FutureWarning: Downcasting behavior in `replace` is deprecated and will be removed in a future version. To retain the old behavior, explicitly call `result.infer_objects(copy=False)`. To opt-in to the future behavior, set `pd.set_option('future.no_silent_downcasting', True)`\n",
      "  response_tweet_data['label'] = response_tweet_data['label'].replace({'rumour': 1, 'non-rumour': 0})\n"
     ]
    }
   ],
   "source": [
    "sydney_r_res = fetch_response_tweets('sydneysiege', 'rumours','rumour')\n",
    "sydney_r_res.info()"
   ]
  },
  {
   "cell_type": "code",
   "execution_count": 104,
   "id": "99fbaf41-0833-47e8-8a27-ccd1d9e6f407",
   "metadata": {
    "scrolled": true
   },
   "outputs": [
    {
     "name": "stdout",
     "output_type": "stream",
     "text": [
      "<class 'pandas.core.frame.DataFrame'>\n",
      "RangeIndex: 522 entries, 0 to 521\n",
      "Data columns (total 11 columns):\n",
      " #   Column           Non-Null Count  Dtype \n",
      "---  ------           --------------  ----- \n",
      " 0   user_id          522 non-null    object\n",
      " 1   tweet_id         522 non-null    object\n",
      " 2   tweet_text       522 non-null    object\n",
      " 3   retweet_count    522 non-null    int64 \n",
      " 4   favorite_count   522 non-null    int64 \n",
      " 5   followers_count  522 non-null    int64 \n",
      " 6   friends_count    522 non-null    int64 \n",
      " 7   verified         522 non-null    int64 \n",
      " 8   label            522 non-null    int64 \n",
      " 9   time_posted      522 non-null    object\n",
      " 10  date_posted      522 non-null    object\n",
      "dtypes: int64(6), object(5)\n",
      "memory usage: 45.0+ KB\n"
     ]
    }
   ],
   "source": [
    "sydney_sr = add_date_time(sydney_sr, 'created_at')\n",
    "sydney_sr.info()"
   ]
  },
  {
   "cell_type": "code",
   "execution_count": 103,
   "id": "103ab9a3-cb47-488d-a5fa-ac0db06ffa30",
   "metadata": {
    "scrolled": true
   },
   "outputs": [
    {
     "name": "stdout",
     "output_type": "stream",
     "text": [
      "<class 'pandas.core.frame.DataFrame'>\n",
      "RangeIndex: 8154 entries, 0 to 8153\n",
      "Data columns (total 11 columns):\n",
      " #   Column                 Non-Null Count  Dtype \n",
      "---  ------                 --------------  ----- \n",
      " 0   main_tweet_id          8154 non-null   object\n",
      " 1   response_tweet_id      8154 non-null   object\n",
      " 2   user_id                8154 non-null   object\n",
      " 3   in_reply_to_status_id  8154 non-null   object\n",
      " 4   in_reply_to_user_id    8154 non-null   object\n",
      " 5   response_tweet_text    8154 non-null   object\n",
      " 6   retweet_count          8154 non-null   int64 \n",
      " 7   favorite_count         8154 non-null   int64 \n",
      " 8   label                  8154 non-null   int64 \n",
      " 9   time_posted            8154 non-null   object\n",
      " 10  date_posted            8154 non-null   object\n",
      "dtypes: int64(3), object(8)\n",
      "memory usage: 700.9+ KB\n"
     ]
    }
   ],
   "source": [
    "sydney_r_res = add_date_time(sydney_r_res, 'response_created_at')\n",
    "sydney_r_res.info()"
   ]
  },
  {
   "cell_type": "code",
   "execution_count": 105,
   "id": "9c1e2a0b-7223-4659-b9a3-f3f5129dd050",
   "metadata": {
    "scrolled": true
   },
   "outputs": [
    {
     "name": "stdout",
     "output_type": "stream",
     "text": [
      "<class 'pandas.core.frame.DataFrame'>\n",
      "RangeIndex: 522 entries, 0 to 521\n",
      "Data columns (total 10 columns):\n",
      " #   Column            Non-Null Count  Dtype \n",
      "---  ------            --------------  ----- \n",
      " 0   user_id           522 non-null    object\n",
      " 1   tweet_id          522 non-null    object\n",
      " 2   tweet_text        522 non-null    object\n",
      " 3   retweet_count     522 non-null    int64 \n",
      " 4   favorite_count    522 non-null    int64 \n",
      " 5   followers_count   522 non-null    int64 \n",
      " 6   friends_count     522 non-null    int64 \n",
      " 7   verified          522 non-null    int64 \n",
      " 8   label             522 non-null    int64 \n",
      " 9   time_delay (min)  522 non-null    object\n",
      "dtypes: int64(6), object(4)\n",
      "memory usage: 40.9+ KB\n"
     ]
    }
   ],
   "source": [
    "sydney_sr = set_time_delay(sydney_sr, sydney_r_res)\n",
    "sydney_sr.info()"
   ]
  },
  {
   "cell_type": "code",
   "execution_count": 129,
   "id": "cc262907-3b92-4b92-b056-60a83bedba3b",
   "metadata": {},
   "outputs": [
    {
     "data": {
      "text/html": [
       "<div>\n",
       "<style scoped>\n",
       "    .dataframe tbody tr th:only-of-type {\n",
       "        vertical-align: middle;\n",
       "    }\n",
       "\n",
       "    .dataframe tbody tr th {\n",
       "        vertical-align: top;\n",
       "    }\n",
       "\n",
       "    .dataframe thead th {\n",
       "        text-align: right;\n",
       "    }\n",
       "</style>\n",
       "<table border=\"1\" class=\"dataframe\">\n",
       "  <thead>\n",
       "    <tr style=\"text-align: right;\">\n",
       "      <th></th>\n",
       "      <th>user_id</th>\n",
       "      <th>tweet_id</th>\n",
       "      <th>tweet_text</th>\n",
       "      <th>friends_count</th>\n",
       "      <th>followers_count</th>\n",
       "      <th>is_verified</th>\n",
       "      <th>created_at</th>\n",
       "      <th>label</th>\n",
       "    </tr>\n",
       "  </thead>\n",
       "  <tbody>\n",
       "    <tr>\n",
       "      <th>0</th>\n",
       "      <td>19038934</td>\n",
       "      <td>524944399890124801</td>\n",
       "      <td>Recap: Gunman shot dead inside Parliament buil...</td>\n",
       "      <td>264</td>\n",
       "      <td>366215</td>\n",
       "      <td>True</td>\n",
       "      <td>Wed Oct 22 15:24:32 +0000 2014</td>\n",
       "      <td>rumor</td>\n",
       "    </tr>\n",
       "    <tr>\n",
       "      <th>1</th>\n",
       "      <td>410334710</td>\n",
       "      <td>525023642007371776</td>\n",
       "      <td>Soldier killed at war memorial identified as N...</td>\n",
       "      <td>674</td>\n",
       "      <td>18803</td>\n",
       "      <td>True</td>\n",
       "      <td>Wed Oct 22 20:39:25 +0000 2014</td>\n",
       "      <td>rumor</td>\n",
       "    </tr>\n",
       "    <tr>\n",
       "      <th>2</th>\n",
       "      <td>8736882</td>\n",
       "      <td>525026219100995584</td>\n",
       "      <td>Soldier killed at war memorial identified as C...</td>\n",
       "      <td>415</td>\n",
       "      <td>543305</td>\n",
       "      <td>True</td>\n",
       "      <td>Wed Oct 22 20:49:39 +0000 2014</td>\n",
       "      <td>rumor</td>\n",
       "    </tr>\n",
       "    <tr>\n",
       "      <th>3</th>\n",
       "      <td>2097571</td>\n",
       "      <td>524945684966166528</td>\n",
       "      <td>BREAKING: Two or three gunmen were involved in...</td>\n",
       "      <td>373</td>\n",
       "      <td>2735682</td>\n",
       "      <td>True</td>\n",
       "      <td>Wed Oct 22 15:29:38 +0000 2014</td>\n",
       "      <td>rumor</td>\n",
       "    </tr>\n",
       "    <tr>\n",
       "      <th>4</th>\n",
       "      <td>19038934</td>\n",
       "      <td>525051365195014144</td>\n",
       "      <td>All 3 patients injured in #OttawaShooting rele...</td>\n",
       "      <td>264</td>\n",
       "      <td>366198</td>\n",
       "      <td>True</td>\n",
       "      <td>Wed Oct 22 22:29:35 +0000 2014</td>\n",
       "      <td>rumor</td>\n",
       "    </tr>\n",
       "  </tbody>\n",
       "</table>\n",
       "</div>"
      ],
      "text/plain": [
       "     user_id            tweet_id  \\\n",
       "0   19038934  524944399890124801   \n",
       "1  410334710  525023642007371776   \n",
       "2    8736882  525026219100995584   \n",
       "3    2097571  524945684966166528   \n",
       "4   19038934  525051365195014144   \n",
       "\n",
       "                                          tweet_text  friends_count  \\\n",
       "0  Recap: Gunman shot dead inside Parliament buil...            264   \n",
       "1  Soldier killed at war memorial identified as N...            674   \n",
       "2  Soldier killed at war memorial identified as C...            415   \n",
       "3  BREAKING: Two or three gunmen were involved in...            373   \n",
       "4  All 3 patients injured in #OttawaShooting rele...            264   \n",
       "\n",
       "   followers_count  is_verified                      created_at  label  \n",
       "0           366215         True  Wed Oct 22 15:24:32 +0000 2014  rumor  \n",
       "1            18803         True  Wed Oct 22 20:39:25 +0000 2014  rumor  \n",
       "2           543305         True  Wed Oct 22 20:49:39 +0000 2014  rumor  \n",
       "3          2735682         True  Wed Oct 22 15:29:38 +0000 2014  rumor  \n",
       "4           366198         True  Wed Oct 22 22:29:35 +0000 2014  rumor  "
      ]
     },
     "execution_count": 129,
     "metadata": {},
     "output_type": "execute_result"
    }
   ],
   "source": [
    "rumor_data.head()"
   ]
  },
  {
   "cell_type": "code",
   "execution_count": 103,
   "id": "90d779f4-eaad-4a2b-aaf4-cb2ae17e1595",
   "metadata": {},
   "outputs": [],
   "source": [
    "from datetime import datetime"
   ]
  },
  {
   "cell_type": "code",
   "execution_count": 144,
   "id": "eafa6e86-f7fc-40fa-a8a5-39d629f041d3",
   "metadata": {},
   "outputs": [
    {
     "name": "stdout",
     "output_type": "stream",
     "text": [
      "<class 'pandas.core.frame.DataFrame'>\n",
      "RangeIndex: 470 entries, 0 to 469\n",
      "Data columns (total 9 columns):\n",
      " #   Column           Non-Null Count  Dtype \n",
      "---  ------           --------------  ----- \n",
      " 0   user_id          470 non-null    int64 \n",
      " 1   tweet_id         470 non-null    int64 \n",
      " 2   tweet_text       470 non-null    object\n",
      " 3   friends_count    470 non-null    int64 \n",
      " 4   followers_count  470 non-null    int64 \n",
      " 5   is_verified      470 non-null    bool  \n",
      " 6   label            470 non-null    object\n",
      " 7   time_posted      470 non-null    object\n",
      " 8   date_posted      470 non-null    object\n",
      "dtypes: bool(1), int64(4), object(4)\n",
      "memory usage: 30.0+ KB\n"
     ]
    }
   ],
   "source": [
    "rumor_data = add_date_time(rumor_data, 'created_at')\n",
    "rumor_data.info()"
   ]
  },
  {
   "cell_type": "code",
   "execution_count": 136,
   "id": "614178c8-54f1-49e7-8fcb-5f4bac865633",
   "metadata": {},
   "outputs": [
    {
     "data": {
      "text/html": [
       "<div>\n",
       "<style scoped>\n",
       "    .dataframe tbody tr th:only-of-type {\n",
       "        vertical-align: middle;\n",
       "    }\n",
       "\n",
       "    .dataframe tbody tr th {\n",
       "        vertical-align: top;\n",
       "    }\n",
       "\n",
       "    .dataframe thead th {\n",
       "        text-align: right;\n",
       "    }\n",
       "</style>\n",
       "<table border=\"1\" class=\"dataframe\">\n",
       "  <thead>\n",
       "    <tr style=\"text-align: right;\">\n",
       "      <th></th>\n",
       "      <th>user_id</th>\n",
       "      <th>tweet_id</th>\n",
       "      <th>tweet_text</th>\n",
       "      <th>friends_count</th>\n",
       "      <th>followers_count</th>\n",
       "      <th>is_verified</th>\n",
       "      <th>label</th>\n",
       "      <th>time_posted</th>\n",
       "      <th>date_posted</th>\n",
       "    </tr>\n",
       "  </thead>\n",
       "  <tbody>\n",
       "    <tr>\n",
       "      <th>0</th>\n",
       "      <td>19038934</td>\n",
       "      <td>524944399890124801</td>\n",
       "      <td>Recap: Gunman shot dead inside Parliament buil...</td>\n",
       "      <td>264</td>\n",
       "      <td>366215</td>\n",
       "      <td>True</td>\n",
       "      <td>rumor</td>\n",
       "      <td>15:24:32</td>\n",
       "      <td>2014-10-22</td>\n",
       "    </tr>\n",
       "    <tr>\n",
       "      <th>1</th>\n",
       "      <td>410334710</td>\n",
       "      <td>525023642007371776</td>\n",
       "      <td>Soldier killed at war memorial identified as N...</td>\n",
       "      <td>674</td>\n",
       "      <td>18803</td>\n",
       "      <td>True</td>\n",
       "      <td>rumor</td>\n",
       "      <td>20:39:25</td>\n",
       "      <td>2014-10-22</td>\n",
       "    </tr>\n",
       "    <tr>\n",
       "      <th>2</th>\n",
       "      <td>8736882</td>\n",
       "      <td>525026219100995584</td>\n",
       "      <td>Soldier killed at war memorial identified as C...</td>\n",
       "      <td>415</td>\n",
       "      <td>543305</td>\n",
       "      <td>True</td>\n",
       "      <td>rumor</td>\n",
       "      <td>20:49:39</td>\n",
       "      <td>2014-10-22</td>\n",
       "    </tr>\n",
       "    <tr>\n",
       "      <th>3</th>\n",
       "      <td>2097571</td>\n",
       "      <td>524945684966166528</td>\n",
       "      <td>BREAKING: Two or three gunmen were involved in...</td>\n",
       "      <td>373</td>\n",
       "      <td>2735682</td>\n",
       "      <td>True</td>\n",
       "      <td>rumor</td>\n",
       "      <td>15:29:38</td>\n",
       "      <td>2014-10-22</td>\n",
       "    </tr>\n",
       "    <tr>\n",
       "      <th>4</th>\n",
       "      <td>19038934</td>\n",
       "      <td>525051365195014144</td>\n",
       "      <td>All 3 patients injured in #OttawaShooting rele...</td>\n",
       "      <td>264</td>\n",
       "      <td>366198</td>\n",
       "      <td>True</td>\n",
       "      <td>rumor</td>\n",
       "      <td>22:29:35</td>\n",
       "      <td>2014-10-22</td>\n",
       "    </tr>\n",
       "  </tbody>\n",
       "</table>\n",
       "</div>"
      ],
      "text/plain": [
       "     user_id            tweet_id  \\\n",
       "0   19038934  524944399890124801   \n",
       "1  410334710  525023642007371776   \n",
       "2    8736882  525026219100995584   \n",
       "3    2097571  524945684966166528   \n",
       "4   19038934  525051365195014144   \n",
       "\n",
       "                                          tweet_text  friends_count  \\\n",
       "0  Recap: Gunman shot dead inside Parliament buil...            264   \n",
       "1  Soldier killed at war memorial identified as N...            674   \n",
       "2  Soldier killed at war memorial identified as C...            415   \n",
       "3  BREAKING: Two or three gunmen were involved in...            373   \n",
       "4  All 3 patients injured in #OttawaShooting rele...            264   \n",
       "\n",
       "   followers_count  is_verified  label time_posted date_posted  \n",
       "0           366215         True  rumor    15:24:32  2014-10-22  \n",
       "1            18803         True  rumor    20:39:25  2014-10-22  \n",
       "2           543305         True  rumor    20:49:39  2014-10-22  \n",
       "3          2735682         True  rumor    15:29:38  2014-10-22  \n",
       "4           366198         True  rumor    22:29:35  2014-10-22  "
      ]
     },
     "execution_count": 136,
     "metadata": {},
     "output_type": "execute_result"
    }
   ],
   "source": [
    "rumor_data.head()"
   ]
  },
  {
   "cell_type": "code",
   "execution_count": 145,
   "id": "d729da3d-49bd-4ca6-b9d0-6b8f0e927f64",
   "metadata": {},
   "outputs": [
    {
     "data": {
      "text/html": [
       "<div>\n",
       "<style scoped>\n",
       "    .dataframe tbody tr th:only-of-type {\n",
       "        vertical-align: middle;\n",
       "    }\n",
       "\n",
       "    .dataframe tbody tr th {\n",
       "        vertical-align: top;\n",
       "    }\n",
       "\n",
       "    .dataframe thead th {\n",
       "        text-align: right;\n",
       "    }\n",
       "</style>\n",
       "<table border=\"1\" class=\"dataframe\">\n",
       "  <thead>\n",
       "    <tr style=\"text-align: right;\">\n",
       "      <th></th>\n",
       "      <th>main_tweet_id</th>\n",
       "      <th>user_id</th>\n",
       "      <th>response_tweet_id</th>\n",
       "      <th>response_created_at</th>\n",
       "    </tr>\n",
       "  </thead>\n",
       "  <tbody>\n",
       "    <tr>\n",
       "      <th>0</th>\n",
       "      <td>524944399890124801</td>\n",
       "      <td>183777979</td>\n",
       "      <td>524945108291297280</td>\n",
       "      <td>Wed Oct 22 15:27:21 +0000 2014</td>\n",
       "    </tr>\n",
       "    <tr>\n",
       "      <th>1</th>\n",
       "      <td>524944399890124801</td>\n",
       "      <td>265023219</td>\n",
       "      <td>524945130113863680</td>\n",
       "      <td>Wed Oct 22 15:27:26 +0000 2014</td>\n",
       "    </tr>\n",
       "    <tr>\n",
       "      <th>2</th>\n",
       "      <td>524944399890124801</td>\n",
       "      <td>225191038</td>\n",
       "      <td>524945376911314945</td>\n",
       "      <td>Wed Oct 22 15:28:25 +0000 2014</td>\n",
       "    </tr>\n",
       "    <tr>\n",
       "      <th>3</th>\n",
       "      <td>524944399890124801</td>\n",
       "      <td>728394116</td>\n",
       "      <td>524946532416884736</td>\n",
       "      <td>Wed Oct 22 15:33:01 +0000 2014</td>\n",
       "    </tr>\n",
       "    <tr>\n",
       "      <th>4</th>\n",
       "      <td>524944399890124801</td>\n",
       "      <td>161439565</td>\n",
       "      <td>524946767209459712</td>\n",
       "      <td>Wed Oct 22 15:33:57 +0000 2014</td>\n",
       "    </tr>\n",
       "  </tbody>\n",
       "</table>\n",
       "</div>"
      ],
      "text/plain": [
       "        main_tweet_id    user_id   response_tweet_id  \\\n",
       "0  524944399890124801  183777979  524945108291297280   \n",
       "1  524944399890124801  265023219  524945130113863680   \n",
       "2  524944399890124801  225191038  524945376911314945   \n",
       "3  524944399890124801  728394116  524946532416884736   \n",
       "4  524944399890124801  161439565  524946767209459712   \n",
       "\n",
       "              response_created_at  \n",
       "0  Wed Oct 22 15:27:21 +0000 2014  \n",
       "1  Wed Oct 22 15:27:26 +0000 2014  \n",
       "2  Wed Oct 22 15:28:25 +0000 2014  \n",
       "3  Wed Oct 22 15:33:01 +0000 2014  \n",
       "4  Wed Oct 22 15:33:57 +0000 2014  "
      ]
     },
     "execution_count": 145,
     "metadata": {},
     "output_type": "execute_result"
    }
   ],
   "source": [
    "rumor_responses = pd.read_csv('rumor_response_data.csv')\n",
    "rumor_responses.head()"
   ]
  },
  {
   "cell_type": "code",
   "execution_count": 139,
   "id": "2c2be610-edc5-445d-8448-306851e68ad0",
   "metadata": {},
   "outputs": [
    {
     "name": "stdout",
     "output_type": "stream",
     "text": [
      "<class 'pandas.core.frame.DataFrame'>\n",
      "RangeIndex: 5966 entries, 0 to 5965\n",
      "Data columns (total 5 columns):\n",
      " #   Column             Non-Null Count  Dtype \n",
      "---  ------             --------------  ----- \n",
      " 0   main_tweet_id      5966 non-null   int64 \n",
      " 1   user_id            5966 non-null   int64 \n",
      " 2   response_tweet_id  5966 non-null   int64 \n",
      " 3   time_posted        5966 non-null   object\n",
      " 4   date_posted        5966 non-null   object\n",
      "dtypes: int64(3), object(2)\n",
      "memory usage: 233.2+ KB\n"
     ]
    }
   ],
   "source": [
    "rumor_responses.info()"
   ]
  },
  {
   "cell_type": "code",
   "execution_count": 146,
   "id": "af9d6693-f9b9-4bfe-8738-a2f3b7b980b8",
   "metadata": {},
   "outputs": [
    {
     "data": {
      "text/html": [
       "<div>\n",
       "<style scoped>\n",
       "    .dataframe tbody tr th:only-of-type {\n",
       "        vertical-align: middle;\n",
       "    }\n",
       "\n",
       "    .dataframe tbody tr th {\n",
       "        vertical-align: top;\n",
       "    }\n",
       "\n",
       "    .dataframe thead th {\n",
       "        text-align: right;\n",
       "    }\n",
       "</style>\n",
       "<table border=\"1\" class=\"dataframe\">\n",
       "  <thead>\n",
       "    <tr style=\"text-align: right;\">\n",
       "      <th></th>\n",
       "      <th>main_tweet_id</th>\n",
       "      <th>user_id</th>\n",
       "      <th>response_tweet_id</th>\n",
       "      <th>time_posted</th>\n",
       "      <th>date_posted</th>\n",
       "    </tr>\n",
       "  </thead>\n",
       "  <tbody>\n",
       "    <tr>\n",
       "      <th>0</th>\n",
       "      <td>524944399890124801</td>\n",
       "      <td>183777979</td>\n",
       "      <td>524945108291297280</td>\n",
       "      <td>15:27:21</td>\n",
       "      <td>2014-10-22</td>\n",
       "    </tr>\n",
       "    <tr>\n",
       "      <th>1</th>\n",
       "      <td>524944399890124801</td>\n",
       "      <td>265023219</td>\n",
       "      <td>524945130113863680</td>\n",
       "      <td>15:27:26</td>\n",
       "      <td>2014-10-22</td>\n",
       "    </tr>\n",
       "    <tr>\n",
       "      <th>2</th>\n",
       "      <td>524944399890124801</td>\n",
       "      <td>225191038</td>\n",
       "      <td>524945376911314945</td>\n",
       "      <td>15:28:25</td>\n",
       "      <td>2014-10-22</td>\n",
       "    </tr>\n",
       "    <tr>\n",
       "      <th>3</th>\n",
       "      <td>524944399890124801</td>\n",
       "      <td>728394116</td>\n",
       "      <td>524946532416884736</td>\n",
       "      <td>15:33:01</td>\n",
       "      <td>2014-10-22</td>\n",
       "    </tr>\n",
       "    <tr>\n",
       "      <th>4</th>\n",
       "      <td>524944399890124801</td>\n",
       "      <td>161439565</td>\n",
       "      <td>524946767209459712</td>\n",
       "      <td>15:33:57</td>\n",
       "      <td>2014-10-22</td>\n",
       "    </tr>\n",
       "  </tbody>\n",
       "</table>\n",
       "</div>"
      ],
      "text/plain": [
       "        main_tweet_id    user_id   response_tweet_id time_posted date_posted\n",
       "0  524944399890124801  183777979  524945108291297280    15:27:21  2014-10-22\n",
       "1  524944399890124801  265023219  524945130113863680    15:27:26  2014-10-22\n",
       "2  524944399890124801  225191038  524945376911314945    15:28:25  2014-10-22\n",
       "3  524944399890124801  728394116  524946532416884736    15:33:01  2014-10-22\n",
       "4  524944399890124801  161439565  524946767209459712    15:33:57  2014-10-22"
      ]
     },
     "execution_count": 146,
     "metadata": {},
     "output_type": "execute_result"
    }
   ],
   "source": [
    "rumor_responses = add_date_time(rumor_responses, 'response_created_at')\n",
    "rumor_responses.head()"
   ]
  },
  {
   "cell_type": "code",
   "execution_count": 125,
   "id": "bbf0c7d0-fc80-4ab3-addd-b69c59964dd0",
   "metadata": {},
   "outputs": [
    {
     "data": {
      "text/html": [
       "<div>\n",
       "<style scoped>\n",
       "    .dataframe tbody tr th:only-of-type {\n",
       "        vertical-align: middle;\n",
       "    }\n",
       "\n",
       "    .dataframe tbody tr th {\n",
       "        vertical-align: top;\n",
       "    }\n",
       "\n",
       "    .dataframe thead th {\n",
       "        text-align: right;\n",
       "    }\n",
       "</style>\n",
       "<table border=\"1\" class=\"dataframe\">\n",
       "  <thead>\n",
       "    <tr style=\"text-align: right;\">\n",
       "      <th></th>\n",
       "      <th>main_tweet_id</th>\n",
       "      <th>user_id</th>\n",
       "      <th>response_tweet_id</th>\n",
       "      <th>time_posted</th>\n",
       "      <th>date_posted</th>\n",
       "    </tr>\n",
       "  </thead>\n",
       "  <tbody>\n",
       "    <tr>\n",
       "      <th>4684</th>\n",
       "      <td>525046462460477440</td>\n",
       "      <td>2669633142</td>\n",
       "      <td>525080115852873728</td>\n",
       "      <td>00:23:49</td>\n",
       "      <td>2014-10-23</td>\n",
       "    </tr>\n",
       "    <tr>\n",
       "      <th>4685</th>\n",
       "      <td>525046462460477440</td>\n",
       "      <td>915909072</td>\n",
       "      <td>525080661569589248</td>\n",
       "      <td>00:25:59</td>\n",
       "      <td>2014-10-23</td>\n",
       "    </tr>\n",
       "    <tr>\n",
       "      <th>4686</th>\n",
       "      <td>525046462460477440</td>\n",
       "      <td>249889994</td>\n",
       "      <td>525081424945496064</td>\n",
       "      <td>00:29:01</td>\n",
       "      <td>2014-10-23</td>\n",
       "    </tr>\n",
       "    <tr>\n",
       "      <th>4687</th>\n",
       "      <td>525046462460477440</td>\n",
       "      <td>1932263718</td>\n",
       "      <td>525081548983652352</td>\n",
       "      <td>00:29:31</td>\n",
       "      <td>2014-10-23</td>\n",
       "    </tr>\n",
       "    <tr>\n",
       "      <th>4688</th>\n",
       "      <td>525046462460477440</td>\n",
       "      <td>569188164</td>\n",
       "      <td>525083618700705792</td>\n",
       "      <td>00:37:44</td>\n",
       "      <td>2014-10-23</td>\n",
       "    </tr>\n",
       "    <tr>\n",
       "      <th>4689</th>\n",
       "      <td>525046462460477440</td>\n",
       "      <td>2373123864</td>\n",
       "      <td>525087902485999616</td>\n",
       "      <td>00:54:46</td>\n",
       "      <td>2014-10-23</td>\n",
       "    </tr>\n",
       "    <tr>\n",
       "      <th>4690</th>\n",
       "      <td>525046462460477440</td>\n",
       "      <td>383932808</td>\n",
       "      <td>525090768634257408</td>\n",
       "      <td>01:06:09</td>\n",
       "      <td>2014-10-23</td>\n",
       "    </tr>\n",
       "    <tr>\n",
       "      <th>4691</th>\n",
       "      <td>525046462460477440</td>\n",
       "      <td>1970429648</td>\n",
       "      <td>525092216772231170</td>\n",
       "      <td>01:11:54</td>\n",
       "      <td>2014-10-23</td>\n",
       "    </tr>\n",
       "    <tr>\n",
       "      <th>4692</th>\n",
       "      <td>525046462460477440</td>\n",
       "      <td>298598869</td>\n",
       "      <td>525092713180700672</td>\n",
       "      <td>01:13:53</td>\n",
       "      <td>2014-10-23</td>\n",
       "    </tr>\n",
       "    <tr>\n",
       "      <th>4693</th>\n",
       "      <td>525046462460477440</td>\n",
       "      <td>383932808</td>\n",
       "      <td>525093318104219648</td>\n",
       "      <td>01:16:17</td>\n",
       "      <td>2014-10-23</td>\n",
       "    </tr>\n",
       "    <tr>\n",
       "      <th>4694</th>\n",
       "      <td>525046462460477440</td>\n",
       "      <td>1412141023</td>\n",
       "      <td>525110170150772736</td>\n",
       "      <td>02:23:15</td>\n",
       "      <td>2014-10-23</td>\n",
       "    </tr>\n",
       "    <tr>\n",
       "      <th>4695</th>\n",
       "      <td>525046462460477440</td>\n",
       "      <td>1468201914</td>\n",
       "      <td>525110966561026048</td>\n",
       "      <td>02:26:25</td>\n",
       "      <td>2014-10-23</td>\n",
       "    </tr>\n",
       "    <tr>\n",
       "      <th>4696</th>\n",
       "      <td>525046462460477440</td>\n",
       "      <td>2385616458</td>\n",
       "      <td>525114431437807616</td>\n",
       "      <td>02:40:11</td>\n",
       "      <td>2014-10-23</td>\n",
       "    </tr>\n",
       "    <tr>\n",
       "      <th>4697</th>\n",
       "      <td>525046462460477440</td>\n",
       "      <td>219306590</td>\n",
       "      <td>525122225192833026</td>\n",
       "      <td>03:11:09</td>\n",
       "      <td>2014-10-23</td>\n",
       "    </tr>\n",
       "    <tr>\n",
       "      <th>4698</th>\n",
       "      <td>525046462460477440</td>\n",
       "      <td>368897725</td>\n",
       "      <td>525123833528070144</td>\n",
       "      <td>03:17:32</td>\n",
       "      <td>2014-10-23</td>\n",
       "    </tr>\n",
       "    <tr>\n",
       "      <th>4699</th>\n",
       "      <td>525046462460477440</td>\n",
       "      <td>182080346</td>\n",
       "      <td>525127448992940032</td>\n",
       "      <td>03:31:54</td>\n",
       "      <td>2014-10-23</td>\n",
       "    </tr>\n",
       "    <tr>\n",
       "      <th>4700</th>\n",
       "      <td>525046462460477440</td>\n",
       "      <td>182080346</td>\n",
       "      <td>525128529089159168</td>\n",
       "      <td>03:36:12</td>\n",
       "      <td>2014-10-23</td>\n",
       "    </tr>\n",
       "    <tr>\n",
       "      <th>4701</th>\n",
       "      <td>525046462460477440</td>\n",
       "      <td>20207633</td>\n",
       "      <td>525147408439996417</td>\n",
       "      <td>04:51:13</td>\n",
       "      <td>2014-10-23</td>\n",
       "    </tr>\n",
       "    <tr>\n",
       "      <th>4702</th>\n",
       "      <td>525046462460477440</td>\n",
       "      <td>27734496</td>\n",
       "      <td>525176327553703937</td>\n",
       "      <td>06:46:08</td>\n",
       "      <td>2014-10-23</td>\n",
       "    </tr>\n",
       "    <tr>\n",
       "      <th>4703</th>\n",
       "      <td>525046462460477440</td>\n",
       "      <td>718768609</td>\n",
       "      <td>525211677936345088</td>\n",
       "      <td>09:06:36</td>\n",
       "      <td>2014-10-23</td>\n",
       "    </tr>\n",
       "    <tr>\n",
       "      <th>4704</th>\n",
       "      <td>525046462460477440</td>\n",
       "      <td>282756639</td>\n",
       "      <td>525231940094668800</td>\n",
       "      <td>10:27:07</td>\n",
       "      <td>2014-10-23</td>\n",
       "    </tr>\n",
       "    <tr>\n",
       "      <th>4705</th>\n",
       "      <td>525046462460477440</td>\n",
       "      <td>2785187253</td>\n",
       "      <td>525313502886772736</td>\n",
       "      <td>15:51:13</td>\n",
       "      <td>2014-10-23</td>\n",
       "    </tr>\n",
       "  </tbody>\n",
       "</table>\n",
       "</div>"
      ],
      "text/plain": [
       "           main_tweet_id     user_id   response_tweet_id time_posted  \\\n",
       "4684  525046462460477440  2669633142  525080115852873728    00:23:49   \n",
       "4685  525046462460477440   915909072  525080661569589248    00:25:59   \n",
       "4686  525046462460477440   249889994  525081424945496064    00:29:01   \n",
       "4687  525046462460477440  1932263718  525081548983652352    00:29:31   \n",
       "4688  525046462460477440   569188164  525083618700705792    00:37:44   \n",
       "4689  525046462460477440  2373123864  525087902485999616    00:54:46   \n",
       "4690  525046462460477440   383932808  525090768634257408    01:06:09   \n",
       "4691  525046462460477440  1970429648  525092216772231170    01:11:54   \n",
       "4692  525046462460477440   298598869  525092713180700672    01:13:53   \n",
       "4693  525046462460477440   383932808  525093318104219648    01:16:17   \n",
       "4694  525046462460477440  1412141023  525110170150772736    02:23:15   \n",
       "4695  525046462460477440  1468201914  525110966561026048    02:26:25   \n",
       "4696  525046462460477440  2385616458  525114431437807616    02:40:11   \n",
       "4697  525046462460477440   219306590  525122225192833026    03:11:09   \n",
       "4698  525046462460477440   368897725  525123833528070144    03:17:32   \n",
       "4699  525046462460477440   182080346  525127448992940032    03:31:54   \n",
       "4700  525046462460477440   182080346  525128529089159168    03:36:12   \n",
       "4701  525046462460477440    20207633  525147408439996417    04:51:13   \n",
       "4702  525046462460477440    27734496  525176327553703937    06:46:08   \n",
       "4703  525046462460477440   718768609  525211677936345088    09:06:36   \n",
       "4704  525046462460477440   282756639  525231940094668800    10:27:07   \n",
       "4705  525046462460477440  2785187253  525313502886772736    15:51:13   \n",
       "\n",
       "     date_posted  \n",
       "4684  2014-10-23  \n",
       "4685  2014-10-23  \n",
       "4686  2014-10-23  \n",
       "4687  2014-10-23  \n",
       "4688  2014-10-23  \n",
       "4689  2014-10-23  \n",
       "4690  2014-10-23  \n",
       "4691  2014-10-23  \n",
       "4692  2014-10-23  \n",
       "4693  2014-10-23  \n",
       "4694  2014-10-23  \n",
       "4695  2014-10-23  \n",
       "4696  2014-10-23  \n",
       "4697  2014-10-23  \n",
       "4698  2014-10-23  \n",
       "4699  2014-10-23  \n",
       "4700  2014-10-23  \n",
       "4701  2014-10-23  \n",
       "4702  2014-10-23  \n",
       "4703  2014-10-23  \n",
       "4704  2014-10-23  \n",
       "4705  2014-10-23  "
      ]
     },
     "execution_count": 125,
     "metadata": {},
     "output_type": "execute_result"
    }
   ],
   "source": [
    "tweet_ids = [524950428598153216,\n",
    "524994809912504321,\n",
    "524949315245322241,\n",
    "524991452527722496,\n",
    "524952094986350592,\n",
    "524977076433321987,\n",
    "525040509937795072,\n",
    "525039208139087872,\n",
    "525046462460477440,\n",
    "524952407625957376]\n",
    "\n",
    "vals = rumor_responses[rumor_responses['main_tweet_id'].isin(tweet_ids)]\n",
    "vals"
   ]
  },
  {
   "cell_type": "code",
   "execution_count": 126,
   "id": "7de491bd-b74c-47f1-957c-1dd5cbe4c770",
   "metadata": {},
   "outputs": [
    {
     "data": {
      "text/html": [
       "<div>\n",
       "<style scoped>\n",
       "    .dataframe tbody tr th:only-of-type {\n",
       "        vertical-align: middle;\n",
       "    }\n",
       "\n",
       "    .dataframe tbody tr th {\n",
       "        vertical-align: top;\n",
       "    }\n",
       "\n",
       "    .dataframe thead th {\n",
       "        text-align: right;\n",
       "    }\n",
       "</style>\n",
       "<table border=\"1\" class=\"dataframe\">\n",
       "  <thead>\n",
       "    <tr style=\"text-align: right;\">\n",
       "      <th></th>\n",
       "      <th>user_id</th>\n",
       "      <th>tweet_id</th>\n",
       "      <th>tweet_text</th>\n",
       "      <th>friends_count</th>\n",
       "      <th>followers_count</th>\n",
       "      <th>is_verified</th>\n",
       "      <th>label</th>\n",
       "      <th>time_delay</th>\n",
       "    </tr>\n",
       "  </thead>\n",
       "  <tbody>\n",
       "    <tr>\n",
       "      <th>124</th>\n",
       "      <td>49654153</td>\n",
       "      <td>524950428598153216</td>\n",
       "      <td>.@ctvottawa confirms there were 3 separate sho...</td>\n",
       "      <td>108</td>\n",
       "      <td>19633</td>\n",
       "      <td>True</td>\n",
       "      <td>rumor</td>\n",
       "      <td>85132</td>\n",
       "    </tr>\n",
       "    <tr>\n",
       "      <th>178</th>\n",
       "      <td>910828603</td>\n",
       "      <td>524994809912504321</td>\n",
       "      <td>Thoughts &amp;amp; prayers go out to the soldier k...</td>\n",
       "      <td>588</td>\n",
       "      <td>510235</td>\n",
       "      <td>False</td>\n",
       "      <td>rumor</td>\n",
       "      <td>74550</td>\n",
       "    </tr>\n",
       "    <tr>\n",
       "      <th>204</th>\n",
       "      <td>980908736</td>\n",
       "      <td>524949315245322241</td>\n",
       "      <td>Gun fire exchange in Parliament Hill building ...</td>\n",
       "      <td>161</td>\n",
       "      <td>7756</td>\n",
       "      <td>False</td>\n",
       "      <td>rumor</td>\n",
       "      <td>85397</td>\n",
       "    </tr>\n",
       "    <tr>\n",
       "      <th>248</th>\n",
       "      <td>234874463</td>\n",
       "      <td>524991452527722496</td>\n",
       "      <td>RIP to the Canadian soldier killed today in #O...</td>\n",
       "      <td>69</td>\n",
       "      <td>258187</td>\n",
       "      <td>False</td>\n",
       "      <td>rumor</td>\n",
       "      <td>75351</td>\n",
       "    </tr>\n",
       "    <tr>\n",
       "      <th>298</th>\n",
       "      <td>99028224</td>\n",
       "      <td>524952094986350592</td>\n",
       "      <td>Our thoughts and prayers are with the Canadian...</td>\n",
       "      <td>276</td>\n",
       "      <td>11865</td>\n",
       "      <td>True</td>\n",
       "      <td>rumor</td>\n",
       "      <td>84734</td>\n",
       "    </tr>\n",
       "    <tr>\n",
       "      <th>307</th>\n",
       "      <td>18999969</td>\n",
       "      <td>524977076433321987</td>\n",
       "      <td>Ottawa police and RCMP will be announcing a jo...</td>\n",
       "      <td>296</td>\n",
       "      <td>63044</td>\n",
       "      <td>False</td>\n",
       "      <td>rumor</td>\n",
       "      <td>78778</td>\n",
       "    </tr>\n",
       "    <tr>\n",
       "      <th>350</th>\n",
       "      <td>994782234</td>\n",
       "      <td>525040509937795072</td>\n",
       "      <td>RIP Corporal Nathan Cirillo Thank you for serv...</td>\n",
       "      <td>313</td>\n",
       "      <td>2308</td>\n",
       "      <td>False</td>\n",
       "      <td>rumor</td>\n",
       "      <td>63654</td>\n",
       "    </tr>\n",
       "    <tr>\n",
       "      <th>366</th>\n",
       "      <td>4970411</td>\n",
       "      <td>525039208139087872</td>\n",
       "      <td>DEVELOPING: #Canada officials identify dead gu...</td>\n",
       "      <td>136</td>\n",
       "      <td>2134176</td>\n",
       "      <td>True</td>\n",
       "      <td>rumor</td>\n",
       "      <td>63965</td>\n",
       "    </tr>\n",
       "    <tr>\n",
       "      <th>372</th>\n",
       "      <td>106272927</td>\n",
       "      <td>525046462460477440</td>\n",
       "      <td>Heartbreaking Photo Shows Nathan Cirillo Momen...</td>\n",
       "      <td>1456</td>\n",
       "      <td>1889</td>\n",
       "      <td>False</td>\n",
       "      <td>rumor</td>\n",
       "      <td>8023</td>\n",
       "    </tr>\n",
       "    <tr>\n",
       "      <th>421</th>\n",
       "      <td>18060885</td>\n",
       "      <td>524952407625957376</td>\n",
       "      <td>Seeing reports that soldier shot at War Memori...</td>\n",
       "      <td>791</td>\n",
       "      <td>1592</td>\n",
       "      <td>False</td>\n",
       "      <td>rumor</td>\n",
       "      <td>84660</td>\n",
       "    </tr>\n",
       "  </tbody>\n",
       "</table>\n",
       "</div>"
      ],
      "text/plain": [
       "       user_id            tweet_id  \\\n",
       "124   49654153  524950428598153216   \n",
       "178  910828603  524994809912504321   \n",
       "204  980908736  524949315245322241   \n",
       "248  234874463  524991452527722496   \n",
       "298   99028224  524952094986350592   \n",
       "307   18999969  524977076433321987   \n",
       "350  994782234  525040509937795072   \n",
       "366    4970411  525039208139087872   \n",
       "372  106272927  525046462460477440   \n",
       "421   18060885  524952407625957376   \n",
       "\n",
       "                                            tweet_text  friends_count  \\\n",
       "124  .@ctvottawa confirms there were 3 separate sho...            108   \n",
       "178  Thoughts &amp; prayers go out to the soldier k...            588   \n",
       "204  Gun fire exchange in Parliament Hill building ...            161   \n",
       "248  RIP to the Canadian soldier killed today in #O...             69   \n",
       "298  Our thoughts and prayers are with the Canadian...            276   \n",
       "307  Ottawa police and RCMP will be announcing a jo...            296   \n",
       "350  RIP Corporal Nathan Cirillo Thank you for serv...            313   \n",
       "366  DEVELOPING: #Canada officials identify dead gu...            136   \n",
       "372  Heartbreaking Photo Shows Nathan Cirillo Momen...           1456   \n",
       "421  Seeing reports that soldier shot at War Memori...            791   \n",
       "\n",
       "     followers_count  is_verified  label  time_delay  \n",
       "124            19633         True  rumor       85132  \n",
       "178           510235        False  rumor       74550  \n",
       "204             7756        False  rumor       85397  \n",
       "248           258187        False  rumor       75351  \n",
       "298            11865         True  rumor       84734  \n",
       "307            63044        False  rumor       78778  \n",
       "350             2308        False  rumor       63654  \n",
       "366          2134176         True  rumor       63965  \n",
       "372             1889        False  rumor        8023  \n",
       "421             1592        False  rumor       84660  "
      ]
     },
     "execution_count": 126,
     "metadata": {},
     "output_type": "execute_result"
    }
   ],
   "source": [
    "val = rumor_data[rumor_data['tweet_id'].isin(tweet_ids)]\n",
    "val"
   ]
  },
  {
   "cell_type": "code",
   "execution_count": 147,
   "id": "02dfc41e-b64d-40c3-bb95-7423b2146872",
   "metadata": {},
   "outputs": [
    {
     "data": {
      "text/html": [
       "<div>\n",
       "<style scoped>\n",
       "    .dataframe tbody tr th:only-of-type {\n",
       "        vertical-align: middle;\n",
       "    }\n",
       "\n",
       "    .dataframe tbody tr th {\n",
       "        vertical-align: top;\n",
       "    }\n",
       "\n",
       "    .dataframe thead th {\n",
       "        text-align: right;\n",
       "    }\n",
       "</style>\n",
       "<table border=\"1\" class=\"dataframe\">\n",
       "  <thead>\n",
       "    <tr style=\"text-align: right;\">\n",
       "      <th></th>\n",
       "      <th>user_id</th>\n",
       "      <th>tweet_id</th>\n",
       "      <th>tweet_text</th>\n",
       "      <th>friends_count</th>\n",
       "      <th>followers_count</th>\n",
       "      <th>is_verified</th>\n",
       "      <th>label</th>\n",
       "      <th>time_delay (min)</th>\n",
       "    </tr>\n",
       "  </thead>\n",
       "  <tbody>\n",
       "    <tr>\n",
       "      <th>0</th>\n",
       "      <td>19038934</td>\n",
       "      <td>524944399890124801</td>\n",
       "      <td>Recap: Gunman shot dead inside Parliament buil...</td>\n",
       "      <td>264</td>\n",
       "      <td>366215</td>\n",
       "      <td>True</td>\n",
       "      <td>rumor</td>\n",
       "      <td>2.8167</td>\n",
       "    </tr>\n",
       "    <tr>\n",
       "      <th>1</th>\n",
       "      <td>410334710</td>\n",
       "      <td>525023642007371776</td>\n",
       "      <td>Soldier killed at war memorial identified as N...</td>\n",
       "      <td>674</td>\n",
       "      <td>18803</td>\n",
       "      <td>True</td>\n",
       "      <td>rumor</td>\n",
       "      <td>3.0167</td>\n",
       "    </tr>\n",
       "    <tr>\n",
       "      <th>2</th>\n",
       "      <td>8736882</td>\n",
       "      <td>525026219100995584</td>\n",
       "      <td>Soldier killed at war memorial identified as C...</td>\n",
       "      <td>415</td>\n",
       "      <td>543305</td>\n",
       "      <td>True</td>\n",
       "      <td>rumor</td>\n",
       "      <td>14.0167</td>\n",
       "    </tr>\n",
       "    <tr>\n",
       "      <th>3</th>\n",
       "      <td>2097571</td>\n",
       "      <td>524945684966166528</td>\n",
       "      <td>BREAKING: Two or three gunmen were involved in...</td>\n",
       "      <td>373</td>\n",
       "      <td>2735682</td>\n",
       "      <td>True</td>\n",
       "      <td>rumor</td>\n",
       "      <td>1.5500</td>\n",
       "    </tr>\n",
       "    <tr>\n",
       "      <th>4</th>\n",
       "      <td>19038934</td>\n",
       "      <td>525051365195014144</td>\n",
       "      <td>All 3 patients injured in #OttawaShooting rele...</td>\n",
       "      <td>264</td>\n",
       "      <td>366198</td>\n",
       "      <td>True</td>\n",
       "      <td>rumor</td>\n",
       "      <td>0.4000</td>\n",
       "    </tr>\n",
       "  </tbody>\n",
       "</table>\n",
       "</div>"
      ],
      "text/plain": [
       "     user_id            tweet_id  \\\n",
       "0   19038934  524944399890124801   \n",
       "1  410334710  525023642007371776   \n",
       "2    8736882  525026219100995584   \n",
       "3    2097571  524945684966166528   \n",
       "4   19038934  525051365195014144   \n",
       "\n",
       "                                          tweet_text  friends_count  \\\n",
       "0  Recap: Gunman shot dead inside Parliament buil...            264   \n",
       "1  Soldier killed at war memorial identified as N...            674   \n",
       "2  Soldier killed at war memorial identified as C...            415   \n",
       "3  BREAKING: Two or three gunmen were involved in...            373   \n",
       "4  All 3 patients injured in #OttawaShooting rele...            264   \n",
       "\n",
       "   followers_count  is_verified  label time_delay (min)  \n",
       "0           366215         True  rumor           2.8167  \n",
       "1            18803         True  rumor           3.0167  \n",
       "2           543305         True  rumor          14.0167  \n",
       "3          2735682         True  rumor           1.5500  \n",
       "4           366198         True  rumor           0.4000  "
      ]
     },
     "execution_count": 147,
     "metadata": {},
     "output_type": "execute_result"
    }
   ],
   "source": [
    "rumor_data = set_time_delay(rumor_data, rumor_responses)\n",
    "rumor_data.head()"
   ]
  },
  {
   "cell_type": "markdown",
   "id": "a667a363-b527-4632-933a-7897cfd045ea",
   "metadata": {},
   "source": [
    "### Non-rumor"
   ]
  },
  {
   "cell_type": "markdown",
   "id": "c72e459b-365e-4e38-af89-e8cda841456a",
   "metadata": {
    "jp-MarkdownHeadingCollapsed": true
   },
   "source": [
    "#### Germanwings Crash "
   ]
  },
  {
   "cell_type": "code",
   "execution_count": 106,
   "id": "15aa3597-58e4-411a-acb6-34b9df534039",
   "metadata": {
    "scrolled": true
   },
   "outputs": [
    {
     "name": "stdout",
     "output_type": "stream",
     "text": [
      "First folder name: 580330986220687360\n",
      "<class 'pandas.core.frame.DataFrame'>\n",
      "RangeIndex: 231 entries, 0 to 230\n",
      "Data columns (total 10 columns):\n",
      " #   Column           Non-Null Count  Dtype \n",
      "---  ------           --------------  ----- \n",
      " 0   user_id          231 non-null    object\n",
      " 1   tweet_id         231 non-null    object\n",
      " 2   tweet_text       231 non-null    object\n",
      " 3   retweet_count    231 non-null    int64 \n",
      " 4   favorite_count   231 non-null    int64 \n",
      " 5   followers_count  231 non-null    int64 \n",
      " 6   friends_count    231 non-null    int64 \n",
      " 7   verified         231 non-null    int64 \n",
      " 8   created_at       231 non-null    object\n",
      " 9   label            231 non-null    int64 \n",
      "dtypes: int64(6), object(4)\n",
      "memory usage: 18.2+ KB\n",
      "None\n"
     ]
    },
    {
     "name": "stderr",
     "output_type": "stream",
     "text": [
      "/tmp/ipykernel_285630/1796586709.py:58: FutureWarning: Downcasting behavior in `replace` is deprecated and will be removed in a future version. To retain the old behavior, explicitly call `result.infer_objects(copy=False)`. To opt-in to the future behavior, set `pd.set_option('future.no_silent_downcasting', True)`\n",
      "  df['label'] = df['label'].replace({'rumor': 1, 'non-rumor': 0})\n",
      "/tmp/ipykernel_285630/1796586709.py:59: FutureWarning: Downcasting behavior in `replace` is deprecated and will be removed in a future version. To retain the old behavior, explicitly call `result.infer_objects(copy=False)`. To opt-in to the future behavior, set `pd.set_option('future.no_silent_downcasting', True)`\n",
      "  df['verified'] = df['verified'].replace({True: 1, False: 0})\n"
     ]
    }
   ],
   "source": [
    "germanwings_s_nr = fetch_source_df('germanwings-crash', 'non-rumours')\n",
    "print(germanwings_s_nr.info())"
   ]
  },
  {
   "cell_type": "code",
   "execution_count": 107,
   "id": "4feb8dc8-8bfa-4bb1-a1ae-bcaa8fbe10ac",
   "metadata": {
    "scrolled": true
   },
   "outputs": [
    {
     "name": "stdout",
     "output_type": "stream",
     "text": [
      "<class 'pandas.core.frame.DataFrame'>\n",
      "RangeIndex: 1764 entries, 0 to 1763\n",
      "Data columns (total 10 columns):\n",
      " #   Column                 Non-Null Count  Dtype \n",
      "---  ------                 --------------  ----- \n",
      " 0   main_tweet_id          1764 non-null   object\n",
      " 1   response_tweet_id      1764 non-null   object\n",
      " 2   user_id                1764 non-null   object\n",
      " 3   in_reply_to_status_id  1764 non-null   object\n",
      " 4   in_reply_to_user_id    1764 non-null   object\n",
      " 5   response_tweet_text    1764 non-null   object\n",
      " 6   retweet_count          1764 non-null   int64 \n",
      " 7   favorite_count         1764 non-null   int64 \n",
      " 8   response_created_at    1764 non-null   object\n",
      " 9   label                  1764 non-null   int64 \n",
      "dtypes: int64(3), object(7)\n",
      "memory usage: 137.9+ KB\n",
      "None\n"
     ]
    },
    {
     "name": "stderr",
     "output_type": "stream",
     "text": [
      "/tmp/ipykernel_285630/3794510746.py:61: FutureWarning: Downcasting behavior in `replace` is deprecated and will be removed in a future version. To retain the old behavior, explicitly call `result.infer_objects(copy=False)`. To opt-in to the future behavior, set `pd.set_option('future.no_silent_downcasting', True)`\n",
      "  response_tweet_data['label'] = response_tweet_data['label'].replace({'rumour': 1, 'non-rumour': 0})\n"
     ]
    }
   ],
   "source": [
    "germanwings_nr_res = fetch_response_tweets('germanwings-crash', 'non-rumours','non-rumour')\n",
    "print(germanwings_nr_res.info())"
   ]
  },
  {
   "cell_type": "code",
   "execution_count": 108,
   "id": "3d9e0e23-9f41-40ed-97a4-e46aabf3c705",
   "metadata": {},
   "outputs": [
    {
     "name": "stdout",
     "output_type": "stream",
     "text": [
      "<class 'pandas.core.frame.DataFrame'>\n",
      "RangeIndex: 231 entries, 0 to 230\n",
      "Data columns (total 11 columns):\n",
      " #   Column           Non-Null Count  Dtype \n",
      "---  ------           --------------  ----- \n",
      " 0   user_id          231 non-null    object\n",
      " 1   tweet_id         231 non-null    object\n",
      " 2   tweet_text       231 non-null    object\n",
      " 3   retweet_count    231 non-null    int64 \n",
      " 4   favorite_count   231 non-null    int64 \n",
      " 5   followers_count  231 non-null    int64 \n",
      " 6   friends_count    231 non-null    int64 \n",
      " 7   verified         231 non-null    int64 \n",
      " 8   label            231 non-null    int64 \n",
      " 9   time_posted      231 non-null    object\n",
      " 10  date_posted      231 non-null    object\n",
      "dtypes: int64(6), object(5)\n",
      "memory usage: 20.0+ KB\n"
     ]
    }
   ],
   "source": [
    "germanwings_s_nr = add_date_time(germanwings_s_nr, 'created_at')\n",
    "germanwings_s_nr.info()"
   ]
  },
  {
   "cell_type": "code",
   "execution_count": 109,
   "id": "fbdebd81-0b5c-4bd8-853a-16c525a1f5f3",
   "metadata": {
    "scrolled": true
   },
   "outputs": [
    {
     "name": "stdout",
     "output_type": "stream",
     "text": [
      "<class 'pandas.core.frame.DataFrame'>\n",
      "RangeIndex: 1764 entries, 0 to 1763\n",
      "Data columns (total 11 columns):\n",
      " #   Column                 Non-Null Count  Dtype \n",
      "---  ------                 --------------  ----- \n",
      " 0   main_tweet_id          1764 non-null   object\n",
      " 1   response_tweet_id      1764 non-null   object\n",
      " 2   user_id                1764 non-null   object\n",
      " 3   in_reply_to_status_id  1764 non-null   object\n",
      " 4   in_reply_to_user_id    1764 non-null   object\n",
      " 5   response_tweet_text    1764 non-null   object\n",
      " 6   retweet_count          1764 non-null   int64 \n",
      " 7   favorite_count         1764 non-null   int64 \n",
      " 8   label                  1764 non-null   int64 \n",
      " 9   time_posted            1764 non-null   object\n",
      " 10  date_posted            1764 non-null   object\n",
      "dtypes: int64(3), object(8)\n",
      "memory usage: 151.7+ KB\n"
     ]
    }
   ],
   "source": [
    "germanwings_nr_res = add_date_time(germanwings_nr_res, 'response_created_at')\n",
    "germanwings_nr_res.info()"
   ]
  },
  {
   "cell_type": "code",
   "execution_count": 110,
   "id": "c8206f16-2ec4-4456-b457-0a9f0f6d4c62",
   "metadata": {},
   "outputs": [
    {
     "name": "stdout",
     "output_type": "stream",
     "text": [
      "<class 'pandas.core.frame.DataFrame'>\n",
      "RangeIndex: 231 entries, 0 to 230\n",
      "Data columns (total 10 columns):\n",
      " #   Column            Non-Null Count  Dtype \n",
      "---  ------            --------------  ----- \n",
      " 0   user_id           231 non-null    object\n",
      " 1   tweet_id          231 non-null    object\n",
      " 2   tweet_text        231 non-null    object\n",
      " 3   retweet_count     231 non-null    int64 \n",
      " 4   favorite_count    231 non-null    int64 \n",
      " 5   followers_count   231 non-null    int64 \n",
      " 6   friends_count     231 non-null    int64 \n",
      " 7   verified          231 non-null    int64 \n",
      " 8   label             231 non-null    int64 \n",
      " 9   time_delay (min)  231 non-null    object\n",
      "dtypes: int64(6), object(4)\n",
      "memory usage: 18.2+ KB\n"
     ]
    }
   ],
   "source": [
    "germanwings_s_nr = set_time_delay(germanwings_s_nr, germanwings_nr_res)\n",
    "germanwings_s_nr.info()"
   ]
  },
  {
   "cell_type": "markdown",
   "id": "3af65219-29d0-40f5-bab1-dabe136bf87d",
   "metadata": {
    "jp-MarkdownHeadingCollapsed": true
   },
   "source": [
    "#### Charlie"
   ]
  },
  {
   "cell_type": "code",
   "execution_count": 111,
   "id": "eb7d7fda-4bce-4303-92db-ed2d5f2edf55",
   "metadata": {},
   "outputs": [
    {
     "name": "stdout",
     "output_type": "stream",
     "text": [
      "First folder name: 552829395690201088\n",
      "<class 'pandas.core.frame.DataFrame'>\n",
      "RangeIndex: 1621 entries, 0 to 1620\n",
      "Data columns (total 10 columns):\n",
      " #   Column           Non-Null Count  Dtype \n",
      "---  ------           --------------  ----- \n",
      " 0   user_id          1621 non-null   object\n",
      " 1   tweet_id         1621 non-null   object\n",
      " 2   tweet_text       1621 non-null   object\n",
      " 3   retweet_count    1621 non-null   int64 \n",
      " 4   favorite_count   1621 non-null   int64 \n",
      " 5   followers_count  1621 non-null   int64 \n",
      " 6   friends_count    1621 non-null   int64 \n",
      " 7   verified         1621 non-null   int64 \n",
      " 8   created_at       1621 non-null   object\n",
      " 9   label            1621 non-null   int64 \n",
      "dtypes: int64(6), object(4)\n",
      "memory usage: 126.8+ KB\n"
     ]
    },
    {
     "name": "stderr",
     "output_type": "stream",
     "text": [
      "/tmp/ipykernel_285630/1796586709.py:58: FutureWarning: Downcasting behavior in `replace` is deprecated and will be removed in a future version. To retain the old behavior, explicitly call `result.infer_objects(copy=False)`. To opt-in to the future behavior, set `pd.set_option('future.no_silent_downcasting', True)`\n",
      "  df['label'] = df['label'].replace({'rumor': 1, 'non-rumor': 0})\n",
      "/tmp/ipykernel_285630/1796586709.py:59: FutureWarning: Downcasting behavior in `replace` is deprecated and will be removed in a future version. To retain the old behavior, explicitly call `result.infer_objects(copy=False)`. To opt-in to the future behavior, set `pd.set_option('future.no_silent_downcasting', True)`\n",
      "  df['verified'] = df['verified'].replace({True: 1, False: 0})\n"
     ]
    }
   ],
   "source": [
    "charlie_s_nr = fetch_source_df('charliehebdo', 'non-rumours')\n",
    "charlie_s_nr.info()"
   ]
  },
  {
   "cell_type": "code",
   "execution_count": 112,
   "id": "4e13ebbc-a7d8-4d86-b306-8d4956a29569",
   "metadata": {},
   "outputs": [
    {
     "name": "stdout",
     "output_type": "stream",
     "text": [
      "<class 'pandas.core.frame.DataFrame'>\n",
      "RangeIndex: 29302 entries, 0 to 29301\n",
      "Data columns (total 10 columns):\n",
      " #   Column                 Non-Null Count  Dtype \n",
      "---  ------                 --------------  ----- \n",
      " 0   main_tweet_id          29302 non-null  object\n",
      " 1   response_tweet_id      29302 non-null  object\n",
      " 2   user_id                29302 non-null  object\n",
      " 3   in_reply_to_status_id  29302 non-null  object\n",
      " 4   in_reply_to_user_id    29302 non-null  object\n",
      " 5   response_tweet_text    29302 non-null  object\n",
      " 6   retweet_count          29302 non-null  int64 \n",
      " 7   favorite_count         29302 non-null  int64 \n",
      " 8   response_created_at    29302 non-null  object\n",
      " 9   label                  29302 non-null  int64 \n",
      "dtypes: int64(3), object(7)\n",
      "memory usage: 2.2+ MB\n"
     ]
    },
    {
     "name": "stderr",
     "output_type": "stream",
     "text": [
      "/tmp/ipykernel_285630/3794510746.py:61: FutureWarning: Downcasting behavior in `replace` is deprecated and will be removed in a future version. To retain the old behavior, explicitly call `result.infer_objects(copy=False)`. To opt-in to the future behavior, set `pd.set_option('future.no_silent_downcasting', True)`\n",
      "  response_tweet_data['label'] = response_tweet_data['label'].replace({'rumour': 1, 'non-rumour': 0})\n"
     ]
    }
   ],
   "source": [
    "charlie_nr_res = fetch_response_tweets('charliehebdo', 'non-rumours','non-rumour')\n",
    "charlie_nr_res.info()"
   ]
  },
  {
   "cell_type": "code",
   "execution_count": 113,
   "id": "13279ff5-2b06-4ff5-8564-5ad4fa4ca928",
   "metadata": {
    "scrolled": true
   },
   "outputs": [
    {
     "name": "stdout",
     "output_type": "stream",
     "text": [
      "<class 'pandas.core.frame.DataFrame'>\n",
      "RangeIndex: 1621 entries, 0 to 1620\n",
      "Data columns (total 11 columns):\n",
      " #   Column           Non-Null Count  Dtype \n",
      "---  ------           --------------  ----- \n",
      " 0   user_id          1621 non-null   object\n",
      " 1   tweet_id         1621 non-null   object\n",
      " 2   tweet_text       1621 non-null   object\n",
      " 3   retweet_count    1621 non-null   int64 \n",
      " 4   favorite_count   1621 non-null   int64 \n",
      " 5   followers_count  1621 non-null   int64 \n",
      " 6   friends_count    1621 non-null   int64 \n",
      " 7   verified         1621 non-null   int64 \n",
      " 8   label            1621 non-null   int64 \n",
      " 9   time_posted      1621 non-null   object\n",
      " 10  date_posted      1621 non-null   object\n",
      "dtypes: int64(6), object(5)\n",
      "memory usage: 139.4+ KB\n"
     ]
    }
   ],
   "source": [
    "charlie_s_nr = add_date_time(charlie_s_nr, 'created_at')\n",
    "charlie_s_nr.info()"
   ]
  },
  {
   "cell_type": "code",
   "execution_count": 114,
   "id": "4534f38c-ed35-403a-9102-d9a7b3face81",
   "metadata": {},
   "outputs": [
    {
     "name": "stdout",
     "output_type": "stream",
     "text": [
      "<class 'pandas.core.frame.DataFrame'>\n",
      "RangeIndex: 29302 entries, 0 to 29301\n",
      "Data columns (total 11 columns):\n",
      " #   Column                 Non-Null Count  Dtype \n",
      "---  ------                 --------------  ----- \n",
      " 0   main_tweet_id          29302 non-null  object\n",
      " 1   response_tweet_id      29302 non-null  object\n",
      " 2   user_id                29302 non-null  object\n",
      " 3   in_reply_to_status_id  29302 non-null  object\n",
      " 4   in_reply_to_user_id    29302 non-null  object\n",
      " 5   response_tweet_text    29302 non-null  object\n",
      " 6   retweet_count          29302 non-null  int64 \n",
      " 7   favorite_count         29302 non-null  int64 \n",
      " 8   label                  29302 non-null  int64 \n",
      " 9   time_posted            29302 non-null  object\n",
      " 10  date_posted            29302 non-null  object\n",
      "dtypes: int64(3), object(8)\n",
      "memory usage: 2.5+ MB\n"
     ]
    }
   ],
   "source": [
    "charlie_nr_res = add_date_time(charlie_nr_res, 'response_created_at')\n",
    "charlie_nr_res.info()"
   ]
  },
  {
   "cell_type": "code",
   "execution_count": 115,
   "id": "a83a7c3a-c6b0-4143-891b-5e08c1615ccd",
   "metadata": {},
   "outputs": [
    {
     "name": "stdout",
     "output_type": "stream",
     "text": [
      "<class 'pandas.core.frame.DataFrame'>\n",
      "RangeIndex: 1621 entries, 0 to 1620\n",
      "Data columns (total 10 columns):\n",
      " #   Column            Non-Null Count  Dtype \n",
      "---  ------            --------------  ----- \n",
      " 0   user_id           1621 non-null   object\n",
      " 1   tweet_id          1621 non-null   object\n",
      " 2   tweet_text        1621 non-null   object\n",
      " 3   retweet_count     1621 non-null   int64 \n",
      " 4   favorite_count    1621 non-null   int64 \n",
      " 5   followers_count   1621 non-null   int64 \n",
      " 6   friends_count     1621 non-null   int64 \n",
      " 7   verified          1621 non-null   int64 \n",
      " 8   label             1621 non-null   int64 \n",
      " 9   time_delay (min)  1621 non-null   object\n",
      "dtypes: int64(6), object(4)\n",
      "memory usage: 126.8+ KB\n"
     ]
    }
   ],
   "source": [
    "charlie_s_nr = set_time_delay(charlie_s_nr, charlie_nr_res)\n",
    "charlie_s_nr.info()"
   ]
  },
  {
   "cell_type": "markdown",
   "id": "002950b8-66a7-4a7b-bc8b-3c59ea67e320",
   "metadata": {
    "jp-MarkdownHeadingCollapsed": true
   },
   "source": [
    "#### Ottawa"
   ]
  },
  {
   "cell_type": "code",
   "execution_count": 116,
   "id": "f280deb1-727c-4e61-9d28-79d756ff0324",
   "metadata": {
    "scrolled": true
   },
   "outputs": [
    {
     "name": "stdout",
     "output_type": "stream",
     "text": [
      "First folder name: 524941318389501953\n",
      "<class 'pandas.core.frame.DataFrame'>\n",
      "RangeIndex: 420 entries, 0 to 419\n",
      "Data columns (total 10 columns):\n",
      " #   Column           Non-Null Count  Dtype \n",
      "---  ------           --------------  ----- \n",
      " 0   user_id          420 non-null    object\n",
      " 1   tweet_id         420 non-null    object\n",
      " 2   tweet_text       420 non-null    object\n",
      " 3   retweet_count    420 non-null    int64 \n",
      " 4   favorite_count   420 non-null    int64 \n",
      " 5   followers_count  420 non-null    int64 \n",
      " 6   friends_count    420 non-null    int64 \n",
      " 7   verified         420 non-null    int64 \n",
      " 8   created_at       420 non-null    object\n",
      " 9   label            420 non-null    int64 \n",
      "dtypes: int64(6), object(4)\n",
      "memory usage: 32.9+ KB\n"
     ]
    },
    {
     "name": "stderr",
     "output_type": "stream",
     "text": [
      "/tmp/ipykernel_285630/1796586709.py:58: FutureWarning: Downcasting behavior in `replace` is deprecated and will be removed in a future version. To retain the old behavior, explicitly call `result.infer_objects(copy=False)`. To opt-in to the future behavior, set `pd.set_option('future.no_silent_downcasting', True)`\n",
      "  df['label'] = df['label'].replace({'rumor': 1, 'non-rumor': 0})\n",
      "/tmp/ipykernel_285630/1796586709.py:59: FutureWarning: Downcasting behavior in `replace` is deprecated and will be removed in a future version. To retain the old behavior, explicitly call `result.infer_objects(copy=False)`. To opt-in to the future behavior, set `pd.set_option('future.no_silent_downcasting', True)`\n",
      "  df['verified'] = df['verified'].replace({True: 1, False: 0})\n"
     ]
    }
   ],
   "source": [
    "ottawa_s_nr = fetch_source_df('ottawashooting', 'non-rumours')\n",
    "ottawa_s_nr.info()"
   ]
  },
  {
   "cell_type": "code",
   "execution_count": 117,
   "id": "0d3aeaa8-7ff9-424b-90f2-ba162c47aa97",
   "metadata": {
    "scrolled": true
   },
   "outputs": [
    {
     "name": "stdout",
     "output_type": "stream",
     "text": [
      "<class 'pandas.core.frame.DataFrame'>\n",
      "RangeIndex: 5428 entries, 0 to 5427\n",
      "Data columns (total 10 columns):\n",
      " #   Column                 Non-Null Count  Dtype \n",
      "---  ------                 --------------  ----- \n",
      " 0   main_tweet_id          5428 non-null   object\n",
      " 1   response_tweet_id      5428 non-null   object\n",
      " 2   user_id                5428 non-null   object\n",
      " 3   in_reply_to_status_id  5428 non-null   object\n",
      " 4   in_reply_to_user_id    5428 non-null   object\n",
      " 5   response_tweet_text    5428 non-null   object\n",
      " 6   retweet_count          5428 non-null   int64 \n",
      " 7   favorite_count         5428 non-null   int64 \n",
      " 8   response_created_at    5428 non-null   object\n",
      " 9   label                  5428 non-null   int64 \n",
      "dtypes: int64(3), object(7)\n",
      "memory usage: 424.2+ KB\n"
     ]
    },
    {
     "name": "stderr",
     "output_type": "stream",
     "text": [
      "/tmp/ipykernel_285630/3794510746.py:61: FutureWarning: Downcasting behavior in `replace` is deprecated and will be removed in a future version. To retain the old behavior, explicitly call `result.infer_objects(copy=False)`. To opt-in to the future behavior, set `pd.set_option('future.no_silent_downcasting', True)`\n",
      "  response_tweet_data['label'] = response_tweet_data['label'].replace({'rumour': 1, 'non-rumour': 0})\n"
     ]
    }
   ],
   "source": [
    "ottawa_nr_res = fetch_response_tweets('ottawashooting', 'non-rumours','non-rumour')\n",
    "ottawa_nr_res.info()"
   ]
  },
  {
   "cell_type": "code",
   "execution_count": 118,
   "id": "8066b73a-6b22-4f6f-920b-a35f4fcc518b",
   "metadata": {
    "scrolled": true
   },
   "outputs": [
    {
     "name": "stdout",
     "output_type": "stream",
     "text": [
      "<class 'pandas.core.frame.DataFrame'>\n",
      "RangeIndex: 420 entries, 0 to 419\n",
      "Data columns (total 11 columns):\n",
      " #   Column           Non-Null Count  Dtype \n",
      "---  ------           --------------  ----- \n",
      " 0   user_id          420 non-null    object\n",
      " 1   tweet_id         420 non-null    object\n",
      " 2   tweet_text       420 non-null    object\n",
      " 3   retweet_count    420 non-null    int64 \n",
      " 4   favorite_count   420 non-null    int64 \n",
      " 5   followers_count  420 non-null    int64 \n",
      " 6   friends_count    420 non-null    int64 \n",
      " 7   verified         420 non-null    int64 \n",
      " 8   label            420 non-null    int64 \n",
      " 9   time_posted      420 non-null    object\n",
      " 10  date_posted      420 non-null    object\n",
      "dtypes: int64(6), object(5)\n",
      "memory usage: 36.2+ KB\n"
     ]
    }
   ],
   "source": [
    "ottawa_s_nr = add_date_time(ottawa_s_nr, 'created_at')\n",
    "ottawa_s_nr.info()"
   ]
  },
  {
   "cell_type": "code",
   "execution_count": 119,
   "id": "e346ed7e-8eb2-40f6-8f6b-8b349c0c024d",
   "metadata": {
    "scrolled": true
   },
   "outputs": [
    {
     "name": "stdout",
     "output_type": "stream",
     "text": [
      "<class 'pandas.core.frame.DataFrame'>\n",
      "RangeIndex: 5428 entries, 0 to 5427\n",
      "Data columns (total 11 columns):\n",
      " #   Column                 Non-Null Count  Dtype \n",
      "---  ------                 --------------  ----- \n",
      " 0   main_tweet_id          5428 non-null   object\n",
      " 1   response_tweet_id      5428 non-null   object\n",
      " 2   user_id                5428 non-null   object\n",
      " 3   in_reply_to_status_id  5428 non-null   object\n",
      " 4   in_reply_to_user_id    5428 non-null   object\n",
      " 5   response_tweet_text    5428 non-null   object\n",
      " 6   retweet_count          5428 non-null   int64 \n",
      " 7   favorite_count         5428 non-null   int64 \n",
      " 8   label                  5428 non-null   int64 \n",
      " 9   time_posted            5428 non-null   object\n",
      " 10  date_posted            5428 non-null   object\n",
      "dtypes: int64(3), object(8)\n",
      "memory usage: 466.6+ KB\n"
     ]
    }
   ],
   "source": [
    "ottawa_nr_res = add_date_time(ottawa_nr_res, 'response_created_at')\n",
    "ottawa_nr_res.info()"
   ]
  },
  {
   "cell_type": "code",
   "execution_count": 120,
   "id": "095aceaf-ef92-4bd1-88cc-e839b1b514d7",
   "metadata": {},
   "outputs": [
    {
     "name": "stdout",
     "output_type": "stream",
     "text": [
      "<class 'pandas.core.frame.DataFrame'>\n",
      "RangeIndex: 420 entries, 0 to 419\n",
      "Data columns (total 10 columns):\n",
      " #   Column            Non-Null Count  Dtype \n",
      "---  ------            --------------  ----- \n",
      " 0   user_id           420 non-null    object\n",
      " 1   tweet_id          420 non-null    object\n",
      " 2   tweet_text        420 non-null    object\n",
      " 3   retweet_count     420 non-null    int64 \n",
      " 4   favorite_count    420 non-null    int64 \n",
      " 5   followers_count   420 non-null    int64 \n",
      " 6   friends_count     420 non-null    int64 \n",
      " 7   verified          420 non-null    int64 \n",
      " 8   label             420 non-null    int64 \n",
      " 9   time_delay (min)  420 non-null    object\n",
      "dtypes: int64(6), object(4)\n",
      "memory usage: 32.9+ KB\n"
     ]
    }
   ],
   "source": [
    "ottawa_s_nr = set_time_delay(ottawa_s_nr, ottawa_nr_res)\n",
    "ottawa_s_nr.info()"
   ]
  },
  {
   "cell_type": "markdown",
   "id": "4e9c8701-5b88-4120-8dd7-9d88320c02b9",
   "metadata": {
    "jp-MarkdownHeadingCollapsed": true
   },
   "source": [
    "#### Ferguson"
   ]
  },
  {
   "cell_type": "code",
   "execution_count": 122,
   "id": "09ce32a1-7238-4be4-b99f-c20b69d403ad",
   "metadata": {},
   "outputs": [
    {
     "name": "stdout",
     "output_type": "stream",
     "text": [
      "First folder name: 499409455814287360\n",
      "<class 'pandas.core.frame.DataFrame'>\n",
      "RangeIndex: 859 entries, 0 to 858\n",
      "Data columns (total 10 columns):\n",
      " #   Column           Non-Null Count  Dtype \n",
      "---  ------           --------------  ----- \n",
      " 0   user_id          859 non-null    object\n",
      " 1   tweet_id         859 non-null    object\n",
      " 2   tweet_text       859 non-null    object\n",
      " 3   retweet_count    859 non-null    int64 \n",
      " 4   favorite_count   859 non-null    int64 \n",
      " 5   followers_count  859 non-null    int64 \n",
      " 6   friends_count    859 non-null    int64 \n",
      " 7   verified         859 non-null    int64 \n",
      " 8   created_at       859 non-null    object\n",
      " 9   label            859 non-null    int64 \n",
      "dtypes: int64(6), object(4)\n",
      "memory usage: 67.2+ KB\n"
     ]
    },
    {
     "name": "stderr",
     "output_type": "stream",
     "text": [
      "/tmp/ipykernel_285630/1796586709.py:58: FutureWarning: Downcasting behavior in `replace` is deprecated and will be removed in a future version. To retain the old behavior, explicitly call `result.infer_objects(copy=False)`. To opt-in to the future behavior, set `pd.set_option('future.no_silent_downcasting', True)`\n",
      "  df['label'] = df['label'].replace({'rumor': 1, 'non-rumor': 0})\n",
      "/tmp/ipykernel_285630/1796586709.py:59: FutureWarning: Downcasting behavior in `replace` is deprecated and will be removed in a future version. To retain the old behavior, explicitly call `result.infer_objects(copy=False)`. To opt-in to the future behavior, set `pd.set_option('future.no_silent_downcasting', True)`\n",
      "  df['verified'] = df['verified'].replace({True: 1, False: 0})\n"
     ]
    }
   ],
   "source": [
    "ferguson_s_nr = fetch_source_df('ferguson', 'non-rumours')\n",
    "ferguson_s_nr.info()"
   ]
  },
  {
   "cell_type": "code",
   "execution_count": 123,
   "id": "13ecc431-485a-4847-a4b4-cbbcddc71ac0",
   "metadata": {
    "scrolled": true
   },
   "outputs": [
    {
     "name": "stdout",
     "output_type": "stream",
     "text": [
      "<class 'pandas.core.frame.DataFrame'>\n",
      "RangeIndex: 16837 entries, 0 to 16836\n",
      "Data columns (total 10 columns):\n",
      " #   Column                 Non-Null Count  Dtype \n",
      "---  ------                 --------------  ----- \n",
      " 0   main_tweet_id          16837 non-null  object\n",
      " 1   response_tweet_id      16837 non-null  object\n",
      " 2   user_id                16837 non-null  object\n",
      " 3   in_reply_to_status_id  16837 non-null  object\n",
      " 4   in_reply_to_user_id    16837 non-null  object\n",
      " 5   response_tweet_text    16837 non-null  object\n",
      " 6   retweet_count          16837 non-null  int64 \n",
      " 7   favorite_count         16837 non-null  int64 \n",
      " 8   response_created_at    16837 non-null  object\n",
      " 9   label                  16837 non-null  int64 \n",
      "dtypes: int64(3), object(7)\n",
      "memory usage: 1.3+ MB\n"
     ]
    },
    {
     "name": "stderr",
     "output_type": "stream",
     "text": [
      "/tmp/ipykernel_285630/3794510746.py:61: FutureWarning: Downcasting behavior in `replace` is deprecated and will be removed in a future version. To retain the old behavior, explicitly call `result.infer_objects(copy=False)`. To opt-in to the future behavior, set `pd.set_option('future.no_silent_downcasting', True)`\n",
      "  response_tweet_data['label'] = response_tweet_data['label'].replace({'rumour': 1, 'non-rumour': 0})\n"
     ]
    }
   ],
   "source": [
    "ferguson_nr_res = fetch_response_tweets('ferguson', 'non-rumours','non-rumour')\n",
    "ferguson_nr_res.info()"
   ]
  },
  {
   "cell_type": "code",
   "execution_count": 125,
   "id": "aca85015-4bbe-4aee-a700-bd2d379d68f6",
   "metadata": {},
   "outputs": [
    {
     "name": "stdout",
     "output_type": "stream",
     "text": [
      "<class 'pandas.core.frame.DataFrame'>\n",
      "RangeIndex: 859 entries, 0 to 858\n",
      "Data columns (total 11 columns):\n",
      " #   Column           Non-Null Count  Dtype \n",
      "---  ------           --------------  ----- \n",
      " 0   user_id          859 non-null    object\n",
      " 1   tweet_id         859 non-null    object\n",
      " 2   tweet_text       859 non-null    object\n",
      " 3   retweet_count    859 non-null    int64 \n",
      " 4   favorite_count   859 non-null    int64 \n",
      " 5   followers_count  859 non-null    int64 \n",
      " 6   friends_count    859 non-null    int64 \n",
      " 7   verified         859 non-null    int64 \n",
      " 8   label            859 non-null    int64 \n",
      " 9   time_posted      859 non-null    object\n",
      " 10  date_posted      859 non-null    object\n",
      "dtypes: int64(6), object(5)\n",
      "memory usage: 73.9+ KB\n"
     ]
    }
   ],
   "source": [
    "ferguson_s_nr = add_date_time(ferguson_s_nr, 'created_at')\n",
    "ferguson_s_nr.info()"
   ]
  },
  {
   "cell_type": "code",
   "execution_count": 124,
   "id": "43f97e8a-a1ce-41c8-82f4-eac1a5862703",
   "metadata": {
    "scrolled": true
   },
   "outputs": [
    {
     "name": "stdout",
     "output_type": "stream",
     "text": [
      "<class 'pandas.core.frame.DataFrame'>\n",
      "RangeIndex: 16837 entries, 0 to 16836\n",
      "Data columns (total 11 columns):\n",
      " #   Column                 Non-Null Count  Dtype \n",
      "---  ------                 --------------  ----- \n",
      " 0   main_tweet_id          16837 non-null  object\n",
      " 1   response_tweet_id      16837 non-null  object\n",
      " 2   user_id                16837 non-null  object\n",
      " 3   in_reply_to_status_id  16837 non-null  object\n",
      " 4   in_reply_to_user_id    16837 non-null  object\n",
      " 5   response_tweet_text    16837 non-null  object\n",
      " 6   retweet_count          16837 non-null  int64 \n",
      " 7   favorite_count         16837 non-null  int64 \n",
      " 8   label                  16837 non-null  int64 \n",
      " 9   time_posted            16837 non-null  object\n",
      " 10  date_posted            16837 non-null  object\n",
      "dtypes: int64(3), object(8)\n",
      "memory usage: 1.4+ MB\n"
     ]
    }
   ],
   "source": [
    "ferguson_nr_res = add_date_time(ferguson_nr_res, 'response_created_at')\n",
    "ferguson_nr_res.info()"
   ]
  },
  {
   "cell_type": "code",
   "execution_count": 126,
   "id": "c1193125-0518-4cc0-941f-e39485d59844",
   "metadata": {},
   "outputs": [
    {
     "name": "stdout",
     "output_type": "stream",
     "text": [
      "<class 'pandas.core.frame.DataFrame'>\n",
      "RangeIndex: 859 entries, 0 to 858\n",
      "Data columns (total 10 columns):\n",
      " #   Column            Non-Null Count  Dtype \n",
      "---  ------            --------------  ----- \n",
      " 0   user_id           859 non-null    object\n",
      " 1   tweet_id          859 non-null    object\n",
      " 2   tweet_text        859 non-null    object\n",
      " 3   retweet_count     859 non-null    int64 \n",
      " 4   favorite_count    859 non-null    int64 \n",
      " 5   followers_count   859 non-null    int64 \n",
      " 6   friends_count     859 non-null    int64 \n",
      " 7   verified          859 non-null    int64 \n",
      " 8   label             859 non-null    int64 \n",
      " 9   time_delay (min)  859 non-null    object\n",
      "dtypes: int64(6), object(4)\n",
      "memory usage: 67.2+ KB\n"
     ]
    }
   ],
   "source": [
    "ferguson_s_nr = set_time_delay(ferguson_s_nr, ferguson_nr_res)\n",
    "ferguson_s_nr.info()"
   ]
  },
  {
   "cell_type": "markdown",
   "id": "fdabd96c-4ed4-40bf-a106-7363d47faace",
   "metadata": {
    "jp-MarkdownHeadingCollapsed": true
   },
   "source": [
    "#### Sydney"
   ]
  },
  {
   "cell_type": "code",
   "execution_count": 127,
   "id": "236f68a7-c756-4184-af42-8c92532dbbbb",
   "metadata": {
    "scrolled": true
   },
   "outputs": [
    {
     "name": "stdout",
     "output_type": "stream",
     "text": [
      "First folder name: 544506678922977280\n",
      "<class 'pandas.core.frame.DataFrame'>\n",
      "RangeIndex: 699 entries, 0 to 698\n",
      "Data columns (total 10 columns):\n",
      " #   Column           Non-Null Count  Dtype \n",
      "---  ------           --------------  ----- \n",
      " 0   user_id          699 non-null    object\n",
      " 1   tweet_id         699 non-null    object\n",
      " 2   tweet_text       699 non-null    object\n",
      " 3   retweet_count    699 non-null    int64 \n",
      " 4   favorite_count   699 non-null    int64 \n",
      " 5   followers_count  699 non-null    int64 \n",
      " 6   friends_count    699 non-null    int64 \n",
      " 7   verified         699 non-null    int64 \n",
      " 8   created_at       699 non-null    object\n",
      " 9   label            699 non-null    int64 \n",
      "dtypes: int64(6), object(4)\n",
      "memory usage: 54.7+ KB\n"
     ]
    },
    {
     "name": "stderr",
     "output_type": "stream",
     "text": [
      "/tmp/ipykernel_285630/1796586709.py:58: FutureWarning: Downcasting behavior in `replace` is deprecated and will be removed in a future version. To retain the old behavior, explicitly call `result.infer_objects(copy=False)`. To opt-in to the future behavior, set `pd.set_option('future.no_silent_downcasting', True)`\n",
      "  df['label'] = df['label'].replace({'rumor': 1, 'non-rumor': 0})\n",
      "/tmp/ipykernel_285630/1796586709.py:59: FutureWarning: Downcasting behavior in `replace` is deprecated and will be removed in a future version. To retain the old behavior, explicitly call `result.infer_objects(copy=False)`. To opt-in to the future behavior, set `pd.set_option('future.no_silent_downcasting', True)`\n",
      "  df['verified'] = df['verified'].replace({True: 1, False: 0})\n"
     ]
    }
   ],
   "source": [
    "sydney_s_nr = fetch_source_df('sydneysiege', 'non-rumours')\n",
    "sydney_s_nr.info()"
   ]
  },
  {
   "cell_type": "code",
   "execution_count": 128,
   "id": "3640765c-4dfc-4be3-80de-c7fb66128172",
   "metadata": {
    "scrolled": true
   },
   "outputs": [
    {
     "name": "stdout",
     "output_type": "stream",
     "text": [
      "<class 'pandas.core.frame.DataFrame'>\n",
      "RangeIndex: 14621 entries, 0 to 14620\n",
      "Data columns (total 10 columns):\n",
      " #   Column                 Non-Null Count  Dtype \n",
      "---  ------                 --------------  ----- \n",
      " 0   main_tweet_id          14621 non-null  object\n",
      " 1   response_tweet_id      14621 non-null  object\n",
      " 2   user_id                14621 non-null  object\n",
      " 3   in_reply_to_status_id  14621 non-null  object\n",
      " 4   in_reply_to_user_id    14621 non-null  object\n",
      " 5   response_tweet_text    14621 non-null  object\n",
      " 6   retweet_count          14621 non-null  int64 \n",
      " 7   favorite_count         14621 non-null  int64 \n",
      " 8   response_created_at    14621 non-null  object\n",
      " 9   label                  14621 non-null  int64 \n",
      "dtypes: int64(3), object(7)\n",
      "memory usage: 1.1+ MB\n"
     ]
    },
    {
     "name": "stderr",
     "output_type": "stream",
     "text": [
      "/tmp/ipykernel_285630/3794510746.py:61: FutureWarning: Downcasting behavior in `replace` is deprecated and will be removed in a future version. To retain the old behavior, explicitly call `result.infer_objects(copy=False)`. To opt-in to the future behavior, set `pd.set_option('future.no_silent_downcasting', True)`\n",
      "  response_tweet_data['label'] = response_tweet_data['label'].replace({'rumour': 1, 'non-rumour': 0})\n"
     ]
    }
   ],
   "source": [
    "sydney_nr_res = fetch_response_tweets('sydneysiege', 'non-rumours','non-rumour')\n",
    "sydney_nr_res.info()"
   ]
  },
  {
   "cell_type": "code",
   "execution_count": 129,
   "id": "a1fdf427-8e95-4fc8-a616-93c13d4c1c42",
   "metadata": {
    "scrolled": true
   },
   "outputs": [
    {
     "name": "stdout",
     "output_type": "stream",
     "text": [
      "<class 'pandas.core.frame.DataFrame'>\n",
      "RangeIndex: 699 entries, 0 to 698\n",
      "Data columns (total 11 columns):\n",
      " #   Column           Non-Null Count  Dtype \n",
      "---  ------           --------------  ----- \n",
      " 0   user_id          699 non-null    object\n",
      " 1   tweet_id         699 non-null    object\n",
      " 2   tweet_text       699 non-null    object\n",
      " 3   retweet_count    699 non-null    int64 \n",
      " 4   favorite_count   699 non-null    int64 \n",
      " 5   followers_count  699 non-null    int64 \n",
      " 6   friends_count    699 non-null    int64 \n",
      " 7   verified         699 non-null    int64 \n",
      " 8   label            699 non-null    int64 \n",
      " 9   time_posted      699 non-null    object\n",
      " 10  date_posted      699 non-null    object\n",
      "dtypes: int64(6), object(5)\n",
      "memory usage: 60.2+ KB\n"
     ]
    }
   ],
   "source": [
    "sydney_s_nr = add_date_time(sydney_s_nr, 'created_at')\n",
    "sydney_s_nr.info()"
   ]
  },
  {
   "cell_type": "code",
   "execution_count": 130,
   "id": "715614d3-87d3-4b1b-9e99-f9832ea440e4",
   "metadata": {
    "scrolled": true
   },
   "outputs": [
    {
     "name": "stdout",
     "output_type": "stream",
     "text": [
      "<class 'pandas.core.frame.DataFrame'>\n",
      "RangeIndex: 14621 entries, 0 to 14620\n",
      "Data columns (total 11 columns):\n",
      " #   Column                 Non-Null Count  Dtype \n",
      "---  ------                 --------------  ----- \n",
      " 0   main_tweet_id          14621 non-null  object\n",
      " 1   response_tweet_id      14621 non-null  object\n",
      " 2   user_id                14621 non-null  object\n",
      " 3   in_reply_to_status_id  14621 non-null  object\n",
      " 4   in_reply_to_user_id    14621 non-null  object\n",
      " 5   response_tweet_text    14621 non-null  object\n",
      " 6   retweet_count          14621 non-null  int64 \n",
      " 7   favorite_count         14621 non-null  int64 \n",
      " 8   label                  14621 non-null  int64 \n",
      " 9   time_posted            14621 non-null  object\n",
      " 10  date_posted            14621 non-null  object\n",
      "dtypes: int64(3), object(8)\n",
      "memory usage: 1.2+ MB\n"
     ]
    }
   ],
   "source": [
    "sydney_nr_res = add_date_time(sydney_nr_res, 'response_created_at')\n",
    "sydney_nr_res.info()"
   ]
  },
  {
   "cell_type": "code",
   "execution_count": 131,
   "id": "45e85c97-d5bb-47ab-a4db-f2f58a625402",
   "metadata": {
    "scrolled": true
   },
   "outputs": [
    {
     "name": "stdout",
     "output_type": "stream",
     "text": [
      "<class 'pandas.core.frame.DataFrame'>\n",
      "RangeIndex: 699 entries, 0 to 698\n",
      "Data columns (total 10 columns):\n",
      " #   Column            Non-Null Count  Dtype \n",
      "---  ------            --------------  ----- \n",
      " 0   user_id           699 non-null    object\n",
      " 1   tweet_id          699 non-null    object\n",
      " 2   tweet_text        699 non-null    object\n",
      " 3   retweet_count     699 non-null    int64 \n",
      " 4   favorite_count    699 non-null    int64 \n",
      " 5   followers_count   699 non-null    int64 \n",
      " 6   friends_count     699 non-null    int64 \n",
      " 7   verified          699 non-null    int64 \n",
      " 8   label             699 non-null    int64 \n",
      " 9   time_delay (min)  699 non-null    object\n",
      "dtypes: int64(6), object(4)\n",
      "memory usage: 54.7+ KB\n"
     ]
    }
   ],
   "source": [
    "sydney_s_nr = set_time_delay(sydney_s_nr, sydney_nr_res)\n",
    "sydney_s_nr.info()"
   ]
  },
  {
   "cell_type": "markdown",
   "id": "77faede0-179d-4b3e-b36a-f89357e2d11b",
   "metadata": {},
   "source": [
    "## Sentiment analysis with VADER"
   ]
  },
  {
   "cell_type": "code",
   "execution_count": 78,
   "id": "c809131a-9207-4d95-a051-aecb11063ee0",
   "metadata": {},
   "outputs": [
    {
     "name": "stdout",
     "output_type": "stream",
     "text": [
      "Collecting vaderSentiment\n",
      "  Downloading vaderSentiment-3.3.2-py2.py3-none-any.whl.metadata (572 bytes)\n",
      "Requirement already satisfied: requests in /home/sct/my_project_dir/my_project_env/lib/python3.10/site-packages (from vaderSentiment) (2.31.0)\n",
      "Requirement already satisfied: charset-normalizer<4,>=2 in /home/sct/my_project_dir/my_project_env/lib/python3.10/site-packages (from requests->vaderSentiment) (3.3.2)\n",
      "Requirement already satisfied: idna<4,>=2.5 in /home/sct/my_project_dir/my_project_env/lib/python3.10/site-packages (from requests->vaderSentiment) (3.7)\n",
      "Requirement already satisfied: urllib3<3,>=1.21.1 in /home/sct/my_project_dir/my_project_env/lib/python3.10/site-packages (from requests->vaderSentiment) (2.2.1)\n",
      "Requirement already satisfied: certifi>=2017.4.17 in /home/sct/my_project_dir/my_project_env/lib/python3.10/site-packages (from requests->vaderSentiment) (2024.2.2)\n",
      "Downloading vaderSentiment-3.3.2-py2.py3-none-any.whl (125 kB)\n",
      "\u001b[2K   \u001b[38;2;114;156;31m━━━━━━━━━━━━━━━━━━━━━━━━━━━━━━━━━━━━━━━\u001b[0m \u001b[32m126.0/126.0 kB\u001b[0m \u001b[31m968.9 kB/s\u001b[0m eta \u001b[36m0:00:00\u001b[0mB/s\u001b[0m eta \u001b[36m0:00:01\u001b[0m:01\u001b[0m\n",
      "\u001b[?25hInstalling collected packages: vaderSentiment\n",
      "Successfully installed vaderSentiment-3.3.2\n",
      "Note: you may need to restart the kernel to use updated packages.\n"
     ]
    }
   ],
   "source": [
    "pip install vaderSentiment"
   ]
  },
  {
   "cell_type": "code",
   "execution_count": 68,
   "id": "fd1c4bb2-e80b-4977-bcfa-08c95b2d0569",
   "metadata": {},
   "outputs": [
    {
     "name": "stderr",
     "output_type": "stream",
     "text": [
      "[nltk_data] Downloading package vader_lexicon to\n",
      "[nltk_data]     /home/sct/nltk_data...\n",
      "[nltk_data]   Package vader_lexicon is already up-to-date!\n"
     ]
    },
    {
     "data": {
      "text/plain": [
       "True"
      ]
     },
     "execution_count": 68,
     "metadata": {},
     "output_type": "execute_result"
    }
   ],
   "source": [
    "#download the VADER package\n",
    "import nltk \n",
    "nltk.downloader.download('vader_lexicon')"
   ]
  },
  {
   "cell_type": "code",
   "execution_count": 132,
   "id": "20a242fa-c70f-4742-8e9e-8408554d48be",
   "metadata": {},
   "outputs": [],
   "source": [
    "# import the SentimentIntensityAnalyzer class from the nltk.sentiment.vader module\n",
    "from nltk.sentiment.vader import SentimentIntensityAnalyzer\n",
    "\n",
    "analyzer = SentimentIntensityAnalyzer()"
   ]
  },
  {
   "cell_type": "code",
   "execution_count": 133,
   "id": "ad284a57-4e70-4916-8d1d-cb598a56cd01",
   "metadata": {},
   "outputs": [],
   "source": [
    "def get_sentiments(df_in):\n",
    "    \n",
    "    neg_sent = []\n",
    "    pos_sent = []\n",
    "    neu_sent = []\n",
    "    comp_sent = []\n",
    "\n",
    "    #get neg, pos, neu and compound sentiment for each tweet in the df\n",
    "    for i in df_in.index:\n",
    "        tweet = df_in.loc[i, 'tweet_text']\n",
    "        sentiment_dict = analyzer.polarity_scores(tweet)\n",
    "        neg_sent.append(sentiment_dict['neg'])\n",
    "        pos_sent.append(sentiment_dict['pos'])\n",
    "        neu_sent.append(sentiment_dict['neu'])\n",
    "        comp_sent.append(sentiment_dict['compound'])\n",
    "    \n",
    "    \n",
    "    data = {'neg_sent':neg_sent,'pos_sent':pos_sent, \n",
    "            'neu_sent':neu_sent, 'comp_sent':comp_sent}\n",
    "    df_out = pd.DataFrame(data)\n",
    "    df = pd.concat([df_in, df_out], axis=1)\n",
    "    return df\n"
   ]
  },
  {
   "cell_type": "code",
   "execution_count": 134,
   "id": "5a1e7636-7f02-4bf9-ada8-72db4fddea79",
   "metadata": {},
   "outputs": [
    {
     "data": {
      "text/html": [
       "<div>\n",
       "<style scoped>\n",
       "    .dataframe tbody tr th:only-of-type {\n",
       "        vertical-align: middle;\n",
       "    }\n",
       "\n",
       "    .dataframe tbody tr th {\n",
       "        vertical-align: top;\n",
       "    }\n",
       "\n",
       "    .dataframe thead th {\n",
       "        text-align: right;\n",
       "    }\n",
       "</style>\n",
       "<table border=\"1\" class=\"dataframe\">\n",
       "  <thead>\n",
       "    <tr style=\"text-align: right;\">\n",
       "      <th></th>\n",
       "      <th>user_id</th>\n",
       "      <th>tweet_id</th>\n",
       "      <th>tweet_text</th>\n",
       "      <th>retweet_count</th>\n",
       "      <th>favorite_count</th>\n",
       "      <th>followers_count</th>\n",
       "      <th>friends_count</th>\n",
       "      <th>verified</th>\n",
       "      <th>label</th>\n",
       "      <th>time_delay (min)</th>\n",
       "      <th>neg_sent</th>\n",
       "      <th>pos_sent</th>\n",
       "      <th>neu_sent</th>\n",
       "      <th>comp_sent</th>\n",
       "    </tr>\n",
       "  </thead>\n",
       "  <tbody>\n",
       "    <tr>\n",
       "      <th>0</th>\n",
       "      <td>16887175</td>\n",
       "      <td>580387098039046145</td>\n",
       "      <td>Reports of \"moving body\" amidst #Germanwings w...</td>\n",
       "      <td>38</td>\n",
       "      <td>15</td>\n",
       "      <td>337960</td>\n",
       "      <td>6384</td>\n",
       "      <td>1</td>\n",
       "      <td>1</td>\n",
       "      <td>1.2833</td>\n",
       "      <td>0.000</td>\n",
       "      <td>0.00</td>\n",
       "      <td>1.000</td>\n",
       "      <td>0.0000</td>\n",
       "    </tr>\n",
       "    <tr>\n",
       "      <th>1</th>\n",
       "      <td>328541805</td>\n",
       "      <td>580320242020290560</td>\n",
       "      <td>BREAKING:148passengers were on board #GermanWi...</td>\n",
       "      <td>43</td>\n",
       "      <td>15</td>\n",
       "      <td>52815</td>\n",
       "      <td>293</td>\n",
       "      <td>0</td>\n",
       "      <td>1</td>\n",
       "      <td>1.5000</td>\n",
       "      <td>0.000</td>\n",
       "      <td>0.14</td>\n",
       "      <td>0.860</td>\n",
       "      <td>0.3818</td>\n",
       "    </tr>\n",
       "    <tr>\n",
       "      <th>2</th>\n",
       "      <td>7309052</td>\n",
       "      <td>580699430690656256</td>\n",
       "      <td>BREAKING: #Germanwings crash victims include 7...</td>\n",
       "      <td>31</td>\n",
       "      <td>5</td>\n",
       "      <td>893549</td>\n",
       "      <td>2312</td>\n",
       "      <td>1</td>\n",
       "      <td>1</td>\n",
       "      <td>4.1333</td>\n",
       "      <td>0.278</td>\n",
       "      <td>0.00</td>\n",
       "      <td>0.722</td>\n",
       "      <td>-0.6124</td>\n",
       "    </tr>\n",
       "    <tr>\n",
       "      <th>3</th>\n",
       "      <td>15513604</td>\n",
       "      <td>580340476949086208</td>\n",
       "      <td>BREAKING: 148 feared dead in crashed #Germanwi...</td>\n",
       "      <td>167</td>\n",
       "      <td>32</td>\n",
       "      <td>418641</td>\n",
       "      <td>1859</td>\n",
       "      <td>1</td>\n",
       "      <td>1</td>\n",
       "      <td>3.5167</td>\n",
       "      <td>0.517</td>\n",
       "      <td>0.00</td>\n",
       "      <td>0.483</td>\n",
       "      <td>-0.8176</td>\n",
       "    </tr>\n",
       "    <tr>\n",
       "      <th>4</th>\n",
       "      <td>93735135</td>\n",
       "      <td>580320893668364288</td>\n",
       "      <td>Terrible news... Airbus A320 from Barcelona to...</td>\n",
       "      <td>26</td>\n",
       "      <td>1</td>\n",
       "      <td>11062</td>\n",
       "      <td>233</td>\n",
       "      <td>0</td>\n",
       "      <td>1</td>\n",
       "      <td>3.3667</td>\n",
       "      <td>0.171</td>\n",
       "      <td>0.00</td>\n",
       "      <td>0.829</td>\n",
       "      <td>-0.4767</td>\n",
       "    </tr>\n",
       "  </tbody>\n",
       "</table>\n",
       "</div>"
      ],
      "text/plain": [
       "     user_id            tweet_id  \\\n",
       "0   16887175  580387098039046145   \n",
       "1  328541805  580320242020290560   \n",
       "2    7309052  580699430690656256   \n",
       "3   15513604  580340476949086208   \n",
       "4   93735135  580320893668364288   \n",
       "\n",
       "                                          tweet_text  retweet_count  \\\n",
       "0  Reports of \"moving body\" amidst #Germanwings w...             38   \n",
       "1  BREAKING:148passengers were on board #GermanWi...             43   \n",
       "2  BREAKING: #Germanwings crash victims include 7...             31   \n",
       "3  BREAKING: 148 feared dead in crashed #Germanwi...            167   \n",
       "4  Terrible news... Airbus A320 from Barcelona to...             26   \n",
       "\n",
       "   favorite_count  followers_count  friends_count  verified  label  \\\n",
       "0              15           337960           6384         1      1   \n",
       "1              15            52815            293         0      1   \n",
       "2               5           893549           2312         1      1   \n",
       "3              32           418641           1859         1      1   \n",
       "4               1            11062            233         0      1   \n",
       "\n",
       "  time_delay (min)  neg_sent  pos_sent  neu_sent  comp_sent  \n",
       "0           1.2833     0.000      0.00     1.000     0.0000  \n",
       "1           1.5000     0.000      0.14     0.860     0.3818  \n",
       "2           4.1333     0.278      0.00     0.722    -0.6124  \n",
       "3           3.5167     0.517      0.00     0.483    -0.8176  \n",
       "4           3.3667     0.171      0.00     0.829    -0.4767  "
      ]
     },
     "execution_count": 134,
     "metadata": {},
     "output_type": "execute_result"
    }
   ],
   "source": [
    "germanwings_s_rumors = get_sentiments(germanwings_s_rumors)\n",
    "germanwings_s_rumors.head()"
   ]
  },
  {
   "cell_type": "code",
   "execution_count": 135,
   "id": "2e86374c-0e8b-4041-a87d-9a42919b43ef",
   "metadata": {
    "scrolled": true
   },
   "outputs": [
    {
     "data": {
      "text/html": [
       "<div>\n",
       "<style scoped>\n",
       "    .dataframe tbody tr th:only-of-type {\n",
       "        vertical-align: middle;\n",
       "    }\n",
       "\n",
       "    .dataframe tbody tr th {\n",
       "        vertical-align: top;\n",
       "    }\n",
       "\n",
       "    .dataframe thead th {\n",
       "        text-align: right;\n",
       "    }\n",
       "</style>\n",
       "<table border=\"1\" class=\"dataframe\">\n",
       "  <thead>\n",
       "    <tr style=\"text-align: right;\">\n",
       "      <th></th>\n",
       "      <th>user_id</th>\n",
       "      <th>tweet_id</th>\n",
       "      <th>tweet_text</th>\n",
       "      <th>retweet_count</th>\n",
       "      <th>favorite_count</th>\n",
       "      <th>followers_count</th>\n",
       "      <th>friends_count</th>\n",
       "      <th>verified</th>\n",
       "      <th>label</th>\n",
       "      <th>time_delay (min)</th>\n",
       "      <th>neg_sent</th>\n",
       "      <th>pos_sent</th>\n",
       "      <th>neu_sent</th>\n",
       "      <th>comp_sent</th>\n",
       "    </tr>\n",
       "  </thead>\n",
       "  <tbody>\n",
       "    <tr>\n",
       "      <th>0</th>\n",
       "      <td>16973333</td>\n",
       "      <td>580330986220687360</td>\n",
       "      <td>#BREAKING: A helicopter has located the Airbus...</td>\n",
       "      <td>94</td>\n",
       "      <td>9</td>\n",
       "      <td>1103558</td>\n",
       "      <td>1758</td>\n",
       "      <td>1</td>\n",
       "      <td>0</td>\n",
       "      <td>3.8000</td>\n",
       "      <td>0.184</td>\n",
       "      <td>0.000</td>\n",
       "      <td>0.816</td>\n",
       "      <td>-0.4019</td>\n",
       "    </tr>\n",
       "    <tr>\n",
       "      <th>1</th>\n",
       "      <td>64643056</td>\n",
       "      <td>580343329096904704</td>\n",
       "      <td>#Germanwings crash: Arrivals board at #Dusseld...</td>\n",
       "      <td>141</td>\n",
       "      <td>36</td>\n",
       "      <td>891630</td>\n",
       "      <td>482</td>\n",
       "      <td>1</td>\n",
       "      <td>0</td>\n",
       "      <td>0.5167</td>\n",
       "      <td>0.252</td>\n",
       "      <td>0.000</td>\n",
       "      <td>0.748</td>\n",
       "      <td>-0.4019</td>\n",
       "    </tr>\n",
       "    <tr>\n",
       "      <th>2</th>\n",
       "      <td>227837742</td>\n",
       "      <td>580883100533690368</td>\n",
       "      <td>If one pilot leaves, somebody else is supposed...</td>\n",
       "      <td>121</td>\n",
       "      <td>49</td>\n",
       "      <td>525630</td>\n",
       "      <td>139</td>\n",
       "      <td>1</td>\n",
       "      <td>0</td>\n",
       "      <td>2.6500</td>\n",
       "      <td>0.000</td>\n",
       "      <td>0.000</td>\n",
       "      <td>1.000</td>\n",
       "      <td>0.0000</td>\n",
       "    </tr>\n",
       "    <tr>\n",
       "      <th>3</th>\n",
       "      <td>54756055</td>\n",
       "      <td>580355037504909312</td>\n",
       "      <td>My thoughts, prayers, and deepest condolences ...</td>\n",
       "      <td>1545</td>\n",
       "      <td>1123</td>\n",
       "      <td>183150</td>\n",
       "      <td>68</td>\n",
       "      <td>0</td>\n",
       "      <td>0</td>\n",
       "      <td>88.3333</td>\n",
       "      <td>0.000</td>\n",
       "      <td>0.000</td>\n",
       "      <td>1.000</td>\n",
       "      <td>0.0000</td>\n",
       "    </tr>\n",
       "    <tr>\n",
       "      <th>4</th>\n",
       "      <td>16664681</td>\n",
       "      <td>581295422414680065</td>\n",
       "      <td>A look at the cockpit-security measures that p...</td>\n",
       "      <td>49</td>\n",
       "      <td>25</td>\n",
       "      <td>1324856</td>\n",
       "      <td>10772</td>\n",
       "      <td>1</td>\n",
       "      <td>0</td>\n",
       "      <td>0.7167</td>\n",
       "      <td>0.000</td>\n",
       "      <td>0.084</td>\n",
       "      <td>0.916</td>\n",
       "      <td>0.0258</td>\n",
       "    </tr>\n",
       "  </tbody>\n",
       "</table>\n",
       "</div>"
      ],
      "text/plain": [
       "     user_id            tweet_id  \\\n",
       "0   16973333  580330986220687360   \n",
       "1   64643056  580343329096904704   \n",
       "2  227837742  580883100533690368   \n",
       "3   54756055  580355037504909312   \n",
       "4   16664681  581295422414680065   \n",
       "\n",
       "                                          tweet_text  retweet_count  \\\n",
       "0  #BREAKING: A helicopter has located the Airbus...             94   \n",
       "1  #Germanwings crash: Arrivals board at #Dusseld...            141   \n",
       "2  If one pilot leaves, somebody else is supposed...            121   \n",
       "3  My thoughts, prayers, and deepest condolences ...           1545   \n",
       "4  A look at the cockpit-security measures that p...             49   \n",
       "\n",
       "   favorite_count  followers_count  friends_count  verified  label  \\\n",
       "0               9          1103558           1758         1      0   \n",
       "1              36           891630            482         1      0   \n",
       "2              49           525630            139         1      0   \n",
       "3            1123           183150             68         0      0   \n",
       "4              25          1324856          10772         1      0   \n",
       "\n",
       "  time_delay (min)  neg_sent  pos_sent  neu_sent  comp_sent  \n",
       "0           3.8000     0.184     0.000     0.816    -0.4019  \n",
       "1           0.5167     0.252     0.000     0.748    -0.4019  \n",
       "2           2.6500     0.000     0.000     1.000     0.0000  \n",
       "3          88.3333     0.000     0.000     1.000     0.0000  \n",
       "4           0.7167     0.000     0.084     0.916     0.0258  "
      ]
     },
     "execution_count": 135,
     "metadata": {},
     "output_type": "execute_result"
    }
   ],
   "source": [
    "germanwings_s_nr = get_sentiments(germanwings_s_nr)\n",
    "germanwings_s_nr.head()"
   ]
  },
  {
   "cell_type": "code",
   "execution_count": 136,
   "id": "c6039437-47fd-437f-a366-bf3f6b519d97",
   "metadata": {},
   "outputs": [
    {
     "name": "stdout",
     "output_type": "stream",
     "text": [
      "<class 'pandas.core.frame.DataFrame'>\n",
      "RangeIndex: 469 entries, 0 to 468\n",
      "Data columns (total 14 columns):\n",
      " #   Column            Non-Null Count  Dtype  \n",
      "---  ------            --------------  -----  \n",
      " 0   user_id           469 non-null    object \n",
      " 1   tweet_id          469 non-null    object \n",
      " 2   tweet_text        469 non-null    object \n",
      " 3   retweet_count     469 non-null    int64  \n",
      " 4   favorite_count    469 non-null    int64  \n",
      " 5   followers_count   469 non-null    int64  \n",
      " 6   friends_count     469 non-null    int64  \n",
      " 7   verified          469 non-null    int64  \n",
      " 8   label             469 non-null    int64  \n",
      " 9   time_delay (min)  469 non-null    object \n",
      " 10  neg_sent          469 non-null    float64\n",
      " 11  pos_sent          469 non-null    float64\n",
      " 12  neu_sent          469 non-null    float64\n",
      " 13  comp_sent         469 non-null    float64\n",
      "dtypes: float64(4), int64(6), object(4)\n",
      "memory usage: 51.4+ KB\n"
     ]
    }
   ],
   "source": [
    "germanwings_df = pd.concat([germanwings_s_rumors, germanwings_s_nr], axis=0, ignore_index=True)\n",
    "germanwings_df.info()"
   ]
  },
  {
   "cell_type": "code",
   "execution_count": 137,
   "id": "c720c0cd-c95b-4b58-9839-606de060b19d",
   "metadata": {
    "scrolled": true
   },
   "outputs": [
    {
     "name": "stdout",
     "output_type": "stream",
     "text": [
      "<class 'pandas.core.frame.DataFrame'>\n",
      "RangeIndex: 2079 entries, 0 to 2078\n",
      "Data columns (total 14 columns):\n",
      " #   Column            Non-Null Count  Dtype  \n",
      "---  ------            --------------  -----  \n",
      " 0   user_id           2079 non-null   object \n",
      " 1   tweet_id          2079 non-null   object \n",
      " 2   tweet_text        2079 non-null   object \n",
      " 3   retweet_count     2079 non-null   int64  \n",
      " 4   favorite_count    2079 non-null   int64  \n",
      " 5   followers_count   2079 non-null   int64  \n",
      " 6   friends_count     2079 non-null   int64  \n",
      " 7   verified          2079 non-null   int64  \n",
      " 8   label             2079 non-null   int64  \n",
      " 9   time_delay (min)  2079 non-null   object \n",
      " 10  neg_sent          2079 non-null   float64\n",
      " 11  pos_sent          2079 non-null   float64\n",
      " 12  neu_sent          2079 non-null   float64\n",
      " 13  comp_sent         2079 non-null   float64\n",
      "dtypes: float64(4), int64(6), object(4)\n",
      "memory usage: 227.5+ KB\n"
     ]
    }
   ],
   "source": [
    "charlie_source_df = get_sentiments(charlie_source_df)\n",
    "charlie_s_nr = get_sentiments(charlie_s_nr)\n",
    "charlie_df = pd.concat([charlie_source_df, charlie_s_nr], axis=0, ignore_index=True)\n",
    "charlie_df.info()"
   ]
  },
  {
   "cell_type": "code",
   "execution_count": 138,
   "id": "3aae4eab-6266-4f96-9a39-8bc6c18b4ed1",
   "metadata": {
    "scrolled": true
   },
   "outputs": [
    {
     "name": "stdout",
     "output_type": "stream",
     "text": [
      "<class 'pandas.core.frame.DataFrame'>\n",
      "RangeIndex: 890 entries, 0 to 889\n",
      "Data columns (total 14 columns):\n",
      " #   Column            Non-Null Count  Dtype  \n",
      "---  ------            --------------  -----  \n",
      " 0   user_id           890 non-null    object \n",
      " 1   tweet_id          890 non-null    object \n",
      " 2   tweet_text        890 non-null    object \n",
      " 3   retweet_count     890 non-null    int64  \n",
      " 4   favorite_count    890 non-null    int64  \n",
      " 5   followers_count   890 non-null    int64  \n",
      " 6   friends_count     890 non-null    int64  \n",
      " 7   verified          890 non-null    int64  \n",
      " 8   label             890 non-null    int64  \n",
      " 9   time_delay (min)  890 non-null    object \n",
      " 10  neg_sent          890 non-null    float64\n",
      " 11  pos_sent          890 non-null    float64\n",
      " 12  neu_sent          890 non-null    float64\n",
      " 13  comp_sent         890 non-null    float64\n",
      "dtypes: float64(4), int64(6), object(4)\n",
      "memory usage: 97.5+ KB\n"
     ]
    }
   ],
   "source": [
    "ottawa_rs_df = get_sentiments(ottawa_rs_df)\n",
    "ottawa_s_nr = get_sentiments(ottawa_s_nr)\n",
    "ottawa_df = pd.concat([ottawa_rs_df, ottawa_s_nr], axis=0, ignore_index=True)\n",
    "ottawa_df.info()"
   ]
  },
  {
   "cell_type": "code",
   "execution_count": 147,
   "id": "7916d865-e6c4-4104-8025-f37875a99b7c",
   "metadata": {
    "scrolled": true
   },
   "outputs": [
    {
     "name": "stdout",
     "output_type": "stream",
     "text": [
      "<class 'pandas.core.frame.DataFrame'>\n",
      "RangeIndex: 1143 entries, 0 to 1142\n",
      "Data columns (total 14 columns):\n",
      " #   Column            Non-Null Count  Dtype  \n",
      "---  ------            --------------  -----  \n",
      " 0   user_id           1143 non-null   object \n",
      " 1   tweet_id          1143 non-null   object \n",
      " 2   tweet_text        1143 non-null   object \n",
      " 3   retweet_count     1143 non-null   int64  \n",
      " 4   favorite_count    1143 non-null   int64  \n",
      " 5   followers_count   1143 non-null   int64  \n",
      " 6   friends_count     1143 non-null   int64  \n",
      " 7   verified          1143 non-null   int64  \n",
      " 8   label             1143 non-null   int64  \n",
      " 9   time_delay (min)  1143 non-null   object \n",
      " 10  neg_sent          1143 non-null   float64\n",
      " 11  pos_sent          1143 non-null   float64\n",
      " 12  neu_sent          1143 non-null   float64\n",
      " 13  comp_sent         1143 non-null   float64\n",
      "dtypes: float64(4), int64(6), object(4)\n",
      "memory usage: 125.1+ KB\n"
     ]
    }
   ],
   "source": [
    "ferguson_rs_df = get_sentiments(ferguson_rs_df)\n",
    "ferguson_s_nr = get_sentiments(ferguson_s_nr)\n",
    "ferguson_df = pd.concat([ferguson_rs_df, ferguson_s_nr], axis=0, ignore_index=True)\n",
    "ferguson_df.info()"
   ]
  },
  {
   "cell_type": "code",
   "execution_count": 148,
   "id": "8282fa63-9f0d-44ba-ae57-5be69c664c77",
   "metadata": {},
   "outputs": [
    {
     "name": "stdout",
     "output_type": "stream",
     "text": [
      "<class 'pandas.core.frame.DataFrame'>\n",
      "RangeIndex: 1221 entries, 0 to 1220\n",
      "Data columns (total 14 columns):\n",
      " #   Column            Non-Null Count  Dtype  \n",
      "---  ------            --------------  -----  \n",
      " 0   user_id           1221 non-null   object \n",
      " 1   tweet_id          1221 non-null   object \n",
      " 2   tweet_text        1221 non-null   object \n",
      " 3   retweet_count     1221 non-null   int64  \n",
      " 4   favorite_count    1221 non-null   int64  \n",
      " 5   followers_count   1221 non-null   int64  \n",
      " 6   friends_count     1221 non-null   int64  \n",
      " 7   verified          1221 non-null   int64  \n",
      " 8   label             1221 non-null   int64  \n",
      " 9   time_delay (min)  1221 non-null   object \n",
      " 10  neg_sent          1221 non-null   float64\n",
      " 11  pos_sent          1221 non-null   float64\n",
      " 12  neu_sent          1221 non-null   float64\n",
      " 13  comp_sent         1221 non-null   float64\n",
      "dtypes: float64(4), int64(6), object(4)\n",
      "memory usage: 133.7+ KB\n"
     ]
    }
   ],
   "source": [
    "sydney_sr = get_sentiments(sydney_sr)\n",
    "sydney_s_nr = get_sentiments(sydney_s_nr)\n",
    "sydney_df = pd.concat([sydney_sr, sydney_s_nr], axis=0, ignore_index=True)\n",
    "sydney_df.info()"
   ]
  },
  {
   "cell_type": "markdown",
   "id": "af9ed0f9-07b3-4a01-8ce4-650aea22b7c8",
   "metadata": {},
   "source": [
    "## Save datasets"
   ]
  },
  {
   "cell_type": "code",
   "execution_count": 149,
   "id": "a6c345d1-5945-400f-8d46-0cec40b7d8bd",
   "metadata": {},
   "outputs": [
    {
     "name": "stdout",
     "output_type": "stream",
     "text": [
      "File saved\n"
     ]
    }
   ],
   "source": [
    "germanwings_df.to_csv('germanwings.csv', index=False)\n",
    "print('File saved')"
   ]
  },
  {
   "cell_type": "code",
   "execution_count": 150,
   "id": "5b3381b6-9167-4400-8f47-dab9e18a3ddc",
   "metadata": {},
   "outputs": [
    {
     "name": "stdout",
     "output_type": "stream",
     "text": [
      "File saved\n"
     ]
    }
   ],
   "source": [
    "charlie_df.to_csv('charlie.csv', index=False)\n",
    "print('File saved')"
   ]
  },
  {
   "cell_type": "code",
   "execution_count": 151,
   "id": "a143fb89-04a9-4348-918f-a4e4b1883a49",
   "metadata": {},
   "outputs": [
    {
     "name": "stdout",
     "output_type": "stream",
     "text": [
      "File saved\n"
     ]
    }
   ],
   "source": [
    "ottawa_df.to_csv('ottawa.csv', index=False)\n",
    "print('File saved')"
   ]
  },
  {
   "cell_type": "code",
   "execution_count": 152,
   "id": "555675c4-dd54-4190-8fb7-f628ca74a8c0",
   "metadata": {},
   "outputs": [
    {
     "name": "stdout",
     "output_type": "stream",
     "text": [
      "File saved\n"
     ]
    }
   ],
   "source": [
    "ferguson_df.to_csv('ferguson.csv', index=False)\n",
    "print('File saved')"
   ]
  },
  {
   "cell_type": "code",
   "execution_count": 153,
   "id": "58370665-4c9c-4570-a9ed-a2510f8376f4",
   "metadata": {},
   "outputs": [
    {
     "name": "stdout",
     "output_type": "stream",
     "text": [
      "File saved\n"
     ]
    }
   ],
   "source": [
    "sydney_df.to_csv('sydney.csv', index=False)\n",
    "print('File saved')"
   ]
  }
 ],
 "metadata": {
  "kernelspec": {
   "display_name": "Python 3 (ipykernel)",
   "language": "python",
   "name": "python3"
  },
  "language_info": {
   "codemirror_mode": {
    "name": "ipython",
    "version": 3
   },
   "file_extension": ".py",
   "mimetype": "text/x-python",
   "name": "python",
   "nbconvert_exporter": "python",
   "pygments_lexer": "ipython3",
   "version": "3.10.12"
  }
 },
 "nbformat": 4,
 "nbformat_minor": 5
}

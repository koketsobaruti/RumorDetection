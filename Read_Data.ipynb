{
 "cells": [
  {
   "cell_type": "code",
   "execution_count": 6,
   "id": "ab4ae187-2485-4d26-8d45-1c7daa3c6855",
   "metadata": {},
   "outputs": [],
   "source": [
    "import os, json\n",
    "import pandas as pd"
   ]
  },
  {
   "cell_type": "markdown",
   "id": "059a45f4-02f4-44b6-b91e-670090db2bda",
   "metadata": {
    "jp-MarkdownHeadingCollapsed": true
   },
   "source": [
    "### Read source tweets"
   ]
  },
  {
   "cell_type": "code",
   "execution_count": 7,
   "id": "ed506f8a-e177-4d97-8ca5-ef4f4f1dbd24",
   "metadata": {},
   "outputs": [],
   "source": [
    "def fetch_source_df(topic, classtype):\n",
    "    # Define the directory path\n",
    "    directory_path = \"phemernrdataset/pheme-rnr-dataset/\"+topic+\"/\"+classtype+\"/\"\n",
    "    \n",
    "    #create an empty DataFrame\n",
    "    source_Tweet_data = pd.DataFrame()\n",
    "    user_id = []\n",
    "    tweet_id = []\n",
    "    tweet_text = []\n",
    "    retweet_count = []\n",
    "    favorite_count = []\n",
    "    followers_count = []\n",
    "    friends_count = []\n",
    "    verified = []\n",
    "    created_at = []\n",
    "    # Get the list of folders in the directory\n",
    "    folders = [folder for folder in os.listdir(directory_path) if os.path.isdir(os.path.join(directory_path, folder))]\n",
    "    \n",
    "    # Get the first folder name\n",
    "    first_folder_name = folders[0] if folders else None\n",
    "    #print(len(folders))\n",
    "    print(\"First folder name:\", first_folder_name)\n",
    "    index = 0\n",
    "    for file_name in folders:\n",
    "        new_path = directory_path + file_name+'/' + 'source-tweet/' + file_name + '.json'\n",
    "        f = open(new_path)\n",
    "        data = json.load(f)\n",
    "        #print(data)\n",
    "        user_id.append(data['user']['id_str'])\n",
    "        tweet_id.append(data['id_str'])\n",
    "        tweet_text.append(data['text'])\n",
    "        retweet_count.append(data['retweet_count'])\n",
    "        favorite_count.append(data['favorite_count'])\n",
    "        followers_count.append(data['user']['followers_count'])\n",
    "        friends_count.append(data['user']['friends_count'])\n",
    "        verified.append(data['user']['verified'])\n",
    "        created_at.append(data['created_at'])\n",
    "    \n",
    "    #create a df\n",
    "    data = {'user_id': user_id,\n",
    "            'tweet_id':tweet_id, \n",
    "            'tweet_text':tweet_text, \n",
    "            'retweet_count':retweet_count,\n",
    "            'favorite_count':favorite_count,\n",
    "            'followers_count':followers_count, \n",
    "            'friends_count':friends_count, \n",
    "            'verified':verified, \n",
    "            'created_at':created_at}\n",
    "    \n",
    "    df = pd.DataFrame(data)\n",
    "\n",
    "    if(classtype=='rumours'):\n",
    "        df['label'] = 'rumor'\n",
    "\n",
    "    else:\n",
    "        df['label'] = 'non-rumor'\n",
    "    \n",
    "    df['label'] = df['label'].replace({'rumor': 1, 'non-rumor': 0})\n",
    "    df['verified'] = df['verified'].replace({True: 1, False: 0})\n",
    "    \n",
    "    return df"
   ]
  },
  {
   "cell_type": "markdown",
   "id": "2c0d3827-8247-4349-864a-6dbb7196adcd",
   "metadata": {},
   "source": [
    "### Read response tweets"
   ]
  },
  {
   "cell_type": "code",
   "execution_count": 8,
   "id": "ddbbf9ad-c5d5-444d-b36f-312b3e87d58c",
   "metadata": {},
   "outputs": [],
   "source": [
    "def fetch_response_tweets(topic, classtype, res_type):\n",
    "    response_user_id = []\n",
    "    response_tweet_id = []\n",
    "    in_reply_to_status_id = []\n",
    "    in_reply_to_user_id = []\n",
    "    response_tweet_text = []\n",
    "    response_retweet_count = []\n",
    "    response_favorite_count = []\n",
    "    response_created_at = []\n",
    "    main_thread_id = []\n",
    "    response_directory_path = \"phemernrdataset/pheme-rnr-dataset/\"+topic+\"/\"+classtype+\"/\"\n",
    "    # Get the list of folders in the directory\n",
    "    folders = [folder for folder in os.listdir(response_directory_path) \n",
    "               if os.path.isdir(os.path.join(response_directory_path, folder))]\n",
    "    \n",
    "    #loop through all the folders in the directory\n",
    "    for folder in folders:\n",
    "        path = response_directory_path + folder+'/' + 'reactions/'\n",
    "        json_files = sorted([pos_json for pos_json in os.listdir(path)\n",
    "                 if pos_json.endswith('.json')])\n",
    "        \n",
    "        for index, js in enumerate(json_files):\n",
    "    \n",
    "            try:\n",
    "                #open the file using the given directory\n",
    "                with open(os.path.join(path, js)) as file:\n",
    "                    #load data from json file\n",
    "                    data = json.load(file)\n",
    "    \n",
    "                    #convert to string first before storing in array\n",
    "                    main_thread_id.append(folder)\n",
    "                    response_user_id.append(data['user']['id_str'])\n",
    "                    response_tweet_id.append(data['id_str'])\n",
    "                    in_reply_to_status_id.append(str(data['in_reply_to_status_id_str']))\n",
    "                    in_reply_to_user_id.append(str(data['in_reply_to_user_id_str']))\n",
    "                    response_tweet_text.append(data['text'])\n",
    "                    response_retweet_count.append(data['retweet_count'])\n",
    "                    response_favorite_count.append(data['favorite_count'])\n",
    "                    response_created_at.append(data['created_at'])\n",
    "    \n",
    "            except Exception as inst:\n",
    "                print(type(inst))    # the exception type\n",
    "                print(inst.args)     # arguments stored in .args\n",
    "                print(inst) \n",
    "    \n",
    "    \n",
    "    \n",
    "    #create a df\n",
    "    data = {'main_tweet_id': main_thread_id,\n",
    "            'response_tweet_id':response_tweet_id, \n",
    "            'user_id': response_user_id,\n",
    "            'in_reply_to_status_id':in_reply_to_status_id, \n",
    "            'in_reply_to_user_id':in_reply_to_user_id, \n",
    "            'response_tweet_text':response_tweet_text,\n",
    "            'retweet_count': response_retweet_count,\n",
    "            'favorite_count':response_favorite_count,\n",
    "            'response_created_at':response_created_at}\n",
    "    \n",
    "    response_tweet_data = pd.DataFrame(data)\n",
    "    response_tweet_data['label'] = res_type\n",
    "    response_tweet_data['label'] = response_tweet_data['label'].replace({'rumour': 1, 'non-rumour': 0})\n",
    "    return response_tweet_data"
   ]
  },
  {
   "cell_type": "code",
   "execution_count": 3,
   "id": "13233ffe-aa4e-4fc2-857c-0271f68aca5c",
   "metadata": {},
   "outputs": [],
   "source": [
    "def concat_files_and_save(rumor_df, nr_df, topic, category):\n",
    "    frame = [rumor_df, nr_df]\n",
    "    df = pd.concat(frame)\n",
    "    df.to_csv(f'{topic}_{category}.csv', index=False, na_rep='None')"
   ]
  },
  {
   "cell_type": "code",
   "execution_count": 139,
   "id": "6a9fffc0-f1b6-40d2-95d6-7246e04e8c80",
   "metadata": {},
   "outputs": [],
   "source": [
    "def check_nulls(df):\n",
    "    # check null rows\n",
    "    null_mask = df.isnull().any(axis=1)\n",
    "    null_rows = df[null_mask]\n",
    "    return null_rows"
   ]
  },
  {
   "cell_type": "code",
   "execution_count": 281,
   "id": "79be147c-5b1c-40fe-8c52-001000076dba",
   "metadata": {},
   "outputs": [],
   "source": [
    "def replace_vals(df):\n",
    "    columns = ['in_reply_to_status_id', 'in_reply_to_user_id']\n",
    "    df[columns] = df[columns].fillna('No ID') \n",
    "    return df"
   ]
  },
  {
   "cell_type": "code",
   "execution_count": 141,
   "id": "5c10cfa8-c284-47ac-b7c8-ed6d88c3a4a4",
   "metadata": {},
   "outputs": [],
   "source": [
    "def to_str(df):\n",
    "    rows = ['main_tweet_id', 'in_reply_to_status_id', 'in_reply_to_user_id','user_id','response_tweet_id']\n",
    "    df[rows] = df[rows].astype(str)\n",
    "    return df"
   ]
  },
  {
   "cell_type": "code",
   "execution_count": 321,
   "id": "a52fefc3-246c-4b90-bd65-c0ae3bc66728",
   "metadata": {},
   "outputs": [],
   "source": [
    "concat_files_and_save(ottawa_st_rumors, ottawa_st_nr, 'ottawa', 'source') \n",
    "concat_files_and_save(charliehebdo_st_rumors, charliehebdo_st_nr, 'charliehebdo', 'source') \n",
    "concat_files_and_save(ferguson_st_rumors, ferguson_st_nr, 'ferguson', 'source') \n",
    "concat_files_and_save(germanwings_crash_st_rumors, germanwingscrash_st_nr, 'germanwings', 'source') \n",
    "concat_files_and_save(sydneysiege_st_rumors, sydneysiege_st_nr, 'sydneysiege', 'source') "
   ]
  },
  {
   "cell_type": "code",
   "execution_count": 27,
   "id": "cd2b0848-219d-49a9-9b65-84d5fe261408",
   "metadata": {},
   "outputs": [],
   "source": [
    "concat_files_and_save(ottawa_r_res, ottawa_res_nr, 'ottawa', 'response') \n",
    "concat_files_and_save(charliehebdo_r_res, charliehebdo_nr_res, 'charliehebdo', 'response') \n",
    "concat_files_and_save(ferguson_r_res, ferguson_nr_res, 'ferguson', 'response') \n",
    "concat_files_and_save(germanwings_crash_r_res, germanwings_nr_res, 'germanwings', 'response') \n",
    "concat_files_and_save(sydneysiege_r_res, sydneysiege_nr_res, 'sydneysiege', 'response') "
   ]
  },
  {
   "cell_type": "code",
   "execution_count": 20,
   "id": "b1ed79f4-e6bd-4d1f-916d-332b5efefb8c",
   "metadata": {
    "scrolled": true
   },
   "outputs": [
    {
     "name": "stdout",
     "output_type": "stream",
     "text": [
      "Null values before saving:\n",
      "main_tweet_id            0\n",
      "response_tweet_id        0\n",
      "user_id                  0\n",
      "in_reply_to_status_id    0\n",
      "in_reply_to_user_id      0\n",
      "response_tweet_text      0\n",
      "retweet_count            0\n",
      "favorite_count           0\n",
      "response_created_at      0\n",
      "label                    0\n",
      "dtype: int64\n"
     ]
    }
   ],
   "source": [
    "# Convert all columns to appropriate types\n",
    "frame = [germanwings_crash_r_res, germanwings_nr_res]\n",
    "df = pd.concat(frame)\n",
    "df['main_tweet_id'] = df['main_tweet_id'].astype(str)\n",
    "df['response_tweet_id'] = df['response_tweet_id'].astype(str)\n",
    "df['user_id'] = df['user_id'].astype(str)\n",
    "df['in_reply_to_status_id'] = df['in_reply_to_status_id'].astype(str)\n",
    "df['in_reply_to_user_id'] = df['in_reply_to_user_id'].astype(str)\n",
    "df['response_tweet_text'] = df['response_tweet_text'].astype(str)\n",
    "df['retweet_count'] = df['retweet_count'].astype(int)\n",
    "df['favorite_count'] = df['favorite_count'].astype(int)\n",
    "df['response_created_at'] = df['response_created_at'].astype(str)\n",
    "df['label'] = df['label'].astype(int)\n",
    "\n",
    "# Check for null values\n",
    "print(\"Null values before saving:\")\n",
    "print(df.isnull().sum())"
   ]
  },
  {
   "cell_type": "code",
   "execution_count": 21,
   "id": "cc2fc986-1ec7-4f11-a12d-d181bf49d8a8",
   "metadata": {},
   "outputs": [
    {
     "name": "stdout",
     "output_type": "stream",
     "text": [
      "File_saved\n"
     ]
    }
   ],
   "source": [
    "df.to_csv('german_reponses.csv', index=False, encoding='utf-8', na_rep='')\n",
    "print('File_saved')"
   ]
  },
  {
   "cell_type": "code",
   "execution_count": 26,
   "id": "1ee56008-ab90-4f8a-91e0-aa09227866a3",
   "metadata": {},
   "outputs": [
    {
     "name": "stdout",
     "output_type": "stream",
     "text": [
      "object\n"
     ]
    }
   ],
   "source": [
    "print((df['in_reply_to_status_id'][df['in_reply_to_status_id']=='None']).dtype)"
   ]
  },
  {
   "cell_type": "markdown",
   "id": "3469b7b7-a74c-43a0-83b3-c653d6bc5257",
   "metadata": {},
   "source": [
    "## Read Rumors"
   ]
  },
  {
   "cell_type": "markdown",
   "id": "2a1bfbbb-2a72-4139-b35a-75fff71786f5",
   "metadata": {
    "jp-MarkdownHeadingCollapsed": true
   },
   "source": [
    "### Source Tweets"
   ]
  },
  {
   "cell_type": "code",
   "execution_count": 299,
   "id": "96e00a02-d9c1-4c1e-b535-749de9d29398",
   "metadata": {
    "scrolled": true
   },
   "outputs": [
    {
     "name": "stdout",
     "output_type": "stream",
     "text": [
      "First folder name: 524944399890124801\n",
      "<class 'pandas.core.frame.DataFrame'>\n",
      "RangeIndex: 470 entries, 0 to 469\n",
      "Data columns (total 10 columns):\n",
      " #   Column           Non-Null Count  Dtype \n",
      "---  ------           --------------  ----- \n",
      " 0   user_id          470 non-null    object\n",
      " 1   tweet_id         470 non-null    object\n",
      " 2   tweet_text       470 non-null    object\n",
      " 3   retweet_count    470 non-null    int64 \n",
      " 4   favorite_count   470 non-null    int64 \n",
      " 5   followers_count  470 non-null    int64 \n",
      " 6   friends_count    470 non-null    int64 \n",
      " 7   verified         470 non-null    int64 \n",
      " 8   created_at       470 non-null    object\n",
      " 9   label            470 non-null    int64 \n",
      "dtypes: int64(6), object(4)\n",
      "memory usage: 36.8+ KB\n",
      "None\n"
     ]
    },
    {
     "name": "stderr",
     "output_type": "stream",
     "text": [
      "/tmp/ipykernel_9487/1796586709.py:58: FutureWarning: Downcasting behavior in `replace` is deprecated and will be removed in a future version. To retain the old behavior, explicitly call `result.infer_objects(copy=False)`. To opt-in to the future behavior, set `pd.set_option('future.no_silent_downcasting', True)`\n",
      "  df['label'] = df['label'].replace({'rumor': 1, 'non-rumor': 0})\n",
      "/tmp/ipykernel_9487/1796586709.py:59: FutureWarning: Downcasting behavior in `replace` is deprecated and will be removed in a future version. To retain the old behavior, explicitly call `result.infer_objects(copy=False)`. To opt-in to the future behavior, set `pd.set_option('future.no_silent_downcasting', True)`\n",
      "  df['verified'] = df['verified'].replace({True: 1, False: 0})\n"
     ]
    }
   ],
   "source": [
    "ottawa_st_rumors = fetch_source_df('ottawashooting', 'rumours')\n",
    "print(ottawa_st_rumors.info())"
   ]
  },
  {
   "cell_type": "code",
   "execution_count": 300,
   "id": "1b21c45a-acf7-449d-aba9-b2cbfc135a1e",
   "metadata": {
    "scrolled": true
   },
   "outputs": [
    {
     "name": "stdout",
     "output_type": "stream",
     "text": [
      "First folder name: 553487971497041920\n",
      "<class 'pandas.core.frame.DataFrame'>\n",
      "RangeIndex: 458 entries, 0 to 457\n",
      "Data columns (total 10 columns):\n",
      " #   Column           Non-Null Count  Dtype \n",
      "---  ------           --------------  ----- \n",
      " 0   user_id          458 non-null    object\n",
      " 1   tweet_id         458 non-null    object\n",
      " 2   tweet_text       458 non-null    object\n",
      " 3   retweet_count    458 non-null    int64 \n",
      " 4   favorite_count   458 non-null    int64 \n",
      " 5   followers_count  458 non-null    int64 \n",
      " 6   friends_count    458 non-null    int64 \n",
      " 7   verified         458 non-null    int64 \n",
      " 8   created_at       458 non-null    object\n",
      " 9   label            458 non-null    int64 \n",
      "dtypes: int64(6), object(4)\n",
      "memory usage: 35.9+ KB\n",
      "None\n"
     ]
    },
    {
     "name": "stderr",
     "output_type": "stream",
     "text": [
      "/tmp/ipykernel_9487/1796586709.py:58: FutureWarning: Downcasting behavior in `replace` is deprecated and will be removed in a future version. To retain the old behavior, explicitly call `result.infer_objects(copy=False)`. To opt-in to the future behavior, set `pd.set_option('future.no_silent_downcasting', True)`\n",
      "  df['label'] = df['label'].replace({'rumor': 1, 'non-rumor': 0})\n",
      "/tmp/ipykernel_9487/1796586709.py:59: FutureWarning: Downcasting behavior in `replace` is deprecated and will be removed in a future version. To retain the old behavior, explicitly call `result.infer_objects(copy=False)`. To opt-in to the future behavior, set `pd.set_option('future.no_silent_downcasting', True)`\n",
      "  df['verified'] = df['verified'].replace({True: 1, False: 0})\n"
     ]
    }
   ],
   "source": [
    "charliehebdo_st_rumors = fetch_source_df('charliehebdo', 'rumours')\n",
    "print(charliehebdo_st_rumors.info())"
   ]
  },
  {
   "cell_type": "code",
   "execution_count": 301,
   "id": "c22c76a9-58b6-4026-a29f-75e449be46d2",
   "metadata": {},
   "outputs": [
    {
     "name": "stdout",
     "output_type": "stream",
     "text": [
      "First folder name: 500291013521334272\n",
      "<class 'pandas.core.frame.DataFrame'>\n",
      "RangeIndex: 284 entries, 0 to 283\n",
      "Data columns (total 10 columns):\n",
      " #   Column           Non-Null Count  Dtype \n",
      "---  ------           --------------  ----- \n",
      " 0   user_id          284 non-null    object\n",
      " 1   tweet_id         284 non-null    object\n",
      " 2   tweet_text       284 non-null    object\n",
      " 3   retweet_count    284 non-null    int64 \n",
      " 4   favorite_count   284 non-null    int64 \n",
      " 5   followers_count  284 non-null    int64 \n",
      " 6   friends_count    284 non-null    int64 \n",
      " 7   verified         284 non-null    int64 \n",
      " 8   created_at       284 non-null    object\n",
      " 9   label            284 non-null    int64 \n",
      "dtypes: int64(6), object(4)\n",
      "memory usage: 22.3+ KB\n",
      "None\n"
     ]
    },
    {
     "name": "stderr",
     "output_type": "stream",
     "text": [
      "/tmp/ipykernel_9487/1796586709.py:58: FutureWarning: Downcasting behavior in `replace` is deprecated and will be removed in a future version. To retain the old behavior, explicitly call `result.infer_objects(copy=False)`. To opt-in to the future behavior, set `pd.set_option('future.no_silent_downcasting', True)`\n",
      "  df['label'] = df['label'].replace({'rumor': 1, 'non-rumor': 0})\n",
      "/tmp/ipykernel_9487/1796586709.py:59: FutureWarning: Downcasting behavior in `replace` is deprecated and will be removed in a future version. To retain the old behavior, explicitly call `result.infer_objects(copy=False)`. To opt-in to the future behavior, set `pd.set_option('future.no_silent_downcasting', True)`\n",
      "  df['verified'] = df['verified'].replace({True: 1, False: 0})\n"
     ]
    }
   ],
   "source": [
    "ferguson_st_rumors = fetch_source_df('ferguson', 'rumours')\n",
    "print(ferguson_st_rumors.info())"
   ]
  },
  {
   "cell_type": "code",
   "execution_count": 302,
   "id": "25b19bd7-c79e-4be0-9258-2af4d9da2409",
   "metadata": {},
   "outputs": [
    {
     "name": "stdout",
     "output_type": "stream",
     "text": [
      "First folder name: 580387098039046145\n",
      "<class 'pandas.core.frame.DataFrame'>\n",
      "RangeIndex: 238 entries, 0 to 237\n",
      "Data columns (total 10 columns):\n",
      " #   Column           Non-Null Count  Dtype \n",
      "---  ------           --------------  ----- \n",
      " 0   user_id          238 non-null    object\n",
      " 1   tweet_id         238 non-null    object\n",
      " 2   tweet_text       238 non-null    object\n",
      " 3   retweet_count    238 non-null    int64 \n",
      " 4   favorite_count   238 non-null    int64 \n",
      " 5   followers_count  238 non-null    int64 \n",
      " 6   friends_count    238 non-null    int64 \n",
      " 7   verified         238 non-null    int64 \n",
      " 8   created_at       238 non-null    object\n",
      " 9   label            238 non-null    int64 \n",
      "dtypes: int64(6), object(4)\n",
      "memory usage: 18.7+ KB\n",
      "None\n"
     ]
    },
    {
     "name": "stderr",
     "output_type": "stream",
     "text": [
      "/tmp/ipykernel_9487/1796586709.py:58: FutureWarning: Downcasting behavior in `replace` is deprecated and will be removed in a future version. To retain the old behavior, explicitly call `result.infer_objects(copy=False)`. To opt-in to the future behavior, set `pd.set_option('future.no_silent_downcasting', True)`\n",
      "  df['label'] = df['label'].replace({'rumor': 1, 'non-rumor': 0})\n",
      "/tmp/ipykernel_9487/1796586709.py:59: FutureWarning: Downcasting behavior in `replace` is deprecated and will be removed in a future version. To retain the old behavior, explicitly call `result.infer_objects(copy=False)`. To opt-in to the future behavior, set `pd.set_option('future.no_silent_downcasting', True)`\n",
      "  df['verified'] = df['verified'].replace({True: 1, False: 0})\n"
     ]
    }
   ],
   "source": [
    "germanwings_crash_st_rumors = fetch_source_df('germanwings-crash', 'rumours')\n",
    "print(germanwings_crash_st_rumors.info())"
   ]
  },
  {
   "cell_type": "code",
   "execution_count": 303,
   "id": "5348115e-073d-4ef9-a0dd-682dd0d2bc4c",
   "metadata": {
    "scrolled": true
   },
   "outputs": [
    {
     "name": "stdout",
     "output_type": "stream",
     "text": [
      "First folder name: 544284823041212416\n",
      "<class 'pandas.core.frame.DataFrame'>\n",
      "RangeIndex: 522 entries, 0 to 521\n",
      "Data columns (total 10 columns):\n",
      " #   Column           Non-Null Count  Dtype \n",
      "---  ------           --------------  ----- \n",
      " 0   user_id          522 non-null    object\n",
      " 1   tweet_id         522 non-null    object\n",
      " 2   tweet_text       522 non-null    object\n",
      " 3   retweet_count    522 non-null    int64 \n",
      " 4   favorite_count   522 non-null    int64 \n",
      " 5   followers_count  522 non-null    int64 \n",
      " 6   friends_count    522 non-null    int64 \n",
      " 7   verified         522 non-null    int64 \n",
      " 8   created_at       522 non-null    object\n",
      " 9   label            522 non-null    int64 \n",
      "dtypes: int64(6), object(4)\n",
      "memory usage: 40.9+ KB\n",
      "None\n"
     ]
    },
    {
     "name": "stderr",
     "output_type": "stream",
     "text": [
      "/tmp/ipykernel_9487/1796586709.py:58: FutureWarning: Downcasting behavior in `replace` is deprecated and will be removed in a future version. To retain the old behavior, explicitly call `result.infer_objects(copy=False)`. To opt-in to the future behavior, set `pd.set_option('future.no_silent_downcasting', True)`\n",
      "  df['label'] = df['label'].replace({'rumor': 1, 'non-rumor': 0})\n",
      "/tmp/ipykernel_9487/1796586709.py:59: FutureWarning: Downcasting behavior in `replace` is deprecated and will be removed in a future version. To retain the old behavior, explicitly call `result.infer_objects(copy=False)`. To opt-in to the future behavior, set `pd.set_option('future.no_silent_downcasting', True)`\n",
      "  df['verified'] = df['verified'].replace({True: 1, False: 0})\n"
     ]
    }
   ],
   "source": [
    "sydneysiege_st_rumors = fetch_source_df('sydneysiege', 'rumours')\n",
    "print(sydneysiege_st_rumors.info())"
   ]
  },
  {
   "cell_type": "markdown",
   "id": "cfa7c65b-15d6-4d8d-bbbc-37183c6f9bee",
   "metadata": {},
   "source": [
    "### Rumor Responses"
   ]
  },
  {
   "cell_type": "markdown",
   "id": "6e36f568-7558-407a-9918-e75d75dd5b87",
   "metadata": {
    "jp-MarkdownHeadingCollapsed": true
   },
   "source": [
    "#### Ottawa"
   ]
  },
  {
   "cell_type": "code",
   "execution_count": 9,
   "id": "08d20caf-4ec5-4961-8bbb-3de1a2b83b77",
   "metadata": {
    "scrolled": true
   },
   "outputs": [
    {
     "name": "stdout",
     "output_type": "stream",
     "text": [
      "<class 'pandas.core.frame.DataFrame'>\n",
      "RangeIndex: 5966 entries, 0 to 5965\n",
      "Data columns (total 10 columns):\n",
      " #   Column                 Non-Null Count  Dtype \n",
      "---  ------                 --------------  ----- \n",
      " 0   main_tweet_id          5966 non-null   object\n",
      " 1   response_tweet_id      5966 non-null   object\n",
      " 2   user_id                5966 non-null   object\n",
      " 3   in_reply_to_status_id  5966 non-null   object\n",
      " 4   in_reply_to_user_id    5966 non-null   object\n",
      " 5   response_tweet_text    5966 non-null   object\n",
      " 6   retweet_count          5966 non-null   int64 \n",
      " 7   favorite_count         5966 non-null   int64 \n",
      " 8   response_created_at    5966 non-null   object\n",
      " 9   label                  5966 non-null   int64 \n",
      "dtypes: int64(3), object(7)\n",
      "memory usage: 466.2+ KB\n",
      "None\n"
     ]
    },
    {
     "name": "stderr",
     "output_type": "stream",
     "text": [
      "/tmp/ipykernel_285768/3794510746.py:61: FutureWarning: Downcasting behavior in `replace` is deprecated and will be removed in a future version. To retain the old behavior, explicitly call `result.infer_objects(copy=False)`. To opt-in to the future behavior, set `pd.set_option('future.no_silent_downcasting', True)`\n",
      "  response_tweet_data['label'] = response_tweet_data['label'].replace({'rumour': 1, 'non-rumour': 0})\n"
     ]
    }
   ],
   "source": [
    "ottawa_r_res = fetch_response_tweets('ottawashooting', 'rumours','rumour')\n",
    "print(ottawa_r_res.info())"
   ]
  },
  {
   "cell_type": "code",
   "execution_count": 148,
   "id": "28745dc6-229f-48f5-a7da-90b0bb6b0c2e",
   "metadata": {
    "scrolled": true
   },
   "outputs": [
    {
     "data": {
      "text/html": [
       "<div>\n",
       "<style scoped>\n",
       "    .dataframe tbody tr th:only-of-type {\n",
       "        vertical-align: middle;\n",
       "    }\n",
       "\n",
       "    .dataframe tbody tr th {\n",
       "        vertical-align: top;\n",
       "    }\n",
       "\n",
       "    .dataframe thead th {\n",
       "        text-align: right;\n",
       "    }\n",
       "</style>\n",
       "<table border=\"1\" class=\"dataframe\">\n",
       "  <thead>\n",
       "    <tr style=\"text-align: right;\">\n",
       "      <th></th>\n",
       "      <th>main_tweet_id</th>\n",
       "      <th>in_reply_to_status_id</th>\n",
       "      <th>in_reply_to_user_id</th>\n",
       "      <th>user_id</th>\n",
       "      <th>response_tweet_id</th>\n",
       "      <th>response_tweet_text</th>\n",
       "      <th>response_created_at</th>\n",
       "      <th>label</th>\n",
       "    </tr>\n",
       "  </thead>\n",
       "  <tbody>\n",
       "    <tr>\n",
       "      <th>407</th>\n",
       "      <td>524969144832491520</td>\n",
       "      <td>NaN</td>\n",
       "      <td>NaN</td>\n",
       "      <td>1574237179</td>\n",
       "      <td>524972939813605376</td>\n",
       "      <td>@Nduna_lux @SkyNews Religion. People who can't...</td>\n",
       "      <td>Wed Oct 22 17:17:57 +0000 2014</td>\n",
       "      <td>rumour</td>\n",
       "    </tr>\n",
       "    <tr>\n",
       "      <th>1870</th>\n",
       "      <td>524941504796962816</td>\n",
       "      <td>NaN</td>\n",
       "      <td>NaN</td>\n",
       "      <td>284006171</td>\n",
       "      <td>524955504758779905</td>\n",
       "      <td>@TheGreatKnuckle @catekustanczy frightening sc...</td>\n",
       "      <td>Wed Oct 22 16:08:40 +0000 2014</td>\n",
       "      <td>rumour</td>\n",
       "    </tr>\n",
       "    <tr>\n",
       "      <th>2561</th>\n",
       "      <td>524931913426157568</td>\n",
       "      <td>NaN</td>\n",
       "      <td>NaN</td>\n",
       "      <td>181033896</td>\n",
       "      <td>524944289043066880</td>\n",
       "      <td>@manof1000 @CP24 2 soldiers got run over yeste...</td>\n",
       "      <td>Wed Oct 22 15:24:06 +0000 2014</td>\n",
       "      <td>rumour</td>\n",
       "    </tr>\n",
       "    <tr>\n",
       "      <th>3317</th>\n",
       "      <td>525023025792835585</td>\n",
       "      <td>NaN</td>\n",
       "      <td>NaN</td>\n",
       "      <td>2675225370</td>\n",
       "      <td>525040225441951744</td>\n",
       "      <td>@butterfly_LV @Cameron_Gray @globeandmail 😢</td>\n",
       "      <td>Wed Oct 22 21:45:19 +0000 2014</td>\n",
       "      <td>rumour</td>\n",
       "    </tr>\n",
       "    <tr>\n",
       "      <th>3323</th>\n",
       "      <td>524949339131904000</td>\n",
       "      <td>NaN</td>\n",
       "      <td>NaN</td>\n",
       "      <td>168697045</td>\n",
       "      <td>524952230324371456</td>\n",
       "      <td>@Nduna_lux @BBCBreaking @BBCWorld It's not Mus...</td>\n",
       "      <td>Wed Oct 22 15:55:39 +0000 2014</td>\n",
       "      <td>rumour</td>\n",
       "    </tr>\n",
       "    <tr>\n",
       "      <th>3327</th>\n",
       "      <td>524949339131904000</td>\n",
       "      <td>NaN</td>\n",
       "      <td>NaN</td>\n",
       "      <td>21213776</td>\n",
       "      <td>524954176619831297</td>\n",
       "      <td>@Nduna_lux @BBCBreaking @BBCWorld learn how to...</td>\n",
       "      <td>Wed Oct 22 16:03:23 +0000 2014</td>\n",
       "      <td>rumour</td>\n",
       "    </tr>\n",
       "    <tr>\n",
       "      <th>3332</th>\n",
       "      <td>524949339131904000</td>\n",
       "      <td>NaN</td>\n",
       "      <td>NaN</td>\n",
       "      <td>2547509651</td>\n",
       "      <td>524956770268372992</td>\n",
       "      <td>@Nduna_lux @BBCBreaking @BBCWorld @Dowlerjnr b...</td>\n",
       "      <td>Wed Oct 22 16:13:41 +0000 2014</td>\n",
       "      <td>rumour</td>\n",
       "    </tr>\n",
       "    <tr>\n",
       "      <th>3340</th>\n",
       "      <td>524949339131904000</td>\n",
       "      <td>NaN</td>\n",
       "      <td>NaN</td>\n",
       "      <td>21213776</td>\n",
       "      <td>524960761677103104</td>\n",
       "      <td>@Nduna_lux @BBCBreaking @BBCWorld go there or ...</td>\n",
       "      <td>Wed Oct 22 16:29:33 +0000 2014</td>\n",
       "      <td>rumour</td>\n",
       "    </tr>\n",
       "    <tr>\n",
       "      <th>3343</th>\n",
       "      <td>524949339131904000</td>\n",
       "      <td>NaN</td>\n",
       "      <td>NaN</td>\n",
       "      <td>21213776</td>\n",
       "      <td>524963463689666560</td>\n",
       "      <td>@Nduna_lux @BBCBreaking @BBCWorld look I'm not...</td>\n",
       "      <td>Wed Oct 22 16:40:17 +0000 2014</td>\n",
       "      <td>rumour</td>\n",
       "    </tr>\n",
       "    <tr>\n",
       "      <th>3365</th>\n",
       "      <td>524949339131904000</td>\n",
       "      <td>NaN</td>\n",
       "      <td>NaN</td>\n",
       "      <td>325942107</td>\n",
       "      <td>524976393499992064</td>\n",
       "      <td>@Nduna_lux @sophie__malik It's official, you'r...</td>\n",
       "      <td>Wed Oct 22 17:31:40 +0000 2014</td>\n",
       "      <td>rumour</td>\n",
       "    </tr>\n",
       "    <tr>\n",
       "      <th>3366</th>\n",
       "      <td>524949339131904000</td>\n",
       "      <td>NaN</td>\n",
       "      <td>NaN</td>\n",
       "      <td>325942107</td>\n",
       "      <td>524984622921183233</td>\n",
       "      <td>@Nduna_lux @sophie__malik In humanity. No reli...</td>\n",
       "      <td>Wed Oct 22 18:04:22 +0000 2014</td>\n",
       "      <td>rumour</td>\n",
       "    </tr>\n",
       "    <tr>\n",
       "      <th>3367</th>\n",
       "      <td>524949339131904000</td>\n",
       "      <td>NaN</td>\n",
       "      <td>NaN</td>\n",
       "      <td>21213776</td>\n",
       "      <td>524984811312939008</td>\n",
       "      <td>@Nduna_lux @BBCBreaking @BBCWorld read exodus ...</td>\n",
       "      <td>Wed Oct 22 18:05:07 +0000 2014</td>\n",
       "      <td>rumour</td>\n",
       "    </tr>\n",
       "    <tr>\n",
       "      <th>3368</th>\n",
       "      <td>524949339131904000</td>\n",
       "      <td>NaN</td>\n",
       "      <td>NaN</td>\n",
       "      <td>325942107</td>\n",
       "      <td>524984845055700992</td>\n",
       "      <td>@Nduna_lux @sophie__malik There are lunatics i...</td>\n",
       "      <td>Wed Oct 22 18:05:15 +0000 2014</td>\n",
       "      <td>rumour</td>\n",
       "    </tr>\n",
       "    <tr>\n",
       "      <th>3374</th>\n",
       "      <td>524949339131904000</td>\n",
       "      <td>NaN</td>\n",
       "      <td>NaN</td>\n",
       "      <td>325942107</td>\n",
       "      <td>525006755680382977</td>\n",
       "      <td>@Nduna_lux @sophie__malik You already don't.</td>\n",
       "      <td>Wed Oct 22 19:32:19 +0000 2014</td>\n",
       "      <td>rumour</td>\n",
       "    </tr>\n",
       "    <tr>\n",
       "      <th>3598</th>\n",
       "      <td>524974779540197376</td>\n",
       "      <td>NaN</td>\n",
       "      <td>NaN</td>\n",
       "      <td>73152491</td>\n",
       "      <td>524977344143192064</td>\n",
       "      <td>@COCAPTEA  Go fuck yourself.</td>\n",
       "      <td>Wed Oct 22 17:35:27 +0000 2014</td>\n",
       "      <td>rumour</td>\n",
       "    </tr>\n",
       "    <tr>\n",
       "      <th>4073</th>\n",
       "      <td>524971124845985792</td>\n",
       "      <td>NaN</td>\n",
       "      <td>NaN</td>\n",
       "      <td>69361168</td>\n",
       "      <td>525027267165323264</td>\n",
       "      <td>@paigeecrossman You young lady need to grow up...</td>\n",
       "      <td>Wed Oct 22 20:53:49 +0000 2014</td>\n",
       "      <td>rumour</td>\n",
       "    </tr>\n",
       "  </tbody>\n",
       "</table>\n",
       "</div>"
      ],
      "text/plain": [
       "           main_tweet_id  in_reply_to_status_id  in_reply_to_user_id  \\\n",
       "407   524969144832491520                    NaN                  NaN   \n",
       "1870  524941504796962816                    NaN                  NaN   \n",
       "2561  524931913426157568                    NaN                  NaN   \n",
       "3317  525023025792835585                    NaN                  NaN   \n",
       "3323  524949339131904000                    NaN                  NaN   \n",
       "3327  524949339131904000                    NaN                  NaN   \n",
       "3332  524949339131904000                    NaN                  NaN   \n",
       "3340  524949339131904000                    NaN                  NaN   \n",
       "3343  524949339131904000                    NaN                  NaN   \n",
       "3365  524949339131904000                    NaN                  NaN   \n",
       "3366  524949339131904000                    NaN                  NaN   \n",
       "3367  524949339131904000                    NaN                  NaN   \n",
       "3368  524949339131904000                    NaN                  NaN   \n",
       "3374  524949339131904000                    NaN                  NaN   \n",
       "3598  524974779540197376                    NaN                  NaN   \n",
       "4073  524971124845985792                    NaN                  NaN   \n",
       "\n",
       "         user_id   response_tweet_id  \\\n",
       "407   1574237179  524972939813605376   \n",
       "1870   284006171  524955504758779905   \n",
       "2561   181033896  524944289043066880   \n",
       "3317  2675225370  525040225441951744   \n",
       "3323   168697045  524952230324371456   \n",
       "3327    21213776  524954176619831297   \n",
       "3332  2547509651  524956770268372992   \n",
       "3340    21213776  524960761677103104   \n",
       "3343    21213776  524963463689666560   \n",
       "3365   325942107  524976393499992064   \n",
       "3366   325942107  524984622921183233   \n",
       "3367    21213776  524984811312939008   \n",
       "3368   325942107  524984845055700992   \n",
       "3374   325942107  525006755680382977   \n",
       "3598    73152491  524977344143192064   \n",
       "4073    69361168  525027267165323264   \n",
       "\n",
       "                                    response_tweet_text  \\\n",
       "407   @Nduna_lux @SkyNews Religion. People who can't...   \n",
       "1870  @TheGreatKnuckle @catekustanczy frightening sc...   \n",
       "2561  @manof1000 @CP24 2 soldiers got run over yeste...   \n",
       "3317        @butterfly_LV @Cameron_Gray @globeandmail 😢   \n",
       "3323  @Nduna_lux @BBCBreaking @BBCWorld It's not Mus...   \n",
       "3327  @Nduna_lux @BBCBreaking @BBCWorld learn how to...   \n",
       "3332  @Nduna_lux @BBCBreaking @BBCWorld @Dowlerjnr b...   \n",
       "3340  @Nduna_lux @BBCBreaking @BBCWorld go there or ...   \n",
       "3343  @Nduna_lux @BBCBreaking @BBCWorld look I'm not...   \n",
       "3365  @Nduna_lux @sophie__malik It's official, you'r...   \n",
       "3366  @Nduna_lux @sophie__malik In humanity. No reli...   \n",
       "3367  @Nduna_lux @BBCBreaking @BBCWorld read exodus ...   \n",
       "3368  @Nduna_lux @sophie__malik There are lunatics i...   \n",
       "3374       @Nduna_lux @sophie__malik You already don't.   \n",
       "3598                       @COCAPTEA  Go fuck yourself.   \n",
       "4073  @paigeecrossman You young lady need to grow up...   \n",
       "\n",
       "                 response_created_at   label  \n",
       "407   Wed Oct 22 17:17:57 +0000 2014  rumour  \n",
       "1870  Wed Oct 22 16:08:40 +0000 2014  rumour  \n",
       "2561  Wed Oct 22 15:24:06 +0000 2014  rumour  \n",
       "3317  Wed Oct 22 21:45:19 +0000 2014  rumour  \n",
       "3323  Wed Oct 22 15:55:39 +0000 2014  rumour  \n",
       "3327  Wed Oct 22 16:03:23 +0000 2014  rumour  \n",
       "3332  Wed Oct 22 16:13:41 +0000 2014  rumour  \n",
       "3340  Wed Oct 22 16:29:33 +0000 2014  rumour  \n",
       "3343  Wed Oct 22 16:40:17 +0000 2014  rumour  \n",
       "3365  Wed Oct 22 17:31:40 +0000 2014  rumour  \n",
       "3366  Wed Oct 22 18:04:22 +0000 2014  rumour  \n",
       "3367  Wed Oct 22 18:05:07 +0000 2014  rumour  \n",
       "3368  Wed Oct 22 18:05:15 +0000 2014  rumour  \n",
       "3374  Wed Oct 22 19:32:19 +0000 2014  rumour  \n",
       "3598  Wed Oct 22 17:35:27 +0000 2014  rumour  \n",
       "4073  Wed Oct 22 20:53:49 +0000 2014  rumour  "
      ]
     },
     "metadata": {},
     "output_type": "display_data"
    }
   ],
   "source": [
    "# check null rows\n",
    "display(check_nulls(ottawa_r_res))"
   ]
  },
  {
   "cell_type": "code",
   "execution_count": 199,
   "id": "051489dd-c2a5-47a2-8429-a150204fb42c",
   "metadata": {
    "scrolled": true
   },
   "outputs": [
    {
     "name": "stdout",
     "output_type": "stream",
     "text": [
      "<class 'pandas.core.frame.DataFrame'>\n",
      "RangeIndex: 5966 entries, 0 to 5965\n",
      "Data columns (total 8 columns):\n",
      " #   Column                 Non-Null Count  Dtype \n",
      "---  ------                 --------------  ----- \n",
      " 0   main_tweet_id          5966 non-null   object\n",
      " 1   in_reply_to_status_id  5966 non-null   object\n",
      " 2   in_reply_to_user_id    5966 non-null   object\n",
      " 3   user_id                5966 non-null   int64 \n",
      " 4   response_tweet_id      5966 non-null   int64 \n",
      " 5   response_tweet_text    5966 non-null   object\n",
      " 6   response_created_at    5966 non-null   object\n",
      " 7   label                  5966 non-null   object\n",
      "dtypes: int64(2), object(6)\n",
      "memory usage: 373.0+ KB\n"
     ]
    }
   ],
   "source": [
    "ottawa_r_res=replace_vals(ottawa_r_res)\n",
    "ottawa_r_res.info()"
   ]
  },
  {
   "cell_type": "code",
   "execution_count": 200,
   "id": "23612703-669e-4988-859d-e29e9d62c968",
   "metadata": {},
   "outputs": [
    {
     "name": "stdout",
     "output_type": "stream",
     "text": [
      "<class 'pandas.core.frame.DataFrame'>\n",
      "RangeIndex: 5966 entries, 0 to 5965\n",
      "Data columns (total 8 columns):\n",
      " #   Column                 Non-Null Count  Dtype \n",
      "---  ------                 --------------  ----- \n",
      " 0   main_tweet_id          5966 non-null   object\n",
      " 1   in_reply_to_status_id  5966 non-null   object\n",
      " 2   in_reply_to_user_id    5966 non-null   object\n",
      " 3   user_id                5966 non-null   object\n",
      " 4   response_tweet_id      5966 non-null   object\n",
      " 5   response_tweet_text    5966 non-null   object\n",
      " 6   response_created_at    5966 non-null   object\n",
      " 7   label                  5966 non-null   object\n",
      "dtypes: object(8)\n",
      "memory usage: 373.0+ KB\n"
     ]
    }
   ],
   "source": [
    "ottawa_r_res=to_str(ottawa_r_res)\n",
    "ottawa_r_res.info()"
   ]
  },
  {
   "cell_type": "markdown",
   "id": "6ab1da7a-3a14-42a1-a21d-36eeb4940fc9",
   "metadata": {
    "jp-MarkdownHeadingCollapsed": true
   },
   "source": [
    "#### Charlie"
   ]
  },
  {
   "cell_type": "code",
   "execution_count": 10,
   "id": "c2b7df6e-bdd6-4e03-85a5-ebac54303db6",
   "metadata": {
    "scrolled": true
   },
   "outputs": [
    {
     "name": "stdout",
     "output_type": "stream",
     "text": [
      "<class 'pandas.core.frame.DataFrame'>\n",
      "RangeIndex: 6887 entries, 0 to 6886\n",
      "Data columns (total 10 columns):\n",
      " #   Column                 Non-Null Count  Dtype \n",
      "---  ------                 --------------  ----- \n",
      " 0   main_tweet_id          6887 non-null   object\n",
      " 1   response_tweet_id      6887 non-null   object\n",
      " 2   user_id                6887 non-null   object\n",
      " 3   in_reply_to_status_id  6887 non-null   object\n",
      " 4   in_reply_to_user_id    6887 non-null   object\n",
      " 5   response_tweet_text    6887 non-null   object\n",
      " 6   retweet_count          6887 non-null   int64 \n",
      " 7   favorite_count         6887 non-null   int64 \n",
      " 8   response_created_at    6887 non-null   object\n",
      " 9   label                  6887 non-null   int64 \n",
      "dtypes: int64(3), object(7)\n",
      "memory usage: 538.2+ KB\n",
      "None\n"
     ]
    },
    {
     "name": "stderr",
     "output_type": "stream",
     "text": [
      "/tmp/ipykernel_285768/3794510746.py:61: FutureWarning: Downcasting behavior in `replace` is deprecated and will be removed in a future version. To retain the old behavior, explicitly call `result.infer_objects(copy=False)`. To opt-in to the future behavior, set `pd.set_option('future.no_silent_downcasting', True)`\n",
      "  response_tweet_data['label'] = response_tweet_data['label'].replace({'rumour': 1, 'non-rumour': 0})\n"
     ]
    }
   ],
   "source": [
    "charliehebdo_r_res = fetch_response_tweets('charliehebdo', 'rumours','rumour')\n",
    "print(charliehebdo_r_res.info())"
   ]
  },
  {
   "cell_type": "code",
   "execution_count": 272,
   "id": "8e62d3d4-717b-4190-95a9-8f13f0b22b36",
   "metadata": {},
   "outputs": [
    {
     "data": {
      "text/plain": [
       "main_tweet_id            0\n",
       "response_tweet_id        0\n",
       "user_id                  0\n",
       "in_reply_to_status_id    0\n",
       "in_reply_to_user_id      0\n",
       "response_tweet_text      0\n",
       "retweet_count            0\n",
       "favorite_count           0\n",
       "response_created_at      0\n",
       "label                    0\n",
       "dtype: int64"
      ]
     },
     "execution_count": 272,
     "metadata": {},
     "output_type": "execute_result"
    }
   ],
   "source": [
    "charliehebdo_r_res.isna().sum()"
   ]
  },
  {
   "cell_type": "code",
   "execution_count": 273,
   "id": "1ab68e7a-3759-4957-826b-d918c6e45a79",
   "metadata": {
    "scrolled": true
   },
   "outputs": [
    {
     "data": {
      "text/html": [
       "<div>\n",
       "<style scoped>\n",
       "    .dataframe tbody tr th:only-of-type {\n",
       "        vertical-align: middle;\n",
       "    }\n",
       "\n",
       "    .dataframe tbody tr th {\n",
       "        vertical-align: top;\n",
       "    }\n",
       "\n",
       "    .dataframe thead th {\n",
       "        text-align: right;\n",
       "    }\n",
       "</style>\n",
       "<table border=\"1\" class=\"dataframe\">\n",
       "  <thead>\n",
       "    <tr style=\"text-align: right;\">\n",
       "      <th></th>\n",
       "      <th>main_tweet_id</th>\n",
       "      <th>response_tweet_id</th>\n",
       "      <th>user_id</th>\n",
       "      <th>in_reply_to_status_id</th>\n",
       "      <th>in_reply_to_user_id</th>\n",
       "      <th>response_tweet_text</th>\n",
       "      <th>retweet_count</th>\n",
       "      <th>favorite_count</th>\n",
       "      <th>response_created_at</th>\n",
       "      <th>label</th>\n",
       "    </tr>\n",
       "  </thead>\n",
       "  <tbody>\n",
       "  </tbody>\n",
       "</table>\n",
       "</div>"
      ],
      "text/plain": [
       "Empty DataFrame\n",
       "Columns: [main_tweet_id, response_tweet_id, user_id, in_reply_to_status_id, in_reply_to_user_id, response_tweet_text, retweet_count, favorite_count, response_created_at, label]\n",
       "Index: []"
      ]
     },
     "metadata": {},
     "output_type": "display_data"
    }
   ],
   "source": [
    "# check null rows\n",
    "null_mask = charliehebdo_r_res.isnull().any(axis=1)\n",
    "null_rows = charliehebdo_r_res[null_mask]\n",
    "display(null_rows)"
   ]
  },
  {
   "cell_type": "code",
   "execution_count": 271,
   "id": "7ba11211-bae1-42fd-b839-728871c2dd74",
   "metadata": {},
   "outputs": [
    {
     "name": "stdout",
     "output_type": "stream",
     "text": [
      "<class 'pandas.core.frame.DataFrame'>\n",
      "RangeIndex: 6887 entries, 0 to 6886\n",
      "Data columns (total 10 columns):\n",
      " #   Column                 Non-Null Count  Dtype \n",
      "---  ------                 --------------  ----- \n",
      " 0   main_tweet_id          6887 non-null   object\n",
      " 1   response_tweet_id      6887 non-null   object\n",
      " 2   user_id                6887 non-null   object\n",
      " 3   in_reply_to_status_id  6887 non-null   object\n",
      " 4   in_reply_to_user_id    6887 non-null   object\n",
      " 5   response_tweet_text    6887 non-null   object\n",
      " 6   retweet_count          6887 non-null   int64 \n",
      " 7   favorite_count         6887 non-null   int64 \n",
      " 8   response_created_at    6887 non-null   object\n",
      " 9   label                  6887 non-null   object\n",
      "dtypes: int64(2), object(8)\n",
      "memory usage: 538.2+ KB\n"
     ]
    }
   ],
   "source": [
    "columns = ['in_reply_to_status_id', 'in_reply_to_user_id']\n",
    "charliehebdo_r_res[columns] = charliehebdo_r_res[columns].fillna('No ID') \n",
    "charliehebdo_r_res.info()"
   ]
  },
  {
   "cell_type": "markdown",
   "id": "fbdab199-ac66-46df-b528-2144d6b1fa17",
   "metadata": {
    "jp-MarkdownHeadingCollapsed": true
   },
   "source": [
    "#### Ferguson"
   ]
  },
  {
   "cell_type": "code",
   "execution_count": 11,
   "id": "6473f145-e316-4d69-b164-0d0740e04884",
   "metadata": {},
   "outputs": [
    {
     "name": "stdout",
     "output_type": "stream",
     "text": [
      "<class 'pandas.core.frame.DataFrame'>\n",
      "RangeIndex: 6195 entries, 0 to 6194\n",
      "Data columns (total 10 columns):\n",
      " #   Column                 Non-Null Count  Dtype \n",
      "---  ------                 --------------  ----- \n",
      " 0   main_tweet_id          6195 non-null   object\n",
      " 1   response_tweet_id      6195 non-null   object\n",
      " 2   user_id                6195 non-null   object\n",
      " 3   in_reply_to_status_id  6195 non-null   object\n",
      " 4   in_reply_to_user_id    6195 non-null   object\n",
      " 5   response_tweet_text    6195 non-null   object\n",
      " 6   retweet_count          6195 non-null   int64 \n",
      " 7   favorite_count         6195 non-null   int64 \n",
      " 8   response_created_at    6195 non-null   object\n",
      " 9   label                  6195 non-null   int64 \n",
      "dtypes: int64(3), object(7)\n",
      "memory usage: 484.1+ KB\n",
      "None\n"
     ]
    },
    {
     "name": "stderr",
     "output_type": "stream",
     "text": [
      "/tmp/ipykernel_285768/3794510746.py:61: FutureWarning: Downcasting behavior in `replace` is deprecated and will be removed in a future version. To retain the old behavior, explicitly call `result.infer_objects(copy=False)`. To opt-in to the future behavior, set `pd.set_option('future.no_silent_downcasting', True)`\n",
      "  response_tweet_data['label'] = response_tweet_data['label'].replace({'rumour': 1, 'non-rumour': 0})\n"
     ]
    }
   ],
   "source": [
    "ferguson_r_res = fetch_response_tweets('ferguson', 'rumours','rumour')\n",
    "print(ferguson_r_res.info())"
   ]
  },
  {
   "cell_type": "code",
   "execution_count": 275,
   "id": "c393a9eb-66aa-43e4-a0bf-f58db8561d2e",
   "metadata": {},
   "outputs": [
    {
     "data": {
      "text/plain": [
       "main_tweet_id              0\n",
       "response_tweet_id          0\n",
       "user_id                    0\n",
       "in_reply_to_status_id    222\n",
       "in_reply_to_user_id      222\n",
       "response_tweet_text        0\n",
       "retweet_count              0\n",
       "favorite_count             0\n",
       "response_created_at        0\n",
       "label                      0\n",
       "dtype: int64"
      ]
     },
     "execution_count": 275,
     "metadata": {},
     "output_type": "execute_result"
    }
   ],
   "source": [
    "ferguson_r_res.isna().sum()"
   ]
  },
  {
   "cell_type": "code",
   "execution_count": 276,
   "id": "23d9df17-fdbf-402d-9221-8619be0c9325",
   "metadata": {
    "scrolled": true
   },
   "outputs": [
    {
     "data": {
      "text/html": [
       "<div>\n",
       "<style scoped>\n",
       "    .dataframe tbody tr th:only-of-type {\n",
       "        vertical-align: middle;\n",
       "    }\n",
       "\n",
       "    .dataframe tbody tr th {\n",
       "        vertical-align: top;\n",
       "    }\n",
       "\n",
       "    .dataframe thead th {\n",
       "        text-align: right;\n",
       "    }\n",
       "</style>\n",
       "<table border=\"1\" class=\"dataframe\">\n",
       "  <thead>\n",
       "    <tr style=\"text-align: right;\">\n",
       "      <th></th>\n",
       "      <th>main_tweet_id</th>\n",
       "      <th>response_tweet_id</th>\n",
       "      <th>user_id</th>\n",
       "      <th>in_reply_to_status_id</th>\n",
       "      <th>in_reply_to_user_id</th>\n",
       "      <th>response_tweet_text</th>\n",
       "      <th>retweet_count</th>\n",
       "      <th>favorite_count</th>\n",
       "      <th>response_created_at</th>\n",
       "      <th>label</th>\n",
       "    </tr>\n",
       "  </thead>\n",
       "  <tbody>\n",
       "    <tr>\n",
       "      <th>0</th>\n",
       "      <td>500374427448516609</td>\n",
       "      <td>500374427448516609</td>\n",
       "      <td>1291770157</td>\n",
       "      <td>None</td>\n",
       "      <td>None</td>\n",
       "      <td>.@CNN KEEPS playing the video while saying it ...</td>\n",
       "      <td>227</td>\n",
       "      <td>63</td>\n",
       "      <td>Fri Aug 15 20:12:14 +0000 2014</td>\n",
       "      <td>rumour</td>\n",
       "    </tr>\n",
       "    <tr>\n",
       "      <th>4</th>\n",
       "      <td>500277808883830784</td>\n",
       "      <td>500277808883830784</td>\n",
       "      <td>225235528</td>\n",
       "      <td>None</td>\n",
       "      <td>None</td>\n",
       "      <td>BREAKING: #Ferguson police chief just announce...</td>\n",
       "      <td>122</td>\n",
       "      <td>47</td>\n",
       "      <td>Fri Aug 15 13:48:19 +0000 2014</td>\n",
       "      <td>rumour</td>\n",
       "    </tr>\n",
       "    <tr>\n",
       "      <th>18</th>\n",
       "      <td>500280477920796672</td>\n",
       "      <td>500280477920796672</td>\n",
       "      <td>21728303</td>\n",
       "      <td>None</td>\n",
       "      <td>None</td>\n",
       "      <td>Because, of course, when someone commits a rob...</td>\n",
       "      <td>539</td>\n",
       "      <td>213</td>\n",
       "      <td>Fri Aug 15 13:58:55 +0000 2014</td>\n",
       "      <td>rumour</td>\n",
       "    </tr>\n",
       "    <tr>\n",
       "      <th>57</th>\n",
       "      <td>500326267640905728</td>\n",
       "      <td>500326267640905728</td>\n",
       "      <td>14717197</td>\n",
       "      <td>None</td>\n",
       "      <td>None</td>\n",
       "      <td>Report: #Ferguson police beat up wrong suspect...</td>\n",
       "      <td>165</td>\n",
       "      <td>74</td>\n",
       "      <td>Fri Aug 15 17:00:52 +0000 2014</td>\n",
       "      <td>rumour</td>\n",
       "    </tr>\n",
       "    <tr>\n",
       "      <th>61</th>\n",
       "      <td>500292917957648384</td>\n",
       "      <td>500292917957648384</td>\n",
       "      <td>360129829</td>\n",
       "      <td>None</td>\n",
       "      <td>None</td>\n",
       "      <td>So in 5mins mike brown shaved his head and cha...</td>\n",
       "      <td>132</td>\n",
       "      <td>60</td>\n",
       "      <td>Fri Aug 15 14:48:21 +0000 2014</td>\n",
       "      <td>rumour</td>\n",
       "    </tr>\n",
       "    <tr>\n",
       "      <th>...</th>\n",
       "      <td>...</td>\n",
       "      <td>...</td>\n",
       "      <td>...</td>\n",
       "      <td>...</td>\n",
       "      <td>...</td>\n",
       "      <td>...</td>\n",
       "      <td>...</td>\n",
       "      <td>...</td>\n",
       "      <td>...</td>\n",
       "      <td>...</td>\n",
       "    </tr>\n",
       "    <tr>\n",
       "      <th>6068</th>\n",
       "      <td>500300813835988992</td>\n",
       "      <td>500300813835988992</td>\n",
       "      <td>36493412</td>\n",
       "      <td>None</td>\n",
       "      <td>None</td>\n",
       "      <td>They wanted u 2 believe that #TrayvonMartin wa...</td>\n",
       "      <td>309</td>\n",
       "      <td>86</td>\n",
       "      <td>Fri Aug 15 15:19:43 +0000 2014</td>\n",
       "      <td>rumour</td>\n",
       "    </tr>\n",
       "    <tr>\n",
       "      <th>6083</th>\n",
       "      <td>500375545918803970</td>\n",
       "      <td>500375545918803970</td>\n",
       "      <td>23831448</td>\n",
       "      <td>None</td>\n",
       "      <td>None</td>\n",
       "      <td>This is what #Ferguson PD did to #HenryDavis i...</td>\n",
       "      <td>280</td>\n",
       "      <td>58</td>\n",
       "      <td>Fri Aug 15 20:16:41 +0000 2014</td>\n",
       "      <td>rumour</td>\n",
       "    </tr>\n",
       "    <tr>\n",
       "      <th>6105</th>\n",
       "      <td>500375190535421953</td>\n",
       "      <td>500375190535421953</td>\n",
       "      <td>370310957</td>\n",
       "      <td>None</td>\n",
       "      <td>None</td>\n",
       "      <td>If anyone's looking for a reason to murder me ...</td>\n",
       "      <td>150</td>\n",
       "      <td>205</td>\n",
       "      <td>Fri Aug 15 20:15:16 +0000 2014</td>\n",
       "      <td>rumour</td>\n",
       "    </tr>\n",
       "    <tr>\n",
       "      <th>6112</th>\n",
       "      <td>500260514807947264</td>\n",
       "      <td>500260514807947264</td>\n",
       "      <td>972651</td>\n",
       "      <td>None</td>\n",
       "      <td>None</td>\n",
       "      <td>Developing: Police in #Ferguson expected to an...</td>\n",
       "      <td>100</td>\n",
       "      <td>28</td>\n",
       "      <td>Fri Aug 15 12:39:35 +0000 2014</td>\n",
       "      <td>rumour</td>\n",
       "    </tr>\n",
       "    <tr>\n",
       "      <th>6117</th>\n",
       "      <td>500388703114895360</td>\n",
       "      <td>500388703114895360</td>\n",
       "      <td>373783051</td>\n",
       "      <td>None</td>\n",
       "      <td>None</td>\n",
       "      <td>Everybody was orgasming about a white cop kill...</td>\n",
       "      <td>101</td>\n",
       "      <td>69</td>\n",
       "      <td>Fri Aug 15 21:08:58 +0000 2014</td>\n",
       "      <td>rumour</td>\n",
       "    </tr>\n",
       "  </tbody>\n",
       "</table>\n",
       "<p>222 rows × 10 columns</p>\n",
       "</div>"
      ],
      "text/plain": [
       "           main_tweet_id   response_tweet_id     user_id  \\\n",
       "0     500374427448516609  500374427448516609  1291770157   \n",
       "4     500277808883830784  500277808883830784   225235528   \n",
       "18    500280477920796672  500280477920796672    21728303   \n",
       "57    500326267640905728  500326267640905728    14717197   \n",
       "61    500292917957648384  500292917957648384   360129829   \n",
       "...                  ...                 ...         ...   \n",
       "6068  500300813835988992  500300813835988992    36493412   \n",
       "6083  500375545918803970  500375545918803970    23831448   \n",
       "6105  500375190535421953  500375190535421953   370310957   \n",
       "6112  500260514807947264  500260514807947264      972651   \n",
       "6117  500388703114895360  500388703114895360   373783051   \n",
       "\n",
       "     in_reply_to_status_id in_reply_to_user_id  \\\n",
       "0                     None                None   \n",
       "4                     None                None   \n",
       "18                    None                None   \n",
       "57                    None                None   \n",
       "61                    None                None   \n",
       "...                    ...                 ...   \n",
       "6068                  None                None   \n",
       "6083                  None                None   \n",
       "6105                  None                None   \n",
       "6112                  None                None   \n",
       "6117                  None                None   \n",
       "\n",
       "                                    response_tweet_text  retweet_count  \\\n",
       "0     .@CNN KEEPS playing the video while saying it ...            227   \n",
       "4     BREAKING: #Ferguson police chief just announce...            122   \n",
       "18    Because, of course, when someone commits a rob...            539   \n",
       "57    Report: #Ferguson police beat up wrong suspect...            165   \n",
       "61    So in 5mins mike brown shaved his head and cha...            132   \n",
       "...                                                 ...            ...   \n",
       "6068  They wanted u 2 believe that #TrayvonMartin wa...            309   \n",
       "6083  This is what #Ferguson PD did to #HenryDavis i...            280   \n",
       "6105  If anyone's looking for a reason to murder me ...            150   \n",
       "6112  Developing: Police in #Ferguson expected to an...            100   \n",
       "6117  Everybody was orgasming about a white cop kill...            101   \n",
       "\n",
       "      favorite_count             response_created_at   label  \n",
       "0                 63  Fri Aug 15 20:12:14 +0000 2014  rumour  \n",
       "4                 47  Fri Aug 15 13:48:19 +0000 2014  rumour  \n",
       "18               213  Fri Aug 15 13:58:55 +0000 2014  rumour  \n",
       "57                74  Fri Aug 15 17:00:52 +0000 2014  rumour  \n",
       "61                60  Fri Aug 15 14:48:21 +0000 2014  rumour  \n",
       "...              ...                             ...     ...  \n",
       "6068              86  Fri Aug 15 15:19:43 +0000 2014  rumour  \n",
       "6083              58  Fri Aug 15 20:16:41 +0000 2014  rumour  \n",
       "6105             205  Fri Aug 15 20:15:16 +0000 2014  rumour  \n",
       "6112              28  Fri Aug 15 12:39:35 +0000 2014  rumour  \n",
       "6117              69  Fri Aug 15 21:08:58 +0000 2014  rumour  \n",
       "\n",
       "[222 rows x 10 columns]"
      ]
     },
     "metadata": {},
     "output_type": "display_data"
    }
   ],
   "source": [
    "# check null rows\n",
    "null_mask = ferguson_r_res.isnull().any(axis=1)\n",
    "null_rows = ferguson_r_res[null_mask]\n",
    "display(null_rows)"
   ]
  },
  {
   "cell_type": "code",
   "execution_count": 277,
   "id": "b43a4383-b163-41df-87e4-ef29e93c4334",
   "metadata": {
    "scrolled": true
   },
   "outputs": [
    {
     "name": "stdout",
     "output_type": "stream",
     "text": [
      "<class 'pandas.core.frame.DataFrame'>\n",
      "RangeIndex: 6195 entries, 0 to 6194\n",
      "Data columns (total 10 columns):\n",
      " #   Column                 Non-Null Count  Dtype \n",
      "---  ------                 --------------  ----- \n",
      " 0   main_tweet_id          6195 non-null   object\n",
      " 1   response_tweet_id      6195 non-null   object\n",
      " 2   user_id                6195 non-null   object\n",
      " 3   in_reply_to_status_id  6195 non-null   object\n",
      " 4   in_reply_to_user_id    6195 non-null   object\n",
      " 5   response_tweet_text    6195 non-null   object\n",
      " 6   retweet_count          6195 non-null   int64 \n",
      " 7   favorite_count         6195 non-null   int64 \n",
      " 8   response_created_at    6195 non-null   object\n",
      " 9   label                  6195 non-null   object\n",
      "dtypes: int64(2), object(8)\n",
      "memory usage: 484.1+ KB\n"
     ]
    }
   ],
   "source": [
    "columns = ['in_reply_to_status_id', 'in_reply_to_user_id']\n",
    "ferguson_r_res[columns] = ferguson_r_res[columns].fillna('No ID') \n",
    "ferguson_r_res.info()"
   ]
  },
  {
   "cell_type": "code",
   "execution_count": 123,
   "id": "b75a874b-dfcf-4723-b24b-d00a2b029188",
   "metadata": {},
   "outputs": [
    {
     "name": "stdout",
     "output_type": "stream",
     "text": [
      "<class 'pandas.core.frame.DataFrame'>\n",
      "RangeIndex: 6195 entries, 0 to 6194\n",
      "Data columns (total 8 columns):\n",
      " #   Column                 Non-Null Count  Dtype \n",
      "---  ------                 --------------  ----- \n",
      " 0   main_tweet_id          6195 non-null   object\n",
      " 1   in_reply_to_status_id  6195 non-null   object\n",
      " 2   in_reply_to_user_id    6195 non-null   object\n",
      " 3   user_id                6195 non-null   object\n",
      " 4   response_tweet_id      6195 non-null   object\n",
      " 5   response_tweet_text    6195 non-null   object\n",
      " 6   response_created_at    6195 non-null   object\n",
      " 7   lable                  6195 non-null   object\n",
      "dtypes: object(8)\n",
      "memory usage: 387.3+ KB\n"
     ]
    }
   ],
   "source": [
    "rows = ['main_tweet_id', 'in_reply_to_status_id', 'in_reply_to_user_id','user_id','response_tweet_id']\n",
    "ferguson_r_res[rows] = ferguson_r_res[rows].astype(str)\n",
    "ferguson_r_res.info()"
   ]
  },
  {
   "cell_type": "markdown",
   "id": "5a8cb879-216a-4988-8907-977e606f5619",
   "metadata": {},
   "source": [
    "#### German wings crash"
   ]
  },
  {
   "cell_type": "code",
   "execution_count": 12,
   "id": "da8ed060-c56d-4792-b053-0f43ca096bd3",
   "metadata": {
    "scrolled": true
   },
   "outputs": [
    {
     "name": "stdout",
     "output_type": "stream",
     "text": [
      "<class 'pandas.core.frame.DataFrame'>\n",
      "RangeIndex: 2256 entries, 0 to 2255\n",
      "Data columns (total 10 columns):\n",
      " #   Column                 Non-Null Count  Dtype \n",
      "---  ------                 --------------  ----- \n",
      " 0   main_tweet_id          2256 non-null   object\n",
      " 1   response_tweet_id      2256 non-null   object\n",
      " 2   user_id                2256 non-null   object\n",
      " 3   in_reply_to_status_id  2256 non-null   object\n",
      " 4   in_reply_to_user_id    2256 non-null   object\n",
      " 5   response_tweet_text    2256 non-null   object\n",
      " 6   retweet_count          2256 non-null   int64 \n",
      " 7   favorite_count         2256 non-null   int64 \n",
      " 8   response_created_at    2256 non-null   object\n",
      " 9   label                  2256 non-null   int64 \n",
      "dtypes: int64(3), object(7)\n",
      "memory usage: 176.4+ KB\n",
      "None\n"
     ]
    },
    {
     "name": "stderr",
     "output_type": "stream",
     "text": [
      "/tmp/ipykernel_285768/3794510746.py:61: FutureWarning: Downcasting behavior in `replace` is deprecated and will be removed in a future version. To retain the old behavior, explicitly call `result.infer_objects(copy=False)`. To opt-in to the future behavior, set `pd.set_option('future.no_silent_downcasting', True)`\n",
      "  response_tweet_data['label'] = response_tweet_data['label'].replace({'rumour': 1, 'non-rumour': 0})\n"
     ]
    }
   ],
   "source": [
    "germanwings_crash_r_res = fetch_response_tweets('germanwings-crash', 'rumours','rumour')\n",
    "print(germanwings_crash_r_res.info())"
   ]
  },
  {
   "cell_type": "code",
   "execution_count": 195,
   "id": "dafc0813-4046-4737-b351-93254e24df5c",
   "metadata": {},
   "outputs": [
    {
     "data": {
      "text/plain": [
       "main_tweet_id            0\n",
       "in_reply_to_status_id    0\n",
       "in_reply_to_user_id      0\n",
       "user_id                  0\n",
       "response_tweet_id        0\n",
       "response_tweet_text      0\n",
       "response_created_at      0\n",
       "label                    0\n",
       "dtype: int64"
      ]
     },
     "execution_count": 195,
     "metadata": {},
     "output_type": "execute_result"
    }
   ],
   "source": [
    "germanwings_crash_r_res.isna().sum()"
   ]
  },
  {
   "cell_type": "code",
   "execution_count": 196,
   "id": "e974cc8c-38ea-47e2-83cd-3a87154066ac",
   "metadata": {},
   "outputs": [
    {
     "name": "stdout",
     "output_type": "stream",
     "text": [
      "<class 'pandas.core.frame.DataFrame'>\n",
      "RangeIndex: 8154 entries, 0 to 8153\n",
      "Data columns (total 8 columns):\n",
      " #   Column                 Non-Null Count  Dtype \n",
      "---  ------                 --------------  ----- \n",
      " 0   main_tweet_id          8154 non-null   object\n",
      " 1   in_reply_to_status_id  8154 non-null   object\n",
      " 2   in_reply_to_user_id    8154 non-null   object\n",
      " 3   user_id                8154 non-null   object\n",
      " 4   response_tweet_id      8154 non-null   object\n",
      " 5   response_tweet_text    8154 non-null   object\n",
      " 6   response_created_at    8154 non-null   object\n",
      " 7   label                  8154 non-null   object\n",
      "dtypes: object(8)\n",
      "memory usage: 509.8+ KB\n"
     ]
    }
   ],
   "source": [
    "rows = ['in_reply_to_status_id', 'in_reply_to_user_id','user_id','response_tweet_id']\n",
    "sydneysiege_r_res[rows] = sydneysiege_r_res[rows].astype(str)\n",
    "sydneysiege_r_res.info()"
   ]
  },
  {
   "cell_type": "markdown",
   "id": "28ca7fd3-dd80-4258-bf1d-ab8c3470bb3c",
   "metadata": {
    "jp-MarkdownHeadingCollapsed": true
   },
   "source": [
    "#### Sydney"
   ]
  },
  {
   "cell_type": "code",
   "execution_count": 13,
   "id": "d44799f1-758c-4e35-a2a9-604e40f99686",
   "metadata": {
    "scrolled": true
   },
   "outputs": [
    {
     "name": "stdout",
     "output_type": "stream",
     "text": [
      "<class 'pandas.core.frame.DataFrame'>\n",
      "RangeIndex: 8154 entries, 0 to 8153\n",
      "Data columns (total 10 columns):\n",
      " #   Column                 Non-Null Count  Dtype \n",
      "---  ------                 --------------  ----- \n",
      " 0   main_tweet_id          8154 non-null   object\n",
      " 1   response_tweet_id      8154 non-null   object\n",
      " 2   user_id                8154 non-null   object\n",
      " 3   in_reply_to_status_id  8154 non-null   object\n",
      " 4   in_reply_to_user_id    8154 non-null   object\n",
      " 5   response_tweet_text    8154 non-null   object\n",
      " 6   retweet_count          8154 non-null   int64 \n",
      " 7   favorite_count         8154 non-null   int64 \n",
      " 8   response_created_at    8154 non-null   object\n",
      " 9   label                  8154 non-null   int64 \n",
      "dtypes: int64(3), object(7)\n",
      "memory usage: 637.2+ KB\n",
      "None\n"
     ]
    },
    {
     "name": "stderr",
     "output_type": "stream",
     "text": [
      "/tmp/ipykernel_285768/3794510746.py:61: FutureWarning: Downcasting behavior in `replace` is deprecated and will be removed in a future version. To retain the old behavior, explicitly call `result.infer_objects(copy=False)`. To opt-in to the future behavior, set `pd.set_option('future.no_silent_downcasting', True)`\n",
      "  response_tweet_data['label'] = response_tweet_data['label'].replace({'rumour': 1, 'non-rumour': 0})\n"
     ]
    }
   ],
   "source": [
    "sydneysiege_r_res = fetch_response_tweets('sydneysiege', 'rumours','rumour')\n",
    "print(sydneysiege_r_res.info())"
   ]
  },
  {
   "cell_type": "code",
   "execution_count": 189,
   "id": "e4b1414b-87e0-45ac-bc35-66283b7775d3",
   "metadata": {
    "scrolled": true
   },
   "outputs": [
    {
     "data": {
      "text/plain": [
       "main_tweet_id            0\n",
       "in_reply_to_status_id    9\n",
       "in_reply_to_user_id      9\n",
       "user_id                  0\n",
       "response_tweet_id        0\n",
       "response_tweet_text      0\n",
       "response_created_at      0\n",
       "label                    0\n",
       "dtype: int64"
      ]
     },
     "execution_count": 189,
     "metadata": {},
     "output_type": "execute_result"
    }
   ],
   "source": [
    "sydneysiege_r_res.isna().sum()"
   ]
  },
  {
   "cell_type": "code",
   "execution_count": 116,
   "id": "38e1a1f3-5d22-4b02-ab10-c4fbb232a49a",
   "metadata": {
    "scrolled": true
   },
   "outputs": [
    {
     "data": {
      "text/html": [
       "<div>\n",
       "<style scoped>\n",
       "    .dataframe tbody tr th:only-of-type {\n",
       "        vertical-align: middle;\n",
       "    }\n",
       "\n",
       "    .dataframe tbody tr th {\n",
       "        vertical-align: top;\n",
       "    }\n",
       "\n",
       "    .dataframe thead th {\n",
       "        text-align: right;\n",
       "    }\n",
       "</style>\n",
       "<table border=\"1\" class=\"dataframe\">\n",
       "  <thead>\n",
       "    <tr style=\"text-align: right;\">\n",
       "      <th></th>\n",
       "      <th>main_tweet_id</th>\n",
       "      <th>in_reply_to_status_id</th>\n",
       "      <th>in_reply_to_user_id</th>\n",
       "      <th>user_id</th>\n",
       "      <th>response_tweet_id</th>\n",
       "      <th>response_tweet_text</th>\n",
       "      <th>response_created_at</th>\n",
       "      <th>lable</th>\n",
       "    </tr>\n",
       "  </thead>\n",
       "  <tbody>\n",
       "    <tr>\n",
       "      <th>1172</th>\n",
       "      <td>544350712365207552</td>\n",
       "      <td>NaN</td>\n",
       "      <td>NaN</td>\n",
       "      <td>611097005</td>\n",
       "      <td>544354905335820288</td>\n",
       "      <td>@Joseph_M20 @dailytelegraph Christians: Timoth...</td>\n",
       "      <td>Mon Dec 15 04:54:57 +0000 2014</td>\n",
       "      <td>rumour</td>\n",
       "    </tr>\n",
       "    <tr>\n",
       "      <th>1175</th>\n",
       "      <td>544350712365207552</td>\n",
       "      <td>NaN</td>\n",
       "      <td>NaN</td>\n",
       "      <td>611097005</td>\n",
       "      <td>544356405759995904</td>\n",
       "      <td>@Joseph_M20 @dailytelegraph and yet he claimed...</td>\n",
       "      <td>Mon Dec 15 05:00:55 +0000 2014</td>\n",
       "      <td>rumour</td>\n",
       "    </tr>\n",
       "    <tr>\n",
       "      <th>1179</th>\n",
       "      <td>544350712365207552</td>\n",
       "      <td>NaN</td>\n",
       "      <td>NaN</td>\n",
       "      <td>611097005</td>\n",
       "      <td>544362235414720512</td>\n",
       "      <td>@Joseph_M20 @dailytelegraph that's a dime a do...</td>\n",
       "      <td>Mon Dec 15 05:24:05 +0000 2014</td>\n",
       "      <td>rumour</td>\n",
       "    </tr>\n",
       "    <tr>\n",
       "      <th>1180</th>\n",
       "      <td>544350712365207552</td>\n",
       "      <td>NaN</td>\n",
       "      <td>NaN</td>\n",
       "      <td>611097005</td>\n",
       "      <td>544363228885966848</td>\n",
       "      <td>@Joseph_M20 @dailytelegraph clearly not the ne...</td>\n",
       "      <td>Mon Dec 15 05:28:02 +0000 2014</td>\n",
       "      <td>rumour</td>\n",
       "    </tr>\n",
       "    <tr>\n",
       "      <th>1182</th>\n",
       "      <td>544350712365207552</td>\n",
       "      <td>NaN</td>\n",
       "      <td>NaN</td>\n",
       "      <td>611097005</td>\n",
       "      <td>544365021011390464</td>\n",
       "      <td>@Joseph_M20 @dailytelegraph You do realize Mus...</td>\n",
       "      <td>Mon Dec 15 05:35:09 +0000 2014</td>\n",
       "      <td>rumour</td>\n",
       "    </tr>\n",
       "    <tr>\n",
       "      <th>1183</th>\n",
       "      <td>544350712365207552</td>\n",
       "      <td>NaN</td>\n",
       "      <td>NaN</td>\n",
       "      <td>611097005</td>\n",
       "      <td>544366589546864640</td>\n",
       "      <td>@Joseph_M20 @dailytelegraph and by that you me...</td>\n",
       "      <td>Mon Dec 15 05:41:23 +0000 2014</td>\n",
       "      <td>rumour</td>\n",
       "    </tr>\n",
       "    <tr>\n",
       "      <th>1184</th>\n",
       "      <td>544350712365207552</td>\n",
       "      <td>NaN</td>\n",
       "      <td>NaN</td>\n",
       "      <td>611097005</td>\n",
       "      <td>544367122202505216</td>\n",
       "      <td>@Joseph_M20 @dailytelegraph In Iran women can ...</td>\n",
       "      <td>Mon Dec 15 05:43:30 +0000 2014</td>\n",
       "      <td>rumour</td>\n",
       "    </tr>\n",
       "    <tr>\n",
       "      <th>4242</th>\n",
       "      <td>544492053900836864</td>\n",
       "      <td>NaN</td>\n",
       "      <td>NaN</td>\n",
       "      <td>2848043788</td>\n",
       "      <td>544496313539522561</td>\n",
       "      <td>@Joseph_M20 @SkyNews So now you're saying Iran...</td>\n",
       "      <td>Mon Dec 15 14:16:52 +0000 2014</td>\n",
       "      <td>rumour</td>\n",
       "    </tr>\n",
       "    <tr>\n",
       "      <th>7149</th>\n",
       "      <td>544289448150986752</td>\n",
       "      <td>NaN</td>\n",
       "      <td>NaN</td>\n",
       "      <td>20639175</td>\n",
       "      <td>544292218992082944</td>\n",
       "      <td>@jay_psych Australian radio/TV. I disagree, th...</td>\n",
       "      <td>Mon Dec 15 00:45:52 +0000 2014</td>\n",
       "      <td>rumour</td>\n",
       "    </tr>\n",
       "  </tbody>\n",
       "</table>\n",
       "</div>"
      ],
      "text/plain": [
       "           main_tweet_id  in_reply_to_status_id  in_reply_to_user_id  \\\n",
       "1172  544350712365207552                    NaN                  NaN   \n",
       "1175  544350712365207552                    NaN                  NaN   \n",
       "1179  544350712365207552                    NaN                  NaN   \n",
       "1180  544350712365207552                    NaN                  NaN   \n",
       "1182  544350712365207552                    NaN                  NaN   \n",
       "1183  544350712365207552                    NaN                  NaN   \n",
       "1184  544350712365207552                    NaN                  NaN   \n",
       "4242  544492053900836864                    NaN                  NaN   \n",
       "7149  544289448150986752                    NaN                  NaN   \n",
       "\n",
       "         user_id   response_tweet_id  \\\n",
       "1172   611097005  544354905335820288   \n",
       "1175   611097005  544356405759995904   \n",
       "1179   611097005  544362235414720512   \n",
       "1180   611097005  544363228885966848   \n",
       "1182   611097005  544365021011390464   \n",
       "1183   611097005  544366589546864640   \n",
       "1184   611097005  544367122202505216   \n",
       "4242  2848043788  544496313539522561   \n",
       "7149    20639175  544292218992082944   \n",
       "\n",
       "                                    response_tweet_text  \\\n",
       "1172  @Joseph_M20 @dailytelegraph Christians: Timoth...   \n",
       "1175  @Joseph_M20 @dailytelegraph and yet he claimed...   \n",
       "1179  @Joseph_M20 @dailytelegraph that's a dime a do...   \n",
       "1180  @Joseph_M20 @dailytelegraph clearly not the ne...   \n",
       "1182  @Joseph_M20 @dailytelegraph You do realize Mus...   \n",
       "1183  @Joseph_M20 @dailytelegraph and by that you me...   \n",
       "1184  @Joseph_M20 @dailytelegraph In Iran women can ...   \n",
       "4242  @Joseph_M20 @SkyNews So now you're saying Iran...   \n",
       "7149  @jay_psych Australian radio/TV. I disagree, th...   \n",
       "\n",
       "                 response_created_at   lable  \n",
       "1172  Mon Dec 15 04:54:57 +0000 2014  rumour  \n",
       "1175  Mon Dec 15 05:00:55 +0000 2014  rumour  \n",
       "1179  Mon Dec 15 05:24:05 +0000 2014  rumour  \n",
       "1180  Mon Dec 15 05:28:02 +0000 2014  rumour  \n",
       "1182  Mon Dec 15 05:35:09 +0000 2014  rumour  \n",
       "1183  Mon Dec 15 05:41:23 +0000 2014  rumour  \n",
       "1184  Mon Dec 15 05:43:30 +0000 2014  rumour  \n",
       "4242  Mon Dec 15 14:16:52 +0000 2014  rumour  \n",
       "7149  Mon Dec 15 00:45:52 +0000 2014  rumour  "
      ]
     },
     "metadata": {},
     "output_type": "display_data"
    }
   ],
   "source": [
    "# check null rows\n",
    "null_mask = sydneysiege_r_res.isnull().any(axis=1)\n",
    "null_rows = sydneysiege_r_res[null_mask]\n",
    "display(null_rows)"
   ]
  },
  {
   "cell_type": "code",
   "execution_count": 190,
   "id": "01090cfd-1b5f-4fba-998d-f060a8fc510b",
   "metadata": {},
   "outputs": [
    {
     "name": "stdout",
     "output_type": "stream",
     "text": [
      "<class 'pandas.core.frame.DataFrame'>\n",
      "RangeIndex: 8154 entries, 0 to 8153\n",
      "Data columns (total 8 columns):\n",
      " #   Column                 Non-Null Count  Dtype \n",
      "---  ------                 --------------  ----- \n",
      " 0   main_tweet_id          8154 non-null   object\n",
      " 1   in_reply_to_status_id  8154 non-null   object\n",
      " 2   in_reply_to_user_id    8154 non-null   object\n",
      " 3   user_id                8154 non-null   int64 \n",
      " 4   response_tweet_id      8154 non-null   int64 \n",
      " 5   response_tweet_text    8154 non-null   object\n",
      " 6   response_created_at    8154 non-null   object\n",
      " 7   label                  8154 non-null   object\n",
      "dtypes: int64(2), object(6)\n",
      "memory usage: 509.8+ KB\n"
     ]
    }
   ],
   "source": [
    "columns = ['in_reply_to_status_id', 'in_reply_to_user_id']\n",
    "sydneysiege_r_res[columns] = sydneysiege_r_res[columns].fillna('null') \n",
    "sydneysiege_r_res.info()"
   ]
  },
  {
   "cell_type": "code",
   "execution_count": 191,
   "id": "fabb4818-8b69-48be-9c4d-d8dc3b17c371",
   "metadata": {},
   "outputs": [
    {
     "name": "stdout",
     "output_type": "stream",
     "text": [
      "<class 'pandas.core.frame.DataFrame'>\n",
      "RangeIndex: 8154 entries, 0 to 8153\n",
      "Data columns (total 8 columns):\n",
      " #   Column                 Non-Null Count  Dtype \n",
      "---  ------                 --------------  ----- \n",
      " 0   main_tweet_id          8154 non-null   object\n",
      " 1   in_reply_to_status_id  8154 non-null   object\n",
      " 2   in_reply_to_user_id    8154 non-null   object\n",
      " 3   user_id                8154 non-null   object\n",
      " 4   response_tweet_id      8154 non-null   object\n",
      " 5   response_tweet_text    8154 non-null   object\n",
      " 6   response_created_at    8154 non-null   object\n",
      " 7   label                  8154 non-null   object\n",
      "dtypes: object(8)\n",
      "memory usage: 509.8+ KB\n"
     ]
    }
   ],
   "source": [
    "rows = ['main_tweet_id', 'in_reply_to_status_id', 'in_reply_to_user_id','user_id','response_tweet_id']\n",
    "sydneysiege_r_res[rows] = sydneysiege_r_res[rows].astype(str)\n",
    "sydneysiege_r_res.info()"
   ]
  },
  {
   "cell_type": "markdown",
   "id": "47f21580-5402-47be-9977-855a1faae72c",
   "metadata": {},
   "source": [
    "## Read Non-rumors"
   ]
  },
  {
   "cell_type": "markdown",
   "id": "7b54ef3b-219c-4365-bfe0-b4791c8edbfd",
   "metadata": {
    "jp-MarkdownHeadingCollapsed": true
   },
   "source": [
    "### Source Tweets"
   ]
  },
  {
   "cell_type": "code",
   "execution_count": 311,
   "id": "a68ffe9d-5da8-4bca-8b49-7d5e972bec4f",
   "metadata": {},
   "outputs": [
    {
     "name": "stdout",
     "output_type": "stream",
     "text": [
      "First folder name: 524941318389501953\n",
      "<class 'pandas.core.frame.DataFrame'>\n",
      "RangeIndex: 420 entries, 0 to 419\n",
      "Data columns (total 10 columns):\n",
      " #   Column           Non-Null Count  Dtype \n",
      "---  ------           --------------  ----- \n",
      " 0   user_id          420 non-null    object\n",
      " 1   tweet_id         420 non-null    object\n",
      " 2   tweet_text       420 non-null    object\n",
      " 3   retweet_count    420 non-null    int64 \n",
      " 4   favorite_count   420 non-null    int64 \n",
      " 5   followers_count  420 non-null    int64 \n",
      " 6   friends_count    420 non-null    int64 \n",
      " 7   verified         420 non-null    int64 \n",
      " 8   created_at       420 non-null    object\n",
      " 9   label            420 non-null    int64 \n",
      "dtypes: int64(6), object(4)\n",
      "memory usage: 32.9+ KB\n",
      "None\n"
     ]
    },
    {
     "name": "stderr",
     "output_type": "stream",
     "text": [
      "/tmp/ipykernel_9487/1796586709.py:58: FutureWarning: Downcasting behavior in `replace` is deprecated and will be removed in a future version. To retain the old behavior, explicitly call `result.infer_objects(copy=False)`. To opt-in to the future behavior, set `pd.set_option('future.no_silent_downcasting', True)`\n",
      "  df['label'] = df['label'].replace({'rumor': 1, 'non-rumor': 0})\n",
      "/tmp/ipykernel_9487/1796586709.py:59: FutureWarning: Downcasting behavior in `replace` is deprecated and will be removed in a future version. To retain the old behavior, explicitly call `result.infer_objects(copy=False)`. To opt-in to the future behavior, set `pd.set_option('future.no_silent_downcasting', True)`\n",
      "  df['verified'] = df['verified'].replace({True: 1, False: 0})\n"
     ]
    }
   ],
   "source": [
    "ottawa_st_nr = fetch_source_df('ottawashooting', 'non-rumours')\n",
    "print(ottawa_st_nr.info())"
   ]
  },
  {
   "cell_type": "code",
   "execution_count": 312,
   "id": "034668a7-1be1-487d-ba4e-09400fe481e4",
   "metadata": {},
   "outputs": [
    {
     "name": "stdout",
     "output_type": "stream",
     "text": [
      "First folder name: 552829395690201088\n",
      "<class 'pandas.core.frame.DataFrame'>\n",
      "RangeIndex: 1621 entries, 0 to 1620\n",
      "Data columns (total 10 columns):\n",
      " #   Column           Non-Null Count  Dtype \n",
      "---  ------           --------------  ----- \n",
      " 0   user_id          1621 non-null   object\n",
      " 1   tweet_id         1621 non-null   object\n",
      " 2   tweet_text       1621 non-null   object\n",
      " 3   retweet_count    1621 non-null   int64 \n",
      " 4   favorite_count   1621 non-null   int64 \n",
      " 5   followers_count  1621 non-null   int64 \n",
      " 6   friends_count    1621 non-null   int64 \n",
      " 7   verified         1621 non-null   int64 \n",
      " 8   created_at       1621 non-null   object\n",
      " 9   label            1621 non-null   int64 \n",
      "dtypes: int64(6), object(4)\n",
      "memory usage: 126.8+ KB\n",
      "None\n"
     ]
    },
    {
     "name": "stderr",
     "output_type": "stream",
     "text": [
      "/tmp/ipykernel_9487/1796586709.py:58: FutureWarning: Downcasting behavior in `replace` is deprecated and will be removed in a future version. To retain the old behavior, explicitly call `result.infer_objects(copy=False)`. To opt-in to the future behavior, set `pd.set_option('future.no_silent_downcasting', True)`\n",
      "  df['label'] = df['label'].replace({'rumor': 1, 'non-rumor': 0})\n",
      "/tmp/ipykernel_9487/1796586709.py:59: FutureWarning: Downcasting behavior in `replace` is deprecated and will be removed in a future version. To retain the old behavior, explicitly call `result.infer_objects(copy=False)`. To opt-in to the future behavior, set `pd.set_option('future.no_silent_downcasting', True)`\n",
      "  df['verified'] = df['verified'].replace({True: 1, False: 0})\n"
     ]
    }
   ],
   "source": [
    "charliehebdo_st_nr = fetch_source_df('charliehebdo', 'non-rumours')\n",
    "print(charliehebdo_st_nr.info())"
   ]
  },
  {
   "cell_type": "code",
   "execution_count": 313,
   "id": "356cdfad-2028-4299-948b-f28c2d10dcec",
   "metadata": {},
   "outputs": [
    {
     "name": "stdout",
     "output_type": "stream",
     "text": [
      "First folder name: 499409455814287360\n",
      "<class 'pandas.core.frame.DataFrame'>\n",
      "RangeIndex: 859 entries, 0 to 858\n",
      "Data columns (total 10 columns):\n",
      " #   Column           Non-Null Count  Dtype \n",
      "---  ------           --------------  ----- \n",
      " 0   user_id          859 non-null    object\n",
      " 1   tweet_id         859 non-null    object\n",
      " 2   tweet_text       859 non-null    object\n",
      " 3   retweet_count    859 non-null    int64 \n",
      " 4   favorite_count   859 non-null    int64 \n",
      " 5   followers_count  859 non-null    int64 \n",
      " 6   friends_count    859 non-null    int64 \n",
      " 7   verified         859 non-null    int64 \n",
      " 8   created_at       859 non-null    object\n",
      " 9   label            859 non-null    int64 \n",
      "dtypes: int64(6), object(4)\n",
      "memory usage: 67.2+ KB\n",
      "None\n"
     ]
    },
    {
     "name": "stderr",
     "output_type": "stream",
     "text": [
      "/tmp/ipykernel_9487/1796586709.py:58: FutureWarning: Downcasting behavior in `replace` is deprecated and will be removed in a future version. To retain the old behavior, explicitly call `result.infer_objects(copy=False)`. To opt-in to the future behavior, set `pd.set_option('future.no_silent_downcasting', True)`\n",
      "  df['label'] = df['label'].replace({'rumor': 1, 'non-rumor': 0})\n",
      "/tmp/ipykernel_9487/1796586709.py:59: FutureWarning: Downcasting behavior in `replace` is deprecated and will be removed in a future version. To retain the old behavior, explicitly call `result.infer_objects(copy=False)`. To opt-in to the future behavior, set `pd.set_option('future.no_silent_downcasting', True)`\n",
      "  df['verified'] = df['verified'].replace({True: 1, False: 0})\n"
     ]
    }
   ],
   "source": [
    "ferguson_st_nr = fetch_source_df('ferguson', 'non-rumours')\n",
    "print(ferguson_st_nr.info())"
   ]
  },
  {
   "cell_type": "code",
   "execution_count": 314,
   "id": "50d484e7-d9aa-4d93-a5b2-4b1907bf48ca",
   "metadata": {},
   "outputs": [
    {
     "name": "stdout",
     "output_type": "stream",
     "text": [
      "First folder name: 580330986220687360\n",
      "<class 'pandas.core.frame.DataFrame'>\n",
      "RangeIndex: 231 entries, 0 to 230\n",
      "Data columns (total 10 columns):\n",
      " #   Column           Non-Null Count  Dtype \n",
      "---  ------           --------------  ----- \n",
      " 0   user_id          231 non-null    object\n",
      " 1   tweet_id         231 non-null    object\n",
      " 2   tweet_text       231 non-null    object\n",
      " 3   retweet_count    231 non-null    int64 \n",
      " 4   favorite_count   231 non-null    int64 \n",
      " 5   followers_count  231 non-null    int64 \n",
      " 6   friends_count    231 non-null    int64 \n",
      " 7   verified         231 non-null    int64 \n",
      " 8   created_at       231 non-null    object\n",
      " 9   label            231 non-null    int64 \n",
      "dtypes: int64(6), object(4)\n",
      "memory usage: 18.2+ KB\n",
      "None\n"
     ]
    },
    {
     "name": "stderr",
     "output_type": "stream",
     "text": [
      "/tmp/ipykernel_9487/1796586709.py:58: FutureWarning: Downcasting behavior in `replace` is deprecated and will be removed in a future version. To retain the old behavior, explicitly call `result.infer_objects(copy=False)`. To opt-in to the future behavior, set `pd.set_option('future.no_silent_downcasting', True)`\n",
      "  df['label'] = df['label'].replace({'rumor': 1, 'non-rumor': 0})\n",
      "/tmp/ipykernel_9487/1796586709.py:59: FutureWarning: Downcasting behavior in `replace` is deprecated and will be removed in a future version. To retain the old behavior, explicitly call `result.infer_objects(copy=False)`. To opt-in to the future behavior, set `pd.set_option('future.no_silent_downcasting', True)`\n",
      "  df['verified'] = df['verified'].replace({True: 1, False: 0})\n"
     ]
    }
   ],
   "source": [
    "germanwingscrash_st_nr = fetch_source_df('germanwings-crash', 'non-rumours')\n",
    "print(germanwingscrash_st_nr.info())"
   ]
  },
  {
   "cell_type": "code",
   "execution_count": 315,
   "id": "b9a0fe80-3c85-438e-b4e4-ddc937b46f92",
   "metadata": {},
   "outputs": [
    {
     "name": "stdout",
     "output_type": "stream",
     "text": [
      "First folder name: 544506678922977280\n",
      "<class 'pandas.core.frame.DataFrame'>\n",
      "RangeIndex: 699 entries, 0 to 698\n",
      "Data columns (total 10 columns):\n",
      " #   Column           Non-Null Count  Dtype \n",
      "---  ------           --------------  ----- \n",
      " 0   user_id          699 non-null    object\n",
      " 1   tweet_id         699 non-null    object\n",
      " 2   tweet_text       699 non-null    object\n",
      " 3   retweet_count    699 non-null    int64 \n",
      " 4   favorite_count   699 non-null    int64 \n",
      " 5   followers_count  699 non-null    int64 \n",
      " 6   friends_count    699 non-null    int64 \n",
      " 7   verified         699 non-null    int64 \n",
      " 8   created_at       699 non-null    object\n",
      " 9   label            699 non-null    int64 \n",
      "dtypes: int64(6), object(4)\n",
      "memory usage: 54.7+ KB\n",
      "None\n"
     ]
    },
    {
     "name": "stderr",
     "output_type": "stream",
     "text": [
      "/tmp/ipykernel_9487/1796586709.py:58: FutureWarning: Downcasting behavior in `replace` is deprecated and will be removed in a future version. To retain the old behavior, explicitly call `result.infer_objects(copy=False)`. To opt-in to the future behavior, set `pd.set_option('future.no_silent_downcasting', True)`\n",
      "  df['label'] = df['label'].replace({'rumor': 1, 'non-rumor': 0})\n",
      "/tmp/ipykernel_9487/1796586709.py:59: FutureWarning: Downcasting behavior in `replace` is deprecated and will be removed in a future version. To retain the old behavior, explicitly call `result.infer_objects(copy=False)`. To opt-in to the future behavior, set `pd.set_option('future.no_silent_downcasting', True)`\n",
      "  df['verified'] = df['verified'].replace({True: 1, False: 0})\n"
     ]
    }
   ],
   "source": [
    "sydneysiege_st_nr = fetch_source_df('sydneysiege', 'non-rumours')\n",
    "print(sydneysiege_st_nr.info())"
   ]
  },
  {
   "cell_type": "markdown",
   "id": "04496a3d-87f2-48f4-be38-7374760c9a7e",
   "metadata": {},
   "source": [
    "### Response Tweets"
   ]
  },
  {
   "cell_type": "markdown",
   "id": "fa99e6b3-a141-4e53-8244-67f443d8716d",
   "metadata": {
    "jp-MarkdownHeadingCollapsed": true
   },
   "source": [
    "#### Ottawa"
   ]
  },
  {
   "cell_type": "code",
   "execution_count": 14,
   "id": "e129abf3-042f-427b-880d-49f4e8030efb",
   "metadata": {
    "scrolled": true
   },
   "outputs": [
    {
     "name": "stdout",
     "output_type": "stream",
     "text": [
      "<class 'pandas.core.frame.DataFrame'>\n",
      "RangeIndex: 5428 entries, 0 to 5427\n",
      "Data columns (total 10 columns):\n",
      " #   Column                 Non-Null Count  Dtype \n",
      "---  ------                 --------------  ----- \n",
      " 0   main_tweet_id          5428 non-null   object\n",
      " 1   response_tweet_id      5428 non-null   object\n",
      " 2   user_id                5428 non-null   object\n",
      " 3   in_reply_to_status_id  5428 non-null   object\n",
      " 4   in_reply_to_user_id    5428 non-null   object\n",
      " 5   response_tweet_text    5428 non-null   object\n",
      " 6   retweet_count          5428 non-null   int64 \n",
      " 7   favorite_count         5428 non-null   int64 \n",
      " 8   response_created_at    5428 non-null   object\n",
      " 9   label                  5428 non-null   int64 \n",
      "dtypes: int64(3), object(7)\n",
      "memory usage: 424.2+ KB\n",
      "None\n"
     ]
    },
    {
     "name": "stderr",
     "output_type": "stream",
     "text": [
      "/tmp/ipykernel_285768/3794510746.py:61: FutureWarning: Downcasting behavior in `replace` is deprecated and will be removed in a future version. To retain the old behavior, explicitly call `result.infer_objects(copy=False)`. To opt-in to the future behavior, set `pd.set_option('future.no_silent_downcasting', True)`\n",
      "  response_tweet_data['label'] = response_tweet_data['label'].replace({'rumour': 1, 'non-rumour': 0})\n"
     ]
    }
   ],
   "source": [
    "ottawa_res_nr = fetch_response_tweets('ottawashooting', 'non-rumours','non-rumour')\n",
    "print(ottawa_res_nr.info())"
   ]
  },
  {
   "cell_type": "code",
   "execution_count": 179,
   "id": "e89d744d-1dcc-42d4-ab71-c4e6d9258c7a",
   "metadata": {},
   "outputs": [
    {
     "data": {
      "text/plain": [
       "main_tweet_id            0\n",
       "in_reply_to_status_id    4\n",
       "in_reply_to_user_id      4\n",
       "user_id                  0\n",
       "response_tweet_id        0\n",
       "response_tweet_text      0\n",
       "response_created_at      0\n",
       "label                    0\n",
       "dtype: int64"
      ]
     },
     "execution_count": 179,
     "metadata": {},
     "output_type": "execute_result"
    }
   ],
   "source": [
    "ottawa_res_nr.isna().sum()"
   ]
  },
  {
   "cell_type": "code",
   "execution_count": 178,
   "id": "1b993a02-24fc-4d21-b581-a65d5ee7e278",
   "metadata": {},
   "outputs": [
    {
     "data": {
      "text/html": [
       "<div>\n",
       "<style scoped>\n",
       "    .dataframe tbody tr th:only-of-type {\n",
       "        vertical-align: middle;\n",
       "    }\n",
       "\n",
       "    .dataframe tbody tr th {\n",
       "        vertical-align: top;\n",
       "    }\n",
       "\n",
       "    .dataframe thead th {\n",
       "        text-align: right;\n",
       "    }\n",
       "</style>\n",
       "<table border=\"1\" class=\"dataframe\">\n",
       "  <thead>\n",
       "    <tr style=\"text-align: right;\">\n",
       "      <th></th>\n",
       "      <th>main_tweet_id</th>\n",
       "      <th>in_reply_to_status_id</th>\n",
       "      <th>in_reply_to_user_id</th>\n",
       "      <th>user_id</th>\n",
       "      <th>response_tweet_id</th>\n",
       "      <th>response_tweet_text</th>\n",
       "      <th>response_created_at</th>\n",
       "      <th>label</th>\n",
       "    </tr>\n",
       "  </thead>\n",
       "  <tbody>\n",
       "    <tr>\n",
       "      <th>1095</th>\n",
       "      <td>524995776578330624</td>\n",
       "      <td>NaN</td>\n",
       "      <td>NaN</td>\n",
       "      <td>569655756</td>\n",
       "      <td>524999366877384706</td>\n",
       "      <td>@ISIS3HunnaSquad @pmharper @nypost garbage Sir...</td>\n",
       "      <td>Wed Oct 22 19:02:57 +0000 2014</td>\n",
       "      <td>non-rumour</td>\n",
       "    </tr>\n",
       "    <tr>\n",
       "      <th>1097</th>\n",
       "      <td>524995776578330624</td>\n",
       "      <td>NaN</td>\n",
       "      <td>NaN</td>\n",
       "      <td>569655756</td>\n",
       "      <td>524999824543072256</td>\n",
       "      <td>@ISIS3HunnaSquad @pmharper @nypost What nonsen...</td>\n",
       "      <td>Wed Oct 22 19:04:46 +0000 2014</td>\n",
       "      <td>non-rumour</td>\n",
       "    </tr>\n",
       "    <tr>\n",
       "      <th>1099</th>\n",
       "      <td>524995776578330624</td>\n",
       "      <td>NaN</td>\n",
       "      <td>NaN</td>\n",
       "      <td>1382947069</td>\n",
       "      <td>525005026851573761</td>\n",
       "      <td>@ISIS3HunnaSquad @pmharper @nypost @peterskuce...</td>\n",
       "      <td>Wed Oct 22 19:25:27 +0000 2014</td>\n",
       "      <td>non-rumour</td>\n",
       "    </tr>\n",
       "    <tr>\n",
       "      <th>3805</th>\n",
       "      <td>524934507892580352</td>\n",
       "      <td>NaN</td>\n",
       "      <td>NaN</td>\n",
       "      <td>35338880</td>\n",
       "      <td>524941095944601600</td>\n",
       "      <td>@HersiHujaleh @dgardner thanks Dan. I didn't r...</td>\n",
       "      <td>Wed Oct 22 15:11:24 +0000 2014</td>\n",
       "      <td>non-rumour</td>\n",
       "    </tr>\n",
       "  </tbody>\n",
       "</table>\n",
       "</div>"
      ],
      "text/plain": [
       "           main_tweet_id  in_reply_to_status_id  in_reply_to_user_id  \\\n",
       "1095  524995776578330624                    NaN                  NaN   \n",
       "1097  524995776578330624                    NaN                  NaN   \n",
       "1099  524995776578330624                    NaN                  NaN   \n",
       "3805  524934507892580352                    NaN                  NaN   \n",
       "\n",
       "         user_id   response_tweet_id  \\\n",
       "1095   569655756  524999366877384706   \n",
       "1097   569655756  524999824543072256   \n",
       "1099  1382947069  525005026851573761   \n",
       "3805    35338880  524941095944601600   \n",
       "\n",
       "                                    response_tweet_text  \\\n",
       "1095  @ISIS3HunnaSquad @pmharper @nypost garbage Sir...   \n",
       "1097  @ISIS3HunnaSquad @pmharper @nypost What nonsen...   \n",
       "1099  @ISIS3HunnaSquad @pmharper @nypost @peterskuce...   \n",
       "3805  @HersiHujaleh @dgardner thanks Dan. I didn't r...   \n",
       "\n",
       "                 response_created_at       label  \n",
       "1095  Wed Oct 22 19:02:57 +0000 2014  non-rumour  \n",
       "1097  Wed Oct 22 19:04:46 +0000 2014  non-rumour  \n",
       "1099  Wed Oct 22 19:25:27 +0000 2014  non-rumour  \n",
       "3805  Wed Oct 22 15:11:24 +0000 2014  non-rumour  "
      ]
     },
     "metadata": {},
     "output_type": "display_data"
    }
   ],
   "source": [
    "display(check_nulls(ottawa_res_nr))"
   ]
  },
  {
   "cell_type": "code",
   "execution_count": 154,
   "id": "f1509792-aff8-4804-9d20-bec3944bdf2d",
   "metadata": {},
   "outputs": [
    {
     "name": "stdout",
     "output_type": "stream",
     "text": [
      "<class 'pandas.core.frame.DataFrame'>\n",
      "RangeIndex: 5428 entries, 0 to 5427\n",
      "Data columns (total 8 columns):\n",
      " #   Column                 Non-Null Count  Dtype \n",
      "---  ------                 --------------  ----- \n",
      " 0   main_tweet_id          5428 non-null   object\n",
      " 1   in_reply_to_status_id  5428 non-null   object\n",
      " 2   in_reply_to_user_id    5428 non-null   object\n",
      " 3   user_id                5428 non-null   int64 \n",
      " 4   response_tweet_id      5428 non-null   int64 \n",
      " 5   response_tweet_text    5428 non-null   object\n",
      " 6   response_created_at    5428 non-null   object\n",
      " 7   label                  5428 non-null   object\n",
      "dtypes: int64(2), object(6)\n",
      "memory usage: 339.4+ KB\n"
     ]
    }
   ],
   "source": [
    "ottawa_res_nr=replace_vals(ottawa_res_nr)\n",
    "ottawa_res_nr.info()"
   ]
  },
  {
   "cell_type": "code",
   "execution_count": 155,
   "id": "fc27de7e-e8e7-4e9c-9460-8954d6f89765",
   "metadata": {},
   "outputs": [
    {
     "name": "stdout",
     "output_type": "stream",
     "text": [
      "<class 'pandas.core.frame.DataFrame'>\n",
      "RangeIndex: 5428 entries, 0 to 5427\n",
      "Data columns (total 8 columns):\n",
      " #   Column                 Non-Null Count  Dtype \n",
      "---  ------                 --------------  ----- \n",
      " 0   main_tweet_id          5428 non-null   object\n",
      " 1   in_reply_to_status_id  5428 non-null   object\n",
      " 2   in_reply_to_user_id    5428 non-null   object\n",
      " 3   user_id                5428 non-null   object\n",
      " 4   response_tweet_id      5428 non-null   object\n",
      " 5   response_tweet_text    5428 non-null   object\n",
      " 6   response_created_at    5428 non-null   object\n",
      " 7   label                  5428 non-null   object\n",
      "dtypes: object(8)\n",
      "memory usage: 339.4+ KB\n"
     ]
    }
   ],
   "source": [
    "ottawa_res_nr=to_str(ottawa_res_nr)\n",
    "ottawa_res_nr.info()"
   ]
  },
  {
   "cell_type": "markdown",
   "id": "20232926-b2f2-403b-9f14-6b7d1434d74c",
   "metadata": {
    "jp-MarkdownHeadingCollapsed": true
   },
   "source": [
    "#### Charlie"
   ]
  },
  {
   "cell_type": "code",
   "execution_count": 15,
   "id": "e0ec159e-d0e9-419c-9399-54a33cf362e7",
   "metadata": {
    "scrolled": true
   },
   "outputs": [
    {
     "name": "stdout",
     "output_type": "stream",
     "text": [
      "<class 'pandas.core.frame.DataFrame'>\n",
      "RangeIndex: 29302 entries, 0 to 29301\n",
      "Data columns (total 10 columns):\n",
      " #   Column                 Non-Null Count  Dtype \n",
      "---  ------                 --------------  ----- \n",
      " 0   main_tweet_id          29302 non-null  object\n",
      " 1   response_tweet_id      29302 non-null  object\n",
      " 2   user_id                29302 non-null  object\n",
      " 3   in_reply_to_status_id  29302 non-null  object\n",
      " 4   in_reply_to_user_id    29302 non-null  object\n",
      " 5   response_tweet_text    29302 non-null  object\n",
      " 6   retweet_count          29302 non-null  int64 \n",
      " 7   favorite_count         29302 non-null  int64 \n",
      " 8   response_created_at    29302 non-null  object\n",
      " 9   label                  29302 non-null  int64 \n",
      "dtypes: int64(3), object(7)\n",
      "memory usage: 2.2+ MB\n",
      "None\n"
     ]
    },
    {
     "name": "stderr",
     "output_type": "stream",
     "text": [
      "/tmp/ipykernel_285768/3794510746.py:61: FutureWarning: Downcasting behavior in `replace` is deprecated and will be removed in a future version. To retain the old behavior, explicitly call `result.infer_objects(copy=False)`. To opt-in to the future behavior, set `pd.set_option('future.no_silent_downcasting', True)`\n",
      "  response_tweet_data['label'] = response_tweet_data['label'].replace({'rumour': 1, 'non-rumour': 0})\n"
     ]
    }
   ],
   "source": [
    "charliehebdo_nr_res = fetch_response_tweets('charliehebdo', 'non-rumours','non-rumour')\n",
    "print(charliehebdo_nr_res.info())"
   ]
  },
  {
   "cell_type": "code",
   "execution_count": 292,
   "id": "75a758af-5fe7-42c9-a67f-329d29b67d96",
   "metadata": {},
   "outputs": [
    {
     "data": {
      "text/plain": [
       "main_tweet_id            0\n",
       "response_tweet_id        0\n",
       "user_id                  0\n",
       "in_reply_to_status_id    0\n",
       "in_reply_to_user_id      0\n",
       "response_tweet_text      0\n",
       "retweet_count            0\n",
       "favorite_count           0\n",
       "response_created_at      0\n",
       "label                    0\n",
       "dtype: int64"
      ]
     },
     "execution_count": 292,
     "metadata": {},
     "output_type": "execute_result"
    }
   ],
   "source": [
    "charliehebdo_nr_res.isna().sum()"
   ]
  },
  {
   "cell_type": "code",
   "execution_count": 157,
   "id": "48ad5cf8-ba78-4047-ba62-f3ff8240cd6c",
   "metadata": {
    "scrolled": true
   },
   "outputs": [
    {
     "data": {
      "text/html": [
       "<div>\n",
       "<style scoped>\n",
       "    .dataframe tbody tr th:only-of-type {\n",
       "        vertical-align: middle;\n",
       "    }\n",
       "\n",
       "    .dataframe tbody tr th {\n",
       "        vertical-align: top;\n",
       "    }\n",
       "\n",
       "    .dataframe thead th {\n",
       "        text-align: right;\n",
       "    }\n",
       "</style>\n",
       "<table border=\"1\" class=\"dataframe\">\n",
       "  <thead>\n",
       "    <tr style=\"text-align: right;\">\n",
       "      <th></th>\n",
       "      <th>main_tweet_id</th>\n",
       "      <th>in_reply_to_status_id</th>\n",
       "      <th>in_reply_to_user_id</th>\n",
       "      <th>user_id</th>\n",
       "      <th>response_tweet_id</th>\n",
       "      <th>response_tweet_text</th>\n",
       "      <th>response_created_at</th>\n",
       "      <th>label</th>\n",
       "    </tr>\n",
       "  </thead>\n",
       "  <tbody>\n",
       "    <tr>\n",
       "      <th>542</th>\n",
       "      <td>552815443959091200</td>\n",
       "      <td>NaN</td>\n",
       "      <td>NaN</td>\n",
       "      <td>2319710954</td>\n",
       "      <td>552863202238013440</td>\n",
       "      <td>@Slaphappy70 @MaryDram @NewStatesman One thing...</td>\n",
       "      <td>Wed Jan 07 16:23:53 +0000 2015</td>\n",
       "      <td>non-rumour</td>\n",
       "    </tr>\n",
       "    <tr>\n",
       "      <th>546</th>\n",
       "      <td>552815443959091200</td>\n",
       "      <td>NaN</td>\n",
       "      <td>NaN</td>\n",
       "      <td>47491845</td>\n",
       "      <td>552867309455695872</td>\n",
       "      <td>@Slaphappy70 @WayneParcheman @NewStatesman nut...</td>\n",
       "      <td>Wed Jan 07 16:40:13 +0000 2015</td>\n",
       "      <td>non-rumour</td>\n",
       "    </tr>\n",
       "    <tr>\n",
       "      <th>547</th>\n",
       "      <td>552815443959091200</td>\n",
       "      <td>NaN</td>\n",
       "      <td>NaN</td>\n",
       "      <td>2319710954</td>\n",
       "      <td>552923345042542593</td>\n",
       "      <td>@Slaphappy70 @MaryDram @NewStatesman it's abou...</td>\n",
       "      <td>Wed Jan 07 20:22:52 +0000 2015</td>\n",
       "      <td>non-rumour</td>\n",
       "    </tr>\n",
       "    <tr>\n",
       "      <th>548</th>\n",
       "      <td>552815443959091200</td>\n",
       "      <td>NaN</td>\n",
       "      <td>NaN</td>\n",
       "      <td>47491845</td>\n",
       "      <td>553202872830402561</td>\n",
       "      <td>@Slaphappy70 @WayneParcheman @NewStatesman as ...</td>\n",
       "      <td>Thu Jan 08 14:53:37 +0000 2015</td>\n",
       "      <td>non-rumour</td>\n",
       "    </tr>\n",
       "    <tr>\n",
       "      <th>735</th>\n",
       "      <td>553590072373968897</td>\n",
       "      <td>NaN</td>\n",
       "      <td>NaN</td>\n",
       "      <td>16285681</td>\n",
       "      <td>553652765508255744</td>\n",
       "      <td>@The_Meme_Artist @ageless_vintage @CBSNews @cr...</td>\n",
       "      <td>Fri Jan 09 20:41:20 +0000 2015</td>\n",
       "      <td>non-rumour</td>\n",
       "    </tr>\n",
       "    <tr>\n",
       "      <th>...</th>\n",
       "      <td>...</td>\n",
       "      <td>...</td>\n",
       "      <td>...</td>\n",
       "      <td>...</td>\n",
       "      <td>...</td>\n",
       "      <td>...</td>\n",
       "      <td>...</td>\n",
       "      <td>...</td>\n",
       "    </tr>\n",
       "    <tr>\n",
       "      <th>29051</th>\n",
       "      <td>553514329166061568</td>\n",
       "      <td>NaN</td>\n",
       "      <td>NaN</td>\n",
       "      <td>2425223344</td>\n",
       "      <td>553567897076129792</td>\n",
       "      <td>@candymondaytoo @Naila_TRQ @DAVIDMDRAIMAN @Zak...</td>\n",
       "      <td>Fri Jan 09 15:04:06 +0000 2015</td>\n",
       "      <td>non-rumour</td>\n",
       "    </tr>\n",
       "    <tr>\n",
       "      <th>29103</th>\n",
       "      <td>553514329166061568</td>\n",
       "      <td>NaN</td>\n",
       "      <td>NaN</td>\n",
       "      <td>2425223344</td>\n",
       "      <td>556208204099878913</td>\n",
       "      <td>@candymondaytoo @Naila_TRQ @DAVIDMDRAIMAN @Zak...</td>\n",
       "      <td>Fri Jan 16 21:55:44 +0000 2015</td>\n",
       "      <td>non-rumour</td>\n",
       "    </tr>\n",
       "    <tr>\n",
       "      <th>29104</th>\n",
       "      <td>553514329166061568</td>\n",
       "      <td>NaN</td>\n",
       "      <td>NaN</td>\n",
       "      <td>538818845</td>\n",
       "      <td>556213859917512704</td>\n",
       "      <td>@candymondaytoo @i_luv_ISRAEL @Naila_TRQ @DAVI...</td>\n",
       "      <td>Fri Jan 16 22:18:12 +0000 2015</td>\n",
       "      <td>non-rumour</td>\n",
       "    </tr>\n",
       "    <tr>\n",
       "      <th>29106</th>\n",
       "      <td>553514329166061568</td>\n",
       "      <td>NaN</td>\n",
       "      <td>NaN</td>\n",
       "      <td>427655976</td>\n",
       "      <td>556218413752664064</td>\n",
       "      <td>@candymondaytoo @Callitspades @Naila_TRQ @i_lu...</td>\n",
       "      <td>Fri Jan 16 22:36:18 +0000 2015</td>\n",
       "      <td>non-rumour</td>\n",
       "    </tr>\n",
       "    <tr>\n",
       "      <th>29107</th>\n",
       "      <td>553514329166061568</td>\n",
       "      <td>NaN</td>\n",
       "      <td>NaN</td>\n",
       "      <td>427655976</td>\n",
       "      <td>556218472137768961</td>\n",
       "      <td>@candymondaytoo @Callitspades @Naila_TRQ @i_lu...</td>\n",
       "      <td>Fri Jan 16 22:36:32 +0000 2015</td>\n",
       "      <td>non-rumour</td>\n",
       "    </tr>\n",
       "  </tbody>\n",
       "</table>\n",
       "<p>119 rows × 8 columns</p>\n",
       "</div>"
      ],
      "text/plain": [
       "            main_tweet_id  in_reply_to_status_id  in_reply_to_user_id  \\\n",
       "542    552815443959091200                    NaN                  NaN   \n",
       "546    552815443959091200                    NaN                  NaN   \n",
       "547    552815443959091200                    NaN                  NaN   \n",
       "548    552815443959091200                    NaN                  NaN   \n",
       "735    553590072373968897                    NaN                  NaN   \n",
       "...                   ...                    ...                  ...   \n",
       "29051  553514329166061568                    NaN                  NaN   \n",
       "29103  553514329166061568                    NaN                  NaN   \n",
       "29104  553514329166061568                    NaN                  NaN   \n",
       "29106  553514329166061568                    NaN                  NaN   \n",
       "29107  553514329166061568                    NaN                  NaN   \n",
       "\n",
       "          user_id   response_tweet_id  \\\n",
       "542    2319710954  552863202238013440   \n",
       "546      47491845  552867309455695872   \n",
       "547    2319710954  552923345042542593   \n",
       "548      47491845  553202872830402561   \n",
       "735      16285681  553652765508255744   \n",
       "...           ...                 ...   \n",
       "29051  2425223344  553567897076129792   \n",
       "29103  2425223344  556208204099878913   \n",
       "29104   538818845  556213859917512704   \n",
       "29106   427655976  556218413752664064   \n",
       "29107   427655976  556218472137768961   \n",
       "\n",
       "                                     response_tweet_text  \\\n",
       "542    @Slaphappy70 @MaryDram @NewStatesman One thing...   \n",
       "546    @Slaphappy70 @WayneParcheman @NewStatesman nut...   \n",
       "547    @Slaphappy70 @MaryDram @NewStatesman it's abou...   \n",
       "548    @Slaphappy70 @WayneParcheman @NewStatesman as ...   \n",
       "735    @The_Meme_Artist @ageless_vintage @CBSNews @cr...   \n",
       "...                                                  ...   \n",
       "29051  @candymondaytoo @Naila_TRQ @DAVIDMDRAIMAN @Zak...   \n",
       "29103  @candymondaytoo @Naila_TRQ @DAVIDMDRAIMAN @Zak...   \n",
       "29104  @candymondaytoo @i_luv_ISRAEL @Naila_TRQ @DAVI...   \n",
       "29106  @candymondaytoo @Callitspades @Naila_TRQ @i_lu...   \n",
       "29107  @candymondaytoo @Callitspades @Naila_TRQ @i_lu...   \n",
       "\n",
       "                  response_created_at       label  \n",
       "542    Wed Jan 07 16:23:53 +0000 2015  non-rumour  \n",
       "546    Wed Jan 07 16:40:13 +0000 2015  non-rumour  \n",
       "547    Wed Jan 07 20:22:52 +0000 2015  non-rumour  \n",
       "548    Thu Jan 08 14:53:37 +0000 2015  non-rumour  \n",
       "735    Fri Jan 09 20:41:20 +0000 2015  non-rumour  \n",
       "...                               ...         ...  \n",
       "29051  Fri Jan 09 15:04:06 +0000 2015  non-rumour  \n",
       "29103  Fri Jan 16 21:55:44 +0000 2015  non-rumour  \n",
       "29104  Fri Jan 16 22:18:12 +0000 2015  non-rumour  \n",
       "29106  Fri Jan 16 22:36:18 +0000 2015  non-rumour  \n",
       "29107  Fri Jan 16 22:36:32 +0000 2015  non-rumour  \n",
       "\n",
       "[119 rows x 8 columns]"
      ]
     },
     "metadata": {},
     "output_type": "display_data"
    }
   ],
   "source": [
    "display(check_nulls(charliehebdo_nr_res))"
   ]
  },
  {
   "cell_type": "code",
   "execution_count": 159,
   "id": "437ec19e-888a-49e9-94bd-7efd822b75dd",
   "metadata": {},
   "outputs": [
    {
     "name": "stdout",
     "output_type": "stream",
     "text": [
      "<class 'pandas.core.frame.DataFrame'>\n",
      "RangeIndex: 29302 entries, 0 to 29301\n",
      "Data columns (total 8 columns):\n",
      " #   Column                 Non-Null Count  Dtype \n",
      "---  ------                 --------------  ----- \n",
      " 0   main_tweet_id          29302 non-null  object\n",
      " 1   in_reply_to_status_id  29302 non-null  object\n",
      " 2   in_reply_to_user_id    29302 non-null  object\n",
      " 3   user_id                29302 non-null  int64 \n",
      " 4   response_tweet_id      29302 non-null  int64 \n",
      " 5   response_tweet_text    29302 non-null  object\n",
      " 6   response_created_at    29302 non-null  object\n",
      " 7   label                  29302 non-null  object\n",
      "dtypes: int64(2), object(6)\n",
      "memory usage: 1.8+ MB\n"
     ]
    }
   ],
   "source": [
    "charliehebdo_nr_res=replace_vals(charliehebdo_nr_res)\n",
    "charliehebdo_nr_res.info()"
   ]
  },
  {
   "cell_type": "code",
   "execution_count": 161,
   "id": "cb080676-bbdb-42c7-91fc-0a8a74efcc0f",
   "metadata": {},
   "outputs": [
    {
     "name": "stdout",
     "output_type": "stream",
     "text": [
      "<class 'pandas.core.frame.DataFrame'>\n",
      "RangeIndex: 29302 entries, 0 to 29301\n",
      "Data columns (total 8 columns):\n",
      " #   Column                 Non-Null Count  Dtype \n",
      "---  ------                 --------------  ----- \n",
      " 0   main_tweet_id          29302 non-null  object\n",
      " 1   in_reply_to_status_id  29302 non-null  object\n",
      " 2   in_reply_to_user_id    29302 non-null  object\n",
      " 3   user_id                29302 non-null  object\n",
      " 4   response_tweet_id      29302 non-null  object\n",
      " 5   response_tweet_text    29302 non-null  object\n",
      " 6   response_created_at    29302 non-null  object\n",
      " 7   label                  29302 non-null  object\n",
      "dtypes: object(8)\n",
      "memory usage: 1.8+ MB\n"
     ]
    }
   ],
   "source": [
    "charliehebdo_nr_res=to_str(charliehebdo_nr_res)\n",
    "charliehebdo_nr_res.info()"
   ]
  },
  {
   "cell_type": "markdown",
   "id": "b0eed718-a526-4c10-a23c-e235d2248dc0",
   "metadata": {
    "jp-MarkdownHeadingCollapsed": true
   },
   "source": [
    "#### Ferguson"
   ]
  },
  {
   "cell_type": "code",
   "execution_count": 16,
   "id": "40ee77e2-a949-44d8-9a91-e9a0f7077079",
   "metadata": {},
   "outputs": [
    {
     "name": "stdout",
     "output_type": "stream",
     "text": [
      "<class 'pandas.core.frame.DataFrame'>\n",
      "RangeIndex: 16837 entries, 0 to 16836\n",
      "Data columns (total 10 columns):\n",
      " #   Column                 Non-Null Count  Dtype \n",
      "---  ------                 --------------  ----- \n",
      " 0   main_tweet_id          16837 non-null  object\n",
      " 1   response_tweet_id      16837 non-null  object\n",
      " 2   user_id                16837 non-null  object\n",
      " 3   in_reply_to_status_id  16837 non-null  object\n",
      " 4   in_reply_to_user_id    16837 non-null  object\n",
      " 5   response_tweet_text    16837 non-null  object\n",
      " 6   retweet_count          16837 non-null  int64 \n",
      " 7   favorite_count         16837 non-null  int64 \n",
      " 8   response_created_at    16837 non-null  object\n",
      " 9   label                  16837 non-null  int64 \n",
      "dtypes: int64(3), object(7)\n",
      "memory usage: 1.3+ MB\n",
      "None\n"
     ]
    },
    {
     "name": "stderr",
     "output_type": "stream",
     "text": [
      "/tmp/ipykernel_285768/3794510746.py:61: FutureWarning: Downcasting behavior in `replace` is deprecated and will be removed in a future version. To retain the old behavior, explicitly call `result.infer_objects(copy=False)`. To opt-in to the future behavior, set `pd.set_option('future.no_silent_downcasting', True)`\n",
      "  response_tweet_data['label'] = response_tweet_data['label'].replace({'rumour': 1, 'non-rumour': 0})\n"
     ]
    }
   ],
   "source": [
    "ferguson_nr_res = fetch_response_tweets('ferguson', 'non-rumours','non-rumour')\n",
    "print(ferguson_nr_res.info())"
   ]
  },
  {
   "cell_type": "code",
   "execution_count": 294,
   "id": "dfea801d-fe1b-4175-bb67-510c1ef18df4",
   "metadata": {},
   "outputs": [
    {
     "data": {
      "text/plain": [
       "main_tweet_id            0\n",
       "response_tweet_id        0\n",
       "user_id                  0\n",
       "in_reply_to_status_id    0\n",
       "in_reply_to_user_id      0\n",
       "response_tweet_text      0\n",
       "retweet_count            0\n",
       "favorite_count           0\n",
       "response_created_at      0\n",
       "label                    0\n",
       "dtype: int64"
      ]
     },
     "execution_count": 294,
     "metadata": {},
     "output_type": "execute_result"
    }
   ],
   "source": [
    "ferguson_nr_res.isna().sum()"
   ]
  },
  {
   "cell_type": "code",
   "execution_count": 280,
   "id": "c3d326d6-2aa5-4f2b-a3a8-32c276c8c185",
   "metadata": {
    "scrolled": true
   },
   "outputs": [
    {
     "data": {
      "text/html": [
       "<div>\n",
       "<style scoped>\n",
       "    .dataframe tbody tr th:only-of-type {\n",
       "        vertical-align: middle;\n",
       "    }\n",
       "\n",
       "    .dataframe tbody tr th {\n",
       "        vertical-align: top;\n",
       "    }\n",
       "\n",
       "    .dataframe thead th {\n",
       "        text-align: right;\n",
       "    }\n",
       "</style>\n",
       "<table border=\"1\" class=\"dataframe\">\n",
       "  <thead>\n",
       "    <tr style=\"text-align: right;\">\n",
       "      <th></th>\n",
       "      <th>main_tweet_id</th>\n",
       "      <th>response_tweet_id</th>\n",
       "      <th>user_id</th>\n",
       "      <th>in_reply_to_status_id</th>\n",
       "      <th>in_reply_to_user_id</th>\n",
       "      <th>response_tweet_text</th>\n",
       "      <th>retweet_count</th>\n",
       "      <th>favorite_count</th>\n",
       "      <th>response_created_at</th>\n",
       "      <th>label</th>\n",
       "    </tr>\n",
       "  </thead>\n",
       "  <tbody>\n",
       "    <tr>\n",
       "      <th>0</th>\n",
       "      <td>499409455814287360</td>\n",
       "      <td>499409455814287360</td>\n",
       "      <td>14090948</td>\n",
       "      <td>None</td>\n",
       "      <td>None</td>\n",
       "      <td>Crowd peacefully dispersing at the QT tonight....</td>\n",
       "      <td>106</td>\n",
       "      <td>54</td>\n",
       "      <td>Wed Aug 13 04:17:47 +0000 2014</td>\n",
       "      <td>non-rumour</td>\n",
       "    </tr>\n",
       "    <tr>\n",
       "      <th>7</th>\n",
       "      <td>499695028407922689</td>\n",
       "      <td>499695028407922689</td>\n",
       "      <td>14782581</td>\n",
       "      <td>None</td>\n",
       "      <td>None</td>\n",
       "      <td>what the FUCK are you looking at through a MOU...</td>\n",
       "      <td>128</td>\n",
       "      <td>47</td>\n",
       "      <td>Wed Aug 13 23:12:33 +0000 2014</td>\n",
       "      <td>non-rumour</td>\n",
       "    </tr>\n",
       "    <tr>\n",
       "      <th>130</th>\n",
       "      <td>500071770192216065</td>\n",
       "      <td>500071770192216065</td>\n",
       "      <td>2097571</td>\n",
       "      <td>None</td>\n",
       "      <td>None</td>\n",
       "      <td>Are these cops or soldiers? Experts say #Fergu...</td>\n",
       "      <td>845</td>\n",
       "      <td>454</td>\n",
       "      <td>Fri Aug 15 00:09:35 +0000 2014</td>\n",
       "      <td>non-rumour</td>\n",
       "    </tr>\n",
       "    <tr>\n",
       "      <th>151</th>\n",
       "      <td>500352655827279874</td>\n",
       "      <td>500352655827279874</td>\n",
       "      <td>195271137</td>\n",
       "      <td>None</td>\n",
       "      <td>None</td>\n",
       "      <td>Muslims butchering Muslims=no biggie 'til an I...</td>\n",
       "      <td>149</td>\n",
       "      <td>96</td>\n",
       "      <td>Fri Aug 15 18:45:43 +0000 2014</td>\n",
       "      <td>non-rumour</td>\n",
       "    </tr>\n",
       "    <tr>\n",
       "      <th>170</th>\n",
       "      <td>499701669437784064</td>\n",
       "      <td>499701669437784064</td>\n",
       "      <td>26559241</td>\n",
       "      <td>None</td>\n",
       "      <td>None</td>\n",
       "      <td>Just as the Founding Fathers intended. RT @Bmo...</td>\n",
       "      <td>146</td>\n",
       "      <td>57</td>\n",
       "      <td>Wed Aug 13 23:38:56 +0000 2014</td>\n",
       "      <td>non-rumour</td>\n",
       "    </tr>\n",
       "    <tr>\n",
       "      <th>...</th>\n",
       "      <td>...</td>\n",
       "      <td>...</td>\n",
       "      <td>...</td>\n",
       "      <td>...</td>\n",
       "      <td>...</td>\n",
       "      <td>...</td>\n",
       "      <td>...</td>\n",
       "      <td>...</td>\n",
       "      <td>...</td>\n",
       "      <td>...</td>\n",
       "    </tr>\n",
       "    <tr>\n",
       "      <th>16767</th>\n",
       "      <td>500212911856295940</td>\n",
       "      <td>500212911856295940</td>\n",
       "      <td>2725579568</td>\n",
       "      <td>None</td>\n",
       "      <td>None</td>\n",
       "      <td>No matter what we do, it won't be as bad as ki...</td>\n",
       "      <td>123</td>\n",
       "      <td>139</td>\n",
       "      <td>Fri Aug 15 09:30:26 +0000 2014</td>\n",
       "      <td>non-rumour</td>\n",
       "    </tr>\n",
       "    <tr>\n",
       "      <th>16770</th>\n",
       "      <td>500385585807499266</td>\n",
       "      <td>500385585807499266</td>\n",
       "      <td>26792275</td>\n",
       "      <td>None</td>\n",
       "      <td>None</td>\n",
       "      <td>Iran’s Supreme Leader has taken to Twitter to ...</td>\n",
       "      <td>139</td>\n",
       "      <td>51</td>\n",
       "      <td>Fri Aug 15 20:56:35 +0000 2014</td>\n",
       "      <td>non-rumour</td>\n",
       "    </tr>\n",
       "    <tr>\n",
       "      <th>16789</th>\n",
       "      <td>498530904139378688</td>\n",
       "      <td>498530904139378688</td>\n",
       "      <td>142034504</td>\n",
       "      <td>None</td>\n",
       "      <td>None</td>\n",
       "      <td>\"Don't shoot! Don't shoot!\" #ferguson  https:/...</td>\n",
       "      <td>130</td>\n",
       "      <td>39</td>\n",
       "      <td>Sun Aug 10 18:06:44 +0000 2014</td>\n",
       "      <td>non-rumour</td>\n",
       "    </tr>\n",
       "    <tr>\n",
       "      <th>16795</th>\n",
       "      <td>499705810076053504</td>\n",
       "      <td>499705810076053504</td>\n",
       "      <td>279390084</td>\n",
       "      <td>None</td>\n",
       "      <td>None</td>\n",
       "      <td>SWAT police just entered a McDonald's in #Ferg...</td>\n",
       "      <td>961</td>\n",
       "      <td>223</td>\n",
       "      <td>Wed Aug 13 23:55:23 +0000 2014</td>\n",
       "      <td>non-rumour</td>\n",
       "    </tr>\n",
       "    <tr>\n",
       "      <th>16821</th>\n",
       "      <td>499690351875981313</td>\n",
       "      <td>499690351875981313</td>\n",
       "      <td>11265832</td>\n",
       "      <td>None</td>\n",
       "      <td>None</td>\n",
       "      <td>Demonstrators on West Florissant in #Ferguson ...</td>\n",
       "      <td>139</td>\n",
       "      <td>43</td>\n",
       "      <td>Wed Aug 13 22:53:58 +0000 2014</td>\n",
       "      <td>non-rumour</td>\n",
       "    </tr>\n",
       "  </tbody>\n",
       "</table>\n",
       "<p>615 rows × 10 columns</p>\n",
       "</div>"
      ],
      "text/plain": [
       "            main_tweet_id   response_tweet_id     user_id  \\\n",
       "0      499409455814287360  499409455814287360    14090948   \n",
       "7      499695028407922689  499695028407922689    14782581   \n",
       "130    500071770192216065  500071770192216065     2097571   \n",
       "151    500352655827279874  500352655827279874   195271137   \n",
       "170    499701669437784064  499701669437784064    26559241   \n",
       "...                   ...                 ...         ...   \n",
       "16767  500212911856295940  500212911856295940  2725579568   \n",
       "16770  500385585807499266  500385585807499266    26792275   \n",
       "16789  498530904139378688  498530904139378688   142034504   \n",
       "16795  499705810076053504  499705810076053504   279390084   \n",
       "16821  499690351875981313  499690351875981313    11265832   \n",
       "\n",
       "      in_reply_to_status_id in_reply_to_user_id  \\\n",
       "0                      None                None   \n",
       "7                      None                None   \n",
       "130                    None                None   \n",
       "151                    None                None   \n",
       "170                    None                None   \n",
       "...                     ...                 ...   \n",
       "16767                  None                None   \n",
       "16770                  None                None   \n",
       "16789                  None                None   \n",
       "16795                  None                None   \n",
       "16821                  None                None   \n",
       "\n",
       "                                     response_tweet_text  retweet_count  \\\n",
       "0      Crowd peacefully dispersing at the QT tonight....            106   \n",
       "7      what the FUCK are you looking at through a MOU...            128   \n",
       "130    Are these cops or soldiers? Experts say #Fergu...            845   \n",
       "151    Muslims butchering Muslims=no biggie 'til an I...            149   \n",
       "170    Just as the Founding Fathers intended. RT @Bmo...            146   \n",
       "...                                                  ...            ...   \n",
       "16767  No matter what we do, it won't be as bad as ki...            123   \n",
       "16770  Iran’s Supreme Leader has taken to Twitter to ...            139   \n",
       "16789  \"Don't shoot! Don't shoot!\" #ferguson  https:/...            130   \n",
       "16795  SWAT police just entered a McDonald's in #Ferg...            961   \n",
       "16821  Demonstrators on West Florissant in #Ferguson ...            139   \n",
       "\n",
       "       favorite_count             response_created_at       label  \n",
       "0                  54  Wed Aug 13 04:17:47 +0000 2014  non-rumour  \n",
       "7                  47  Wed Aug 13 23:12:33 +0000 2014  non-rumour  \n",
       "130               454  Fri Aug 15 00:09:35 +0000 2014  non-rumour  \n",
       "151                96  Fri Aug 15 18:45:43 +0000 2014  non-rumour  \n",
       "170                57  Wed Aug 13 23:38:56 +0000 2014  non-rumour  \n",
       "...               ...                             ...         ...  \n",
       "16767             139  Fri Aug 15 09:30:26 +0000 2014  non-rumour  \n",
       "16770              51  Fri Aug 15 20:56:35 +0000 2014  non-rumour  \n",
       "16789              39  Sun Aug 10 18:06:44 +0000 2014  non-rumour  \n",
       "16795             223  Wed Aug 13 23:55:23 +0000 2014  non-rumour  \n",
       "16821              43  Wed Aug 13 22:53:58 +0000 2014  non-rumour  \n",
       "\n",
       "[615 rows x 10 columns]"
      ]
     },
     "metadata": {},
     "output_type": "display_data"
    }
   ],
   "source": [
    "display(check_nulls(ferguson_nr_res))"
   ]
  },
  {
   "cell_type": "code",
   "execution_count": 282,
   "id": "f1538223-8c8e-493f-bf7a-53fddd42f593",
   "metadata": {},
   "outputs": [
    {
     "name": "stdout",
     "output_type": "stream",
     "text": [
      "<class 'pandas.core.frame.DataFrame'>\n",
      "RangeIndex: 16837 entries, 0 to 16836\n",
      "Data columns (total 10 columns):\n",
      " #   Column                 Non-Null Count  Dtype \n",
      "---  ------                 --------------  ----- \n",
      " 0   main_tweet_id          16837 non-null  object\n",
      " 1   response_tweet_id      16837 non-null  object\n",
      " 2   user_id                16837 non-null  object\n",
      " 3   in_reply_to_status_id  16837 non-null  object\n",
      " 4   in_reply_to_user_id    16837 non-null  object\n",
      " 5   response_tweet_text    16837 non-null  object\n",
      " 6   retweet_count          16837 non-null  int64 \n",
      " 7   favorite_count         16837 non-null  int64 \n",
      " 8   response_created_at    16837 non-null  object\n",
      " 9   label                  16837 non-null  object\n",
      "dtypes: int64(2), object(8)\n",
      "memory usage: 1.3+ MB\n"
     ]
    }
   ],
   "source": [
    "ferguson_nr_res=replace_vals(ferguson_nr_res)\n",
    "ferguson_nr_res.info()"
   ]
  },
  {
   "cell_type": "code",
   "execution_count": 166,
   "id": "d463e735-9570-44ed-a517-6c92e9cfab48",
   "metadata": {},
   "outputs": [
    {
     "name": "stdout",
     "output_type": "stream",
     "text": [
      "<class 'pandas.core.frame.DataFrame'>\n",
      "RangeIndex: 16837 entries, 0 to 16836\n",
      "Data columns (total 8 columns):\n",
      " #   Column                 Non-Null Count  Dtype \n",
      "---  ------                 --------------  ----- \n",
      " 0   main_tweet_id          16837 non-null  object\n",
      " 1   in_reply_to_status_id  16837 non-null  object\n",
      " 2   in_reply_to_user_id    16837 non-null  object\n",
      " 3   user_id                16837 non-null  object\n",
      " 4   response_tweet_id      16837 non-null  object\n",
      " 5   response_tweet_text    16837 non-null  object\n",
      " 6   response_created_at    16837 non-null  object\n",
      " 7   label                  16837 non-null  object\n",
      "dtypes: object(8)\n",
      "memory usage: 1.0+ MB\n"
     ]
    }
   ],
   "source": [
    "ferguson_nr_res=to_str(ferguson_nr_res)\n",
    "ferguson_nr_res.info()"
   ]
  },
  {
   "cell_type": "markdown",
   "id": "4db44d45-bbe1-4b0a-94e8-b7d273527ae6",
   "metadata": {
    "jp-MarkdownHeadingCollapsed": true
   },
   "source": [
    "#### Germanwings"
   ]
  },
  {
   "cell_type": "code",
   "execution_count": 17,
   "id": "b7f13d73-4bfe-4b53-96ac-5289fd84e9ed",
   "metadata": {
    "scrolled": true
   },
   "outputs": [
    {
     "name": "stdout",
     "output_type": "stream",
     "text": [
      "<class 'pandas.core.frame.DataFrame'>\n",
      "RangeIndex: 1764 entries, 0 to 1763\n",
      "Data columns (total 10 columns):\n",
      " #   Column                 Non-Null Count  Dtype \n",
      "---  ------                 --------------  ----- \n",
      " 0   main_tweet_id          1764 non-null   object\n",
      " 1   response_tweet_id      1764 non-null   object\n",
      " 2   user_id                1764 non-null   object\n",
      " 3   in_reply_to_status_id  1764 non-null   object\n",
      " 4   in_reply_to_user_id    1764 non-null   object\n",
      " 5   response_tweet_text    1764 non-null   object\n",
      " 6   retweet_count          1764 non-null   int64 \n",
      " 7   favorite_count         1764 non-null   int64 \n",
      " 8   response_created_at    1764 non-null   object\n",
      " 9   label                  1764 non-null   int64 \n",
      "dtypes: int64(3), object(7)\n",
      "memory usage: 137.9+ KB\n",
      "None\n"
     ]
    },
    {
     "name": "stderr",
     "output_type": "stream",
     "text": [
      "/tmp/ipykernel_285768/3794510746.py:61: FutureWarning: Downcasting behavior in `replace` is deprecated and will be removed in a future version. To retain the old behavior, explicitly call `result.infer_objects(copy=False)`. To opt-in to the future behavior, set `pd.set_option('future.no_silent_downcasting', True)`\n",
      "  response_tweet_data['label'] = response_tweet_data['label'].replace({'rumour': 1, 'non-rumour': 0})\n"
     ]
    }
   ],
   "source": [
    "germanwings_nr_res = fetch_response_tweets('germanwings-crash', 'non-rumours','non-rumour')\n",
    "print(germanwings_nr_res.info())"
   ]
  },
  {
   "cell_type": "code",
   "execution_count": 250,
   "id": "6db8ebc3-4fef-4dde-a7f5-644366956f0d",
   "metadata": {},
   "outputs": [
    {
     "data": {
      "text/html": [
       "<div>\n",
       "<style scoped>\n",
       "    .dataframe tbody tr th:only-of-type {\n",
       "        vertical-align: middle;\n",
       "    }\n",
       "\n",
       "    .dataframe tbody tr th {\n",
       "        vertical-align: top;\n",
       "    }\n",
       "\n",
       "    .dataframe thead th {\n",
       "        text-align: right;\n",
       "    }\n",
       "</style>\n",
       "<table border=\"1\" class=\"dataframe\">\n",
       "  <thead>\n",
       "    <tr style=\"text-align: right;\">\n",
       "      <th></th>\n",
       "      <th>main_tweet_id</th>\n",
       "      <th>in_reply_to_status_id</th>\n",
       "      <th>in_reply_to_user_id</th>\n",
       "      <th>user_id</th>\n",
       "      <th>response_tweet_id</th>\n",
       "      <th>response_tweet_text</th>\n",
       "      <th>response_created_at</th>\n",
       "      <th>label</th>\n",
       "    </tr>\n",
       "  </thead>\n",
       "  <tbody>\n",
       "    <tr>\n",
       "      <th>1744</th>\n",
       "      <td>580328029852856320</td>\n",
       "      <td>580328029852856320</td>\n",
       "      <td>15513604</td>\n",
       "      <td>2571860615</td>\n",
       "      <td>580978964832743425</td>\n",
       "      <td>@foxandfriends Inside job.</td>\n",
       "      <td>Thu Mar 26 06:25:53 +0000 2015</td>\n",
       "      <td>non-rumour</td>\n",
       "    </tr>\n",
       "    <tr>\n",
       "      <th>1745</th>\n",
       "      <td>580341214098137089</td>\n",
       "      <td>580341214098137089</td>\n",
       "      <td>1453757544</td>\n",
       "      <td>2933587210</td>\n",
       "      <td>580341517438590976</td>\n",
       "      <td>@TZON57 RIP with love to their families and fr...</td>\n",
       "      <td>Tue Mar 24 12:12:54 +0000 2015</td>\n",
       "      <td>non-rumour</td>\n",
       "    </tr>\n",
       "    <tr>\n",
       "      <th>1746</th>\n",
       "      <td>580341214098137089</td>\n",
       "      <td>580341214098137089</td>\n",
       "      <td>1453757544</td>\n",
       "      <td>2897867019</td>\n",
       "      <td>580341566340001792</td>\n",
       "      <td>@TZON57 ❤😘💕😍</td>\n",
       "      <td>Tue Mar 24 12:13:06 +0000 2015</td>\n",
       "      <td>non-rumour</td>\n",
       "    </tr>\n",
       "    <tr>\n",
       "      <th>1747</th>\n",
       "      <td>580341214098137089</td>\n",
       "      <td>580341214098137089</td>\n",
       "      <td>1453757544</td>\n",
       "      <td>2865632684</td>\n",
       "      <td>580341591497424896</td>\n",
       "      <td>@TZON57  Mein Beileid an alle Angehörigen :( #...</td>\n",
       "      <td>Tue Mar 24 12:13:12 +0000 2015</td>\n",
       "      <td>non-rumour</td>\n",
       "    </tr>\n",
       "    <tr>\n",
       "      <th>1748</th>\n",
       "      <td>580341214098137089</td>\n",
       "      <td>580341214098137089</td>\n",
       "      <td>1453757544</td>\n",
       "      <td>2797667877</td>\n",
       "      <td>580341839850524672</td>\n",
       "      <td>@TZON57 Finde es gut das du etwas dazu schreib...</td>\n",
       "      <td>Tue Mar 24 12:14:11 +0000 2015</td>\n",
       "      <td>non-rumour</td>\n",
       "    </tr>\n",
       "    <tr>\n",
       "      <th>1749</th>\n",
       "      <td>580341214098137089</td>\n",
       "      <td>580341214098137089</td>\n",
       "      <td>1453757544</td>\n",
       "      <td>2797667877</td>\n",
       "      <td>580341903910146048</td>\n",
       "      <td>@TZON57 wie schlimm muss das für die angehörig...</td>\n",
       "      <td>Tue Mar 24 12:14:26 +0000 2015</td>\n",
       "      <td>non-rumour</td>\n",
       "    </tr>\n",
       "    <tr>\n",
       "      <th>1750</th>\n",
       "      <td>580341214098137089</td>\n",
       "      <td>580341214098137089</td>\n",
       "      <td>1453757544</td>\n",
       "      <td>2493061162</td>\n",
       "      <td>580342522028920833</td>\n",
       "      <td>@TZON57 😔</td>\n",
       "      <td>Tue Mar 24 12:16:54 +0000 2015</td>\n",
       "      <td>non-rumour</td>\n",
       "    </tr>\n",
       "    <tr>\n",
       "      <th>1751</th>\n",
       "      <td>580341214098137089</td>\n",
       "      <td>580341214098137089</td>\n",
       "      <td>1453757544</td>\n",
       "      <td>3079006463</td>\n",
       "      <td>580342586931593216</td>\n",
       "      <td>@TZON57 r.i.p🙇 mein beileid😩</td>\n",
       "      <td>Tue Mar 24 12:17:09 +0000 2015</td>\n",
       "      <td>non-rumour</td>\n",
       "    </tr>\n",
       "    <tr>\n",
       "      <th>1752</th>\n",
       "      <td>580341214098137089</td>\n",
       "      <td>580341214098137089</td>\n",
       "      <td>1453757544</td>\n",
       "      <td>2869054865</td>\n",
       "      <td>580342607110365184</td>\n",
       "      <td>@TZON57 💕</td>\n",
       "      <td>Tue Mar 24 12:17:14 +0000 2015</td>\n",
       "      <td>non-rumour</td>\n",
       "    </tr>\n",
       "    <tr>\n",
       "      <th>1753</th>\n",
       "      <td>580341214098137089</td>\n",
       "      <td>580341214098137089</td>\n",
       "      <td>1453757544</td>\n",
       "      <td>2778332944</td>\n",
       "      <td>580343623822245888</td>\n",
       "      <td>@TZON57 #Pray #Germanwings das leben kann so s...</td>\n",
       "      <td>Tue Mar 24 12:21:16 +0000 2015</td>\n",
       "      <td>non-rumour</td>\n",
       "    </tr>\n",
       "    <tr>\n",
       "      <th>1754</th>\n",
       "      <td>580341214098137089</td>\n",
       "      <td>580341214098137089</td>\n",
       "      <td>1453757544</td>\n",
       "      <td>2878569636</td>\n",
       "      <td>580343834372128768</td>\n",
       "      <td>@TZON57 mein Beileid an alle angehörigen❤man s...</td>\n",
       "      <td>Tue Mar 24 12:22:07 +0000 2015</td>\n",
       "      <td>non-rumour</td>\n",
       "    </tr>\n",
       "    <tr>\n",
       "      <th>1755</th>\n",
       "      <td>580341214098137089</td>\n",
       "      <td>580341214098137089</td>\n",
       "      <td>1453757544</td>\n",
       "      <td>2748350579</td>\n",
       "      <td>580343933873586176</td>\n",
       "      <td>@TZON57 yes😔🙏</td>\n",
       "      <td>Tue Mar 24 12:22:30 +0000 2015</td>\n",
       "      <td>non-rumour</td>\n",
       "    </tr>\n",
       "    <tr>\n",
       "      <th>1756</th>\n",
       "      <td>580341214098137089</td>\n",
       "      <td>580341214098137089</td>\n",
       "      <td>1453757544</td>\n",
       "      <td>1618592892</td>\n",
       "      <td>580345336553684994</td>\n",
       "      <td>@TZON57 mein Beileid an alle angehörigen 😔</td>\n",
       "      <td>Tue Mar 24 12:28:05 +0000 2015</td>\n",
       "      <td>non-rumour</td>\n",
       "    </tr>\n",
       "    <tr>\n",
       "      <th>1757</th>\n",
       "      <td>580341214098137089</td>\n",
       "      <td>580341214098137089</td>\n",
       "      <td>1453757544</td>\n",
       "      <td>744921588</td>\n",
       "      <td>580352983445078017</td>\n",
       "      <td>“@TZON57: Family and Friends of flight #4U9525...</td>\n",
       "      <td>Tue Mar 24 12:58:28 +0000 2015</td>\n",
       "      <td>non-rumour</td>\n",
       "    </tr>\n",
       "    <tr>\n",
       "      <th>1758</th>\n",
       "      <td>580341214098137089</td>\n",
       "      <td>580341214098137089</td>\n",
       "      <td>1453757544</td>\n",
       "      <td>2843470199</td>\n",
       "      <td>580353017402245121</td>\n",
       "      <td>“@TZON57: Family and Friends of flight #4U9525...</td>\n",
       "      <td>Tue Mar 24 12:58:36 +0000 2015</td>\n",
       "      <td>non-rumour</td>\n",
       "    </tr>\n",
       "    <tr>\n",
       "      <th>1759</th>\n",
       "      <td>580341214098137089</td>\n",
       "      <td>580341214098137089</td>\n",
       "      <td>1453757544</td>\n",
       "      <td>2274900940</td>\n",
       "      <td>580361567298019328</td>\n",
       "      <td>@TZON57 #rip</td>\n",
       "      <td>Tue Mar 24 13:32:34 +0000 2015</td>\n",
       "      <td>non-rumour</td>\n",
       "    </tr>\n",
       "    <tr>\n",
       "      <th>1760</th>\n",
       "      <td>580341214098137089</td>\n",
       "      <td>580341214098137089</td>\n",
       "      <td>1453757544</td>\n",
       "      <td>2861054237</td>\n",
       "      <td>580364950188777472</td>\n",
       "      <td>@TZON57 🙏😔</td>\n",
       "      <td>Tue Mar 24 13:46:01 +0000 2015</td>\n",
       "      <td>non-rumour</td>\n",
       "    </tr>\n",
       "    <tr>\n",
       "      <th>1761</th>\n",
       "      <td>580341214098137089</td>\n",
       "      <td>580341214098137089</td>\n",
       "      <td>1453757544</td>\n",
       "      <td>2910882671</td>\n",
       "      <td>580377134633508866</td>\n",
       "      <td>“@TZON57: Family and Friends of flight #4U9525...</td>\n",
       "      <td>Tue Mar 24 14:34:26 +0000 2015</td>\n",
       "      <td>non-rumour</td>\n",
       "    </tr>\n",
       "    <tr>\n",
       "      <th>1762</th>\n",
       "      <td>580341214098137089</td>\n",
       "      <td>580341214098137089</td>\n",
       "      <td>1453757544</td>\n",
       "      <td>3020252511</td>\n",
       "      <td>580383360322826241</td>\n",
       "      <td>@TZON57 mein beileid 😔</td>\n",
       "      <td>Tue Mar 24 14:59:10 +0000 2015</td>\n",
       "      <td>non-rumour</td>\n",
       "    </tr>\n",
       "    <tr>\n",
       "      <th>1763</th>\n",
       "      <td>580341214098137089</td>\n",
       "      <td>580341214098137089</td>\n",
       "      <td>1453757544</td>\n",
       "      <td>2743845665</td>\n",
       "      <td>580416076305010688</td>\n",
       "      <td>@TZON57 😔🙏</td>\n",
       "      <td>Tue Mar 24 17:09:10 +0000 2015</td>\n",
       "      <td>non-rumour</td>\n",
       "    </tr>\n",
       "  </tbody>\n",
       "</table>\n",
       "</div>"
      ],
      "text/plain": [
       "           main_tweet_id in_reply_to_status_id in_reply_to_user_id  \\\n",
       "1744  580328029852856320    580328029852856320            15513604   \n",
       "1745  580341214098137089    580341214098137089          1453757544   \n",
       "1746  580341214098137089    580341214098137089          1453757544   \n",
       "1747  580341214098137089    580341214098137089          1453757544   \n",
       "1748  580341214098137089    580341214098137089          1453757544   \n",
       "1749  580341214098137089    580341214098137089          1453757544   \n",
       "1750  580341214098137089    580341214098137089          1453757544   \n",
       "1751  580341214098137089    580341214098137089          1453757544   \n",
       "1752  580341214098137089    580341214098137089          1453757544   \n",
       "1753  580341214098137089    580341214098137089          1453757544   \n",
       "1754  580341214098137089    580341214098137089          1453757544   \n",
       "1755  580341214098137089    580341214098137089          1453757544   \n",
       "1756  580341214098137089    580341214098137089          1453757544   \n",
       "1757  580341214098137089    580341214098137089          1453757544   \n",
       "1758  580341214098137089    580341214098137089          1453757544   \n",
       "1759  580341214098137089    580341214098137089          1453757544   \n",
       "1760  580341214098137089    580341214098137089          1453757544   \n",
       "1761  580341214098137089    580341214098137089          1453757544   \n",
       "1762  580341214098137089    580341214098137089          1453757544   \n",
       "1763  580341214098137089    580341214098137089          1453757544   \n",
       "\n",
       "         user_id   response_tweet_id  \\\n",
       "1744  2571860615  580978964832743425   \n",
       "1745  2933587210  580341517438590976   \n",
       "1746  2897867019  580341566340001792   \n",
       "1747  2865632684  580341591497424896   \n",
       "1748  2797667877  580341839850524672   \n",
       "1749  2797667877  580341903910146048   \n",
       "1750  2493061162  580342522028920833   \n",
       "1751  3079006463  580342586931593216   \n",
       "1752  2869054865  580342607110365184   \n",
       "1753  2778332944  580343623822245888   \n",
       "1754  2878569636  580343834372128768   \n",
       "1755  2748350579  580343933873586176   \n",
       "1756  1618592892  580345336553684994   \n",
       "1757   744921588  580352983445078017   \n",
       "1758  2843470199  580353017402245121   \n",
       "1759  2274900940  580361567298019328   \n",
       "1760  2861054237  580364950188777472   \n",
       "1761  2910882671  580377134633508866   \n",
       "1762  3020252511  580383360322826241   \n",
       "1763  2743845665  580416076305010688   \n",
       "\n",
       "                                    response_tweet_text  \\\n",
       "1744                         @foxandfriends Inside job.   \n",
       "1745  @TZON57 RIP with love to their families and fr...   \n",
       "1746                                       @TZON57 ❤😘💕😍   \n",
       "1747  @TZON57  Mein Beileid an alle Angehörigen :( #...   \n",
       "1748  @TZON57 Finde es gut das du etwas dazu schreib...   \n",
       "1749  @TZON57 wie schlimm muss das für die angehörig...   \n",
       "1750                                          @TZON57 😔   \n",
       "1751                       @TZON57 r.i.p🙇 mein beileid😩   \n",
       "1752                                          @TZON57 💕   \n",
       "1753  @TZON57 #Pray #Germanwings das leben kann so s...   \n",
       "1754  @TZON57 mein Beileid an alle angehörigen❤man s...   \n",
       "1755                                      @TZON57 yes😔🙏   \n",
       "1756         @TZON57 mein Beileid an alle angehörigen 😔   \n",
       "1757  “@TZON57: Family and Friends of flight #4U9525...   \n",
       "1758  “@TZON57: Family and Friends of flight #4U9525...   \n",
       "1759                                       @TZON57 #rip   \n",
       "1760                                         @TZON57 🙏😔   \n",
       "1761  “@TZON57: Family and Friends of flight #4U9525...   \n",
       "1762                             @TZON57 mein beileid 😔   \n",
       "1763                                         @TZON57 😔🙏   \n",
       "\n",
       "                 response_created_at       label  \n",
       "1744  Thu Mar 26 06:25:53 +0000 2015  non-rumour  \n",
       "1745  Tue Mar 24 12:12:54 +0000 2015  non-rumour  \n",
       "1746  Tue Mar 24 12:13:06 +0000 2015  non-rumour  \n",
       "1747  Tue Mar 24 12:13:12 +0000 2015  non-rumour  \n",
       "1748  Tue Mar 24 12:14:11 +0000 2015  non-rumour  \n",
       "1749  Tue Mar 24 12:14:26 +0000 2015  non-rumour  \n",
       "1750  Tue Mar 24 12:16:54 +0000 2015  non-rumour  \n",
       "1751  Tue Mar 24 12:17:09 +0000 2015  non-rumour  \n",
       "1752  Tue Mar 24 12:17:14 +0000 2015  non-rumour  \n",
       "1753  Tue Mar 24 12:21:16 +0000 2015  non-rumour  \n",
       "1754  Tue Mar 24 12:22:07 +0000 2015  non-rumour  \n",
       "1755  Tue Mar 24 12:22:30 +0000 2015  non-rumour  \n",
       "1756  Tue Mar 24 12:28:05 +0000 2015  non-rumour  \n",
       "1757  Tue Mar 24 12:58:28 +0000 2015  non-rumour  \n",
       "1758  Tue Mar 24 12:58:36 +0000 2015  non-rumour  \n",
       "1759  Tue Mar 24 13:32:34 +0000 2015  non-rumour  \n",
       "1760  Tue Mar 24 13:46:01 +0000 2015  non-rumour  \n",
       "1761  Tue Mar 24 14:34:26 +0000 2015  non-rumour  \n",
       "1762  Tue Mar 24 14:59:10 +0000 2015  non-rumour  \n",
       "1763  Tue Mar 24 17:09:10 +0000 2015  non-rumour  "
      ]
     },
     "execution_count": 250,
     "metadata": {},
     "output_type": "execute_result"
    }
   ],
   "source": [
    "germanwings_nr_res.tail(20)"
   ]
  },
  {
   "cell_type": "code",
   "execution_count": 213,
   "id": "f84a9cf1-54f2-4393-a0da-04abf53b2fd4",
   "metadata": {
    "scrolled": true
   },
   "outputs": [
    {
     "data": {
      "text/plain": [
       "main_tweet_id            0\n",
       "in_reply_to_status_id    1\n",
       "in_reply_to_user_id      1\n",
       "user_id                  0\n",
       "response_tweet_id        0\n",
       "response_tweet_text      0\n",
       "response_created_at      0\n",
       "label                    0\n",
       "dtype: int64"
      ]
     },
     "execution_count": 213,
     "metadata": {},
     "output_type": "execute_result"
    }
   ],
   "source": [
    "germanwings_nr_res.isna().sum()"
   ]
  },
  {
   "cell_type": "code",
   "execution_count": 214,
   "id": "bb5ad7eb-a752-407c-9f7d-a1350a66f311",
   "metadata": {},
   "outputs": [
    {
     "data": {
      "text/html": [
       "<div>\n",
       "<style scoped>\n",
       "    .dataframe tbody tr th:only-of-type {\n",
       "        vertical-align: middle;\n",
       "    }\n",
       "\n",
       "    .dataframe tbody tr th {\n",
       "        vertical-align: top;\n",
       "    }\n",
       "\n",
       "    .dataframe thead th {\n",
       "        text-align: right;\n",
       "    }\n",
       "</style>\n",
       "<table border=\"1\" class=\"dataframe\">\n",
       "  <thead>\n",
       "    <tr style=\"text-align: right;\">\n",
       "      <th></th>\n",
       "      <th>main_tweet_id</th>\n",
       "      <th>in_reply_to_status_id</th>\n",
       "      <th>in_reply_to_user_id</th>\n",
       "      <th>user_id</th>\n",
       "      <th>response_tweet_id</th>\n",
       "      <th>response_tweet_text</th>\n",
       "      <th>response_created_at</th>\n",
       "      <th>label</th>\n",
       "    </tr>\n",
       "  </thead>\n",
       "  <tbody>\n",
       "    <tr>\n",
       "      <th>714</th>\n",
       "      <td>580330078682353665</td>\n",
       "      <td>NaN</td>\n",
       "      <td>NaN</td>\n",
       "      <td>581831550</td>\n",
       "      <td>580331920665526272</td>\n",
       "      <td>@KimJongFunk @ChristianJansse @planefinder Chr...</td>\n",
       "      <td>Tue Mar 24 11:34:46 +0000 2015</td>\n",
       "      <td>non-rumour</td>\n",
       "    </tr>\n",
       "  </tbody>\n",
       "</table>\n",
       "</div>"
      ],
      "text/plain": [
       "          main_tweet_id  in_reply_to_status_id  in_reply_to_user_id  \\\n",
       "714  580330078682353665                    NaN                  NaN   \n",
       "\n",
       "       user_id   response_tweet_id  \\\n",
       "714  581831550  580331920665526272   \n",
       "\n",
       "                                   response_tweet_text  \\\n",
       "714  @KimJongFunk @ChristianJansse @planefinder Chr...   \n",
       "\n",
       "                response_created_at       label  \n",
       "714  Tue Mar 24 11:34:46 +0000 2015  non-rumour  "
      ]
     },
     "metadata": {},
     "output_type": "display_data"
    }
   ],
   "source": [
    "display(check_nulls(germanwings_nr_res))"
   ]
  },
  {
   "cell_type": "code",
   "execution_count": 221,
   "id": "54c73387-b013-4458-946e-910c27785e3f",
   "metadata": {},
   "outputs": [
    {
     "name": "stdout",
     "output_type": "stream",
     "text": [
      "<class 'pandas.core.frame.DataFrame'>\n",
      "RangeIndex: 1764 entries, 0 to 1763\n",
      "Data columns (total 8 columns):\n",
      " #   Column                 Non-Null Count  Dtype \n",
      "---  ------                 --------------  ----- \n",
      " 0   main_tweet_id          1764 non-null   object\n",
      " 1   in_reply_to_status_id  1764 non-null   object\n",
      " 2   in_reply_to_user_id    1764 non-null   object\n",
      " 3   user_id                1764 non-null   object\n",
      " 4   response_tweet_id      1764 non-null   object\n",
      " 5   response_tweet_text    1764 non-null   object\n",
      " 6   response_created_at    1764 non-null   object\n",
      " 7   label                  1764 non-null   object\n",
      "dtypes: object(8)\n",
      "memory usage: 110.4+ KB\n"
     ]
    }
   ],
   "source": [
    "germanwings_nr_res=replace_vals(germanwings_nr_res)\n",
    "germanwings_nr_res.info()"
   ]
  },
  {
   "cell_type": "code",
   "execution_count": 228,
   "id": "39a09425-1b19-4a74-8c8f-f3b05fe4591e",
   "metadata": {},
   "outputs": [
    {
     "data": {
      "text/html": [
       "<div>\n",
       "<style scoped>\n",
       "    .dataframe tbody tr th:only-of-type {\n",
       "        vertical-align: middle;\n",
       "    }\n",
       "\n",
       "    .dataframe tbody tr th {\n",
       "        vertical-align: top;\n",
       "    }\n",
       "\n",
       "    .dataframe thead th {\n",
       "        text-align: right;\n",
       "    }\n",
       "</style>\n",
       "<table border=\"1\" class=\"dataframe\">\n",
       "  <thead>\n",
       "    <tr style=\"text-align: right;\">\n",
       "      <th></th>\n",
       "      <th>main_tweet_id</th>\n",
       "      <th>in_reply_to_status_id</th>\n",
       "      <th>in_reply_to_user_id</th>\n",
       "      <th>user_id</th>\n",
       "      <th>response_tweet_id</th>\n",
       "      <th>response_tweet_text</th>\n",
       "      <th>response_created_at</th>\n",
       "      <th>label</th>\n",
       "    </tr>\n",
       "  </thead>\n",
       "  <tbody>\n",
       "    <tr>\n",
       "      <th>713</th>\n",
       "      <td>580330078682353665</td>\n",
       "      <td>5.803300786823537e+17</td>\n",
       "      <td>100936791.0</td>\n",
       "      <td>19067011</td>\n",
       "      <td>580330648839278592</td>\n",
       "      <td>@planefinder isn’t -5312 ft/min a steep decent...</td>\n",
       "      <td>Tue Mar 24 11:29:43 +0000 2015</td>\n",
       "      <td>non-rumour</td>\n",
       "    </tr>\n",
       "    <tr>\n",
       "      <th>714</th>\n",
       "      <td>580330078682353665</td>\n",
       "      <td>null</td>\n",
       "      <td>null</td>\n",
       "      <td>581831550</td>\n",
       "      <td>580331920665526272</td>\n",
       "      <td>@KimJongFunk @ChristianJansse @planefinder Chr...</td>\n",
       "      <td>Tue Mar 24 11:34:46 +0000 2015</td>\n",
       "      <td>non-rumour</td>\n",
       "    </tr>\n",
       "  </tbody>\n",
       "</table>\n",
       "</div>"
      ],
      "text/plain": [
       "          main_tweet_id  in_reply_to_status_id in_reply_to_user_id    user_id  \\\n",
       "713  580330078682353665  5.803300786823537e+17         100936791.0   19067011   \n",
       "714  580330078682353665                   null                null  581831550   \n",
       "\n",
       "      response_tweet_id                                response_tweet_text  \\\n",
       "713  580330648839278592  @planefinder isn’t -5312 ft/min a steep decent...   \n",
       "714  580331920665526272  @KimJongFunk @ChristianJansse @planefinder Chr...   \n",
       "\n",
       "                response_created_at       label  \n",
       "713  Tue Mar 24 11:29:43 +0000 2015  non-rumour  \n",
       "714  Tue Mar 24 11:34:46 +0000 2015  non-rumour  "
      ]
     },
     "metadata": {},
     "output_type": "display_data"
    }
   ],
   "source": [
    "display(germanwings_nr_res[germanwings_nr_res['main_tweet_id']=='580330078682353665'])"
   ]
  },
  {
   "cell_type": "code",
   "execution_count": 227,
   "id": "054f5b80-794c-49dd-90c0-40e2730dfe10",
   "metadata": {},
   "outputs": [
    {
     "name": "stdout",
     "output_type": "stream",
     "text": [
      "<class 'pandas.core.frame.DataFrame'>\n",
      "RangeIndex: 1764 entries, 0 to 1763\n",
      "Data columns (total 8 columns):\n",
      " #   Column                 Non-Null Count  Dtype \n",
      "---  ------                 --------------  ----- \n",
      " 0   main_tweet_id          1764 non-null   object\n",
      " 1   in_reply_to_status_id  1764 non-null   object\n",
      " 2   in_reply_to_user_id    1764 non-null   object\n",
      " 3   user_id                1764 non-null   object\n",
      " 4   response_tweet_id      1764 non-null   object\n",
      " 5   response_tweet_text    1764 non-null   object\n",
      " 6   response_created_at    1764 non-null   object\n",
      " 7   label                  1764 non-null   object\n",
      "dtypes: object(8)\n",
      "memory usage: 110.4+ KB\n"
     ]
    }
   ],
   "source": [
    "germanwings_nr_res=to_str(germanwings_nr_res)\n",
    "germanwings_nr_res.info()"
   ]
  },
  {
   "cell_type": "markdown",
   "id": "ff534d45-f920-4bc8-89e6-70c70a33bc46",
   "metadata": {
    "jp-MarkdownHeadingCollapsed": true
   },
   "source": [
    "#### Sydney"
   ]
  },
  {
   "cell_type": "code",
   "execution_count": 18,
   "id": "6f7ecc5b-b20b-42ae-8473-ab065eab88a8",
   "metadata": {},
   "outputs": [
    {
     "name": "stdout",
     "output_type": "stream",
     "text": [
      "<class 'pandas.core.frame.DataFrame'>\n",
      "RangeIndex: 14621 entries, 0 to 14620\n",
      "Data columns (total 10 columns):\n",
      " #   Column                 Non-Null Count  Dtype \n",
      "---  ------                 --------------  ----- \n",
      " 0   main_tweet_id          14621 non-null  object\n",
      " 1   response_tweet_id      14621 non-null  object\n",
      " 2   user_id                14621 non-null  object\n",
      " 3   in_reply_to_status_id  14621 non-null  object\n",
      " 4   in_reply_to_user_id    14621 non-null  object\n",
      " 5   response_tweet_text    14621 non-null  object\n",
      " 6   retweet_count          14621 non-null  int64 \n",
      " 7   favorite_count         14621 non-null  int64 \n",
      " 8   response_created_at    14621 non-null  object\n",
      " 9   label                  14621 non-null  int64 \n",
      "dtypes: int64(3), object(7)\n",
      "memory usage: 1.1+ MB\n",
      "None\n"
     ]
    },
    {
     "name": "stderr",
     "output_type": "stream",
     "text": [
      "/tmp/ipykernel_285768/3794510746.py:61: FutureWarning: Downcasting behavior in `replace` is deprecated and will be removed in a future version. To retain the old behavior, explicitly call `result.infer_objects(copy=False)`. To opt-in to the future behavior, set `pd.set_option('future.no_silent_downcasting', True)`\n",
      "  response_tweet_data['label'] = response_tweet_data['label'].replace({'rumour': 1, 'non-rumour': 0})\n"
     ]
    }
   ],
   "source": [
    "sydneysiege_nr_res = fetch_response_tweets('sydneysiege', 'non-rumours','non-rumour')\n",
    "print(sydneysiege_nr_res.info())"
   ]
  },
  {
   "cell_type": "code",
   "execution_count": 173,
   "id": "58a299b8-82f1-4c88-b2a4-b92ec1c9ba20",
   "metadata": {},
   "outputs": [
    {
     "data": {
      "text/plain": [
       "main_tweet_id            0\n",
       "in_reply_to_status_id    5\n",
       "in_reply_to_user_id      5\n",
       "user_id                  0\n",
       "response_tweet_id        0\n",
       "response_tweet_text      0\n",
       "response_created_at      0\n",
       "label                    0\n",
       "dtype: int64"
      ]
     },
     "execution_count": 173,
     "metadata": {},
     "output_type": "execute_result"
    }
   ],
   "source": [
    "sydneysiege_nr_res.isna().sum()"
   ]
  },
  {
   "cell_type": "code",
   "execution_count": 174,
   "id": "9c7efdda-acf5-46a9-98e8-ffaabd37be92",
   "metadata": {},
   "outputs": [
    {
     "data": {
      "text/html": [
       "<div>\n",
       "<style scoped>\n",
       "    .dataframe tbody tr th:only-of-type {\n",
       "        vertical-align: middle;\n",
       "    }\n",
       "\n",
       "    .dataframe tbody tr th {\n",
       "        vertical-align: top;\n",
       "    }\n",
       "\n",
       "    .dataframe thead th {\n",
       "        text-align: right;\n",
       "    }\n",
       "</style>\n",
       "<table border=\"1\" class=\"dataframe\">\n",
       "  <thead>\n",
       "    <tr style=\"text-align: right;\">\n",
       "      <th></th>\n",
       "      <th>main_tweet_id</th>\n",
       "      <th>in_reply_to_status_id</th>\n",
       "      <th>in_reply_to_user_id</th>\n",
       "      <th>user_id</th>\n",
       "      <th>response_tweet_id</th>\n",
       "      <th>response_tweet_text</th>\n",
       "      <th>response_created_at</th>\n",
       "      <th>label</th>\n",
       "    </tr>\n",
       "  </thead>\n",
       "  <tbody>\n",
       "    <tr>\n",
       "      <th>4423</th>\n",
       "      <td>544439380329644032</td>\n",
       "      <td>NaN</td>\n",
       "      <td>NaN</td>\n",
       "      <td>1299846277</td>\n",
       "      <td>544440783924105216</td>\n",
       "      <td>.@MedievalSwan @TelegraphNews Why not condemn ...</td>\n",
       "      <td>Mon Dec 15 10:36:12 +0000 2014</td>\n",
       "      <td>non-rumour</td>\n",
       "    </tr>\n",
       "    <tr>\n",
       "      <th>4426</th>\n",
       "      <td>544439380329644032</td>\n",
       "      <td>NaN</td>\n",
       "      <td>NaN</td>\n",
       "      <td>90367713</td>\n",
       "      <td>544441948476825600</td>\n",
       "      <td>@MedievalSwan @TelegraphNews @AHart1974 Ever r...</td>\n",
       "      <td>Mon Dec 15 10:40:50 +0000 2014</td>\n",
       "      <td>non-rumour</td>\n",
       "    </tr>\n",
       "    <tr>\n",
       "      <th>4433</th>\n",
       "      <td>544439380329644032</td>\n",
       "      <td>NaN</td>\n",
       "      <td>NaN</td>\n",
       "      <td>2780946635</td>\n",
       "      <td>544466702223044608</td>\n",
       "      <td>@MedievalSwan haha, what an outrageous comment...</td>\n",
       "      <td>Mon Dec 15 12:19:12 +0000 2014</td>\n",
       "      <td>non-rumour</td>\n",
       "    </tr>\n",
       "    <tr>\n",
       "      <th>12898</th>\n",
       "      <td>544424261163569152</td>\n",
       "      <td>NaN</td>\n",
       "      <td>NaN</td>\n",
       "      <td>24140490</td>\n",
       "      <td>544435660946284544</td>\n",
       "      <td>@emotivezarry Fuck you I know more than you an...</td>\n",
       "      <td>Mon Dec 15 10:15:51 +0000 2014</td>\n",
       "      <td>non-rumour</td>\n",
       "    </tr>\n",
       "    <tr>\n",
       "      <th>12920</th>\n",
       "      <td>544424261163569152</td>\n",
       "      <td>NaN</td>\n",
       "      <td>NaN</td>\n",
       "      <td>116317899</td>\n",
       "      <td>544628048398925824</td>\n",
       "      <td>@emotivezarry @bigbosco John is a shitstain on...</td>\n",
       "      <td>Mon Dec 15 23:00:20 +0000 2014</td>\n",
       "      <td>non-rumour</td>\n",
       "    </tr>\n",
       "  </tbody>\n",
       "</table>\n",
       "</div>"
      ],
      "text/plain": [
       "            main_tweet_id  in_reply_to_status_id  in_reply_to_user_id  \\\n",
       "4423   544439380329644032                    NaN                  NaN   \n",
       "4426   544439380329644032                    NaN                  NaN   \n",
       "4433   544439380329644032                    NaN                  NaN   \n",
       "12898  544424261163569152                    NaN                  NaN   \n",
       "12920  544424261163569152                    NaN                  NaN   \n",
       "\n",
       "          user_id   response_tweet_id  \\\n",
       "4423   1299846277  544440783924105216   \n",
       "4426     90367713  544441948476825600   \n",
       "4433   2780946635  544466702223044608   \n",
       "12898    24140490  544435660946284544   \n",
       "12920   116317899  544628048398925824   \n",
       "\n",
       "                                     response_tweet_text  \\\n",
       "4423   .@MedievalSwan @TelegraphNews Why not condemn ...   \n",
       "4426   @MedievalSwan @TelegraphNews @AHart1974 Ever r...   \n",
       "4433   @MedievalSwan haha, what an outrageous comment...   \n",
       "12898  @emotivezarry Fuck you I know more than you an...   \n",
       "12920  @emotivezarry @bigbosco John is a shitstain on...   \n",
       "\n",
       "                  response_created_at       label  \n",
       "4423   Mon Dec 15 10:36:12 +0000 2014  non-rumour  \n",
       "4426   Mon Dec 15 10:40:50 +0000 2014  non-rumour  \n",
       "4433   Mon Dec 15 12:19:12 +0000 2014  non-rumour  \n",
       "12898  Mon Dec 15 10:15:51 +0000 2014  non-rumour  \n",
       "12920  Mon Dec 15 23:00:20 +0000 2014  non-rumour  "
      ]
     },
     "metadata": {},
     "output_type": "display_data"
    }
   ],
   "source": [
    "display(check_nulls(sydneysiege_nr_res))"
   ]
  },
  {
   "cell_type": "code",
   "execution_count": 175,
   "id": "719af9bc-0ae7-465a-addb-7f35a30feb71",
   "metadata": {},
   "outputs": [
    {
     "name": "stdout",
     "output_type": "stream",
     "text": [
      "<class 'pandas.core.frame.DataFrame'>\n",
      "RangeIndex: 14621 entries, 0 to 14620\n",
      "Data columns (total 8 columns):\n",
      " #   Column                 Non-Null Count  Dtype \n",
      "---  ------                 --------------  ----- \n",
      " 0   main_tweet_id          14621 non-null  object\n",
      " 1   in_reply_to_status_id  14621 non-null  object\n",
      " 2   in_reply_to_user_id    14621 non-null  object\n",
      " 3   user_id                14621 non-null  int64 \n",
      " 4   response_tweet_id      14621 non-null  int64 \n",
      " 5   response_tweet_text    14621 non-null  object\n",
      " 6   response_created_at    14621 non-null  object\n",
      " 7   label                  14621 non-null  object\n",
      "dtypes: int64(2), object(6)\n",
      "memory usage: 913.9+ KB\n"
     ]
    }
   ],
   "source": [
    "sydneysiege_nr_res=replace_vals(sydneysiege_nr_res)\n",
    "sydneysiege_nr_res.info()"
   ]
  },
  {
   "cell_type": "code",
   "execution_count": 176,
   "id": "3c8f3889-aeb8-46e8-8452-3c1ef122ee03",
   "metadata": {},
   "outputs": [
    {
     "name": "stdout",
     "output_type": "stream",
     "text": [
      "<class 'pandas.core.frame.DataFrame'>\n",
      "RangeIndex: 14621 entries, 0 to 14620\n",
      "Data columns (total 8 columns):\n",
      " #   Column                 Non-Null Count  Dtype \n",
      "---  ------                 --------------  ----- \n",
      " 0   main_tweet_id          14621 non-null  object\n",
      " 1   in_reply_to_status_id  14621 non-null  object\n",
      " 2   in_reply_to_user_id    14621 non-null  object\n",
      " 3   user_id                14621 non-null  object\n",
      " 4   response_tweet_id      14621 non-null  object\n",
      " 5   response_tweet_text    14621 non-null  object\n",
      " 6   response_created_at    14621 non-null  object\n",
      " 7   label                  14621 non-null  object\n",
      "dtypes: object(8)\n",
      "memory usage: 913.9+ KB\n"
     ]
    }
   ],
   "source": [
    "sydneysiege_nr_res=to_str(sydneysiege_nr_res)\n",
    "sydneysiege_nr_res.info()"
   ]
  },
  {
   "cell_type": "markdown",
   "id": "42781710-defd-4ca8-bae0-cb67ddac1343",
   "metadata": {
    "jp-MarkdownHeadingCollapsed": true
   },
   "source": [
    "## Miscellenious"
   ]
  },
  {
   "cell_type": "code",
   "execution_count": 2,
   "id": "7000d1d8-ad08-4ca7-9e03-0f961edf431f",
   "metadata": {},
   "outputs": [
    {
     "name": "stdout",
     "output_type": "stream",
     "text": [
      "First folder name: 524944399890124801\n",
      "Process Complete\n",
      "<class 'pandas.core.frame.DataFrame'>\n",
      "RangeIndex: 470 entries, 0 to 469\n",
      "Data columns (total 7 columns):\n",
      " #   Column          Non-Null Count  Dtype \n",
      "---  ------          --------------  ----- \n",
      " 0   user_id         470 non-null    int64 \n",
      " 1   tweet_id        470 non-null    int64 \n",
      " 2   tweet_text      470 non-null    object\n",
      " 3   favorite_count  470 non-null    int64 \n",
      " 4   retweet_count   470 non-null    int64 \n",
      " 5   created_at      470 non-null    object\n",
      " 6   label           470 non-null    object\n",
      "dtypes: int64(4), object(3)\n",
      "memory usage: 25.8+ KB\n",
      "None\n"
     ]
    }
   ],
   "source": [
    "import os, json\n",
    "import pandas as pd\n",
    "\n",
    "# Define the directory path\n",
    "directory_path = \"phemernrdataset/pheme-rnr-dataset/ottawashooting/rumours/\"\n",
    "\n",
    "#create an empty DataFrame\n",
    "source_Tweet_data = pd.DataFrame()\n",
    "user_id = []\n",
    "tweet_id = []\n",
    "tweet_text = []\n",
    "favorite_count = []\n",
    "retweet_count = []\n",
    "created_at = []\n",
    "# Get the list of folders in the directory\n",
    "folders = [folder for folder in os.listdir(directory_path) if os.path.isdir(os.path.join(directory_path, folder))]\n",
    "\n",
    "# Get the first folder name\n",
    "first_folder_name = folders[0] if folders else None\n",
    "#print(len(folders))\n",
    "print(\"First folder name:\", first_folder_name)\n",
    "index = 0\n",
    "for file_name in folders:\n",
    "    new_path = directory_path + file_name+'/' + 'source-tweet/' + file_name + '.json'\n",
    "    f = open(new_path)\n",
    "    data = json.load(f)\n",
    "    #print(data)\n",
    "    user_id.append(data['user']['id'])\n",
    "    tweet_id.append(data['id'])\n",
    "    tweet_text.append(data['text'])\n",
    "    favorite_count.append(data['favorite_count'])\n",
    "    retweet_count.append(data['retweet_count'])\n",
    "    created_at.append(data['created_at'])\n",
    "\n",
    "#create a df\n",
    "data = {'user_id': user_id,'tweet_id':tweet_id, 'tweet_text':tweet_text, 'favorite_count':favorite_count, \n",
    "        'retweet_count':retweet_count, 'created_at':created_at}\n",
    "\n",
    "source_Tweet_data = pd.DataFrame(data)\n",
    "source_Tweet_data['label'] = 'rumor'\n",
    "print(\"Process Complete\")\n",
    "print(source_Tweet_data.info())"
   ]
  },
  {
   "cell_type": "code",
   "execution_count": 19,
   "id": "b8d536eb-1f4d-4ce1-a8d3-02da65ec54c0",
   "metadata": {},
   "outputs": [
    {
     "name": "stdout",
     "output_type": "stream",
     "text": [
      "Process Complete\n",
      "<class 'pandas.core.frame.DataFrame'>\n",
      "RangeIndex: 5966 entries, 0 to 5965\n",
      "Data columns (total 7 columns):\n",
      " #   Column                 Non-Null Count  Dtype  \n",
      "---  ------                 --------------  -----  \n",
      " 0   main_tweet_id          5966 non-null   object \n",
      " 1   in_reply_to_status_id  5950 non-null   float64\n",
      " 2   in_reply_to_user_id    5950 non-null   float64\n",
      " 3   user_id                5966 non-null   int64  \n",
      " 4   response_tweet_id      5966 non-null   int64  \n",
      " 5   response_tweet_text    5966 non-null   object \n",
      " 6   response_created_at    5966 non-null   object \n",
      "dtypes: float64(2), int64(2), object(3)\n",
      "memory usage: 326.4+ KB\n",
      "None\n"
     ]
    }
   ],
   "source": [
    "response_user_id = []\n",
    "response_tweet_id = []\n",
    "in_reply_to_status_id = []\n",
    "in_reply_to_user_id = []\n",
    "response_tweet_text = []\n",
    "response_retweet_count = []\n",
    "response_created_at = []\n",
    "main_thread_id = []\n",
    "\n",
    "#loop through all the folders in the directory\n",
    "for folder in folders:\n",
    "    path = directory_path + folder+'/' + 'reactions/'\n",
    "    json_files = sorted([pos_json for pos_json in os.listdir(path)\n",
    "             if pos_json.endswith('.json')])\n",
    "    \n",
    "    for index, js in enumerate(json_files):\n",
    "\n",
    "        try:\n",
    "            #open the file using the given directory\n",
    "            with open(os.path.join(path, js)) as file:\n",
    "                #load data from json file\n",
    "                data = json.load(file)\n",
    "\n",
    "                #convert to string first before storing in array\n",
    "                response_user_id.append(data['user']['id'])\n",
    "                main_thread_id.append(folder)\n",
    "                response_tweet_id.append(data['id'])\n",
    "                in_reply_to_status_id.append(data['in_reply_to_status_id'])\n",
    "                in_reply_to_user_id.append(data['in_reply_to_user_id'])\n",
    "                response_tweet_text.append(data['text'])\n",
    "                response_retweet_count.append(data['retweet_count'])\n",
    "                response_created_at.append(data['created_at'])\n",
    "\n",
    "        except Exception as inst:\n",
    "            print(type(inst))    # the exception type\n",
    "            print(inst.args)     # arguments stored in .args\n",
    "            print(inst) \n",
    "\n",
    "\n",
    "r_user_id = map(str, r_user_id)\n",
    "\n",
    "#create a df\n",
    "data = {'main_tweet_id': main_thread_id,\n",
    "        'in_reply_to_status_id':in_reply_to_status_id, \n",
    "        'in_reply_to_user_id':in_reply_to_user_id, \n",
    "        'user_id': response_user_id,\n",
    "        'response_tweet_id':response_tweet_id, \n",
    "        'response_tweet_text':response_tweet_text,'response_tweet_text':response_tweet_text,\n",
    "        'response_created_at':response_created_at}\n",
    "\n",
    "response_tweet_data = pd.DataFrame(data)\n",
    "print(\"Process Complete\")\n",
    "print(response_tweet_data.info())\n",
    "            "
   ]
  },
  {
   "cell_type": "code",
   "execution_count": 20,
   "id": "a1b9c305-be64-41a4-8f15-5c526891904d",
   "metadata": {},
   "outputs": [
    {
     "name": "stdout",
     "output_type": "stream",
     "text": [
      "Process Complete\n",
      "<class 'pandas.core.frame.DataFrame'>\n",
      "RangeIndex: 5966 entries, 0 to 5965\n",
      "Data columns (total 4 columns):\n",
      " #   Column               Non-Null Count  Dtype \n",
      "---  ------               --------------  ----- \n",
      " 0   main_tweet_id        5966 non-null   object\n",
      " 1   user_id              5966 non-null   int64 \n",
      " 2   response_tweet_id    5966 non-null   int64 \n",
      " 3   response_created_at  5966 non-null   object\n",
      "dtypes: int64(2), object(2)\n",
      "memory usage: 186.6+ KB\n",
      "None\n"
     ]
    }
   ],
   "source": [
    "response_user_id = []\n",
    "response_tweet_id = []\n",
    "in_reply_to_status_id = []\n",
    "in_reply_to_user_id = []\n",
    "response_tweet_text = []\n",
    "response_retweet_count = []\n",
    "response_created_at = []\n",
    "main_thread_id = []\n",
    "\n",
    "#loop through all the folders in the directory\n",
    "for folder in folders:\n",
    "    path = directory_path + folder+'/' + 'reactions/'\n",
    "    json_files = sorted([pos_json for pos_json in os.listdir(path)\n",
    "             if pos_json.endswith('.json')])\n",
    "    \n",
    "    for index, js in enumerate(json_files):\n",
    "\n",
    "        try:\n",
    "            #open the file using the given directory\n",
    "            with open(os.path.join(path, js)) as file:\n",
    "                #load data from json file\n",
    "                data = json.load(file)\n",
    "\n",
    "                #convert to string first before storing in array\n",
    "                response_user_id.append(data['user']['id'])\n",
    "                main_thread_id.append(folder)\n",
    "                response_tweet_id.append(data['id'])\n",
    "                in_reply_to_status_id.append(data['in_reply_to_status_id'])\n",
    "                in_reply_to_user_id.append(data['in_reply_to_user_id'])\n",
    "                response_tweet_text.append(data['text'])\n",
    "                response_retweet_count.append(data['retweet_count'])\n",
    "                response_created_at.append(data['created_at'])\n",
    "\n",
    "        except Exception as inst:\n",
    "            print(type(inst))    # the exception type\n",
    "            print(inst.args)     # arguments stored in .args\n",
    "            print(inst) \n",
    "\n",
    "\n",
    "r_user_id = map(str, r_user_id)\n",
    "\n",
    "#create a df\n",
    "data = {'main_tweet_id': main_thread_id,\n",
    "        #'in_reply_to_status_id':in_reply_to_status_id, \n",
    "        #'in_reply_to_user_id':in_reply_to_user_id, \n",
    "        'user_id': response_user_id,\n",
    "        'response_tweet_id':response_tweet_id, \n",
    "        #'response_tweet_text':response_tweet_text,'response_tweet_text':response_tweet_text,\n",
    "        'response_created_at':response_created_at}\n",
    "\n",
    "response_tweet_data = pd.DataFrame(data)\n",
    "print(\"Process Complete\")\n",
    "print(response_tweet_data.info())"
   ]
  },
  {
   "cell_type": "code",
   "execution_count": 21,
   "id": "93bb6c8c-e9cf-4942-9de9-ab9ab7295489",
   "metadata": {},
   "outputs": [
    {
     "name": "stdout",
     "output_type": "stream",
     "text": [
      "File created\n"
     ]
    }
   ],
   "source": [
    "response_tweet_data.to_csv('rumor_response_data.csv', index=False)\n",
    "print('File created')"
   ]
  },
  {
   "cell_type": "code",
   "execution_count": null,
   "id": "2fcac21f-5b30-4902-af69-84582d87bbb6",
   "metadata": {},
   "outputs": [],
   "source": []
  }
 ],
 "metadata": {
  "kernelspec": {
   "display_name": "Python 3 (ipykernel)",
   "language": "python",
   "name": "python3"
  },
  "language_info": {
   "codemirror_mode": {
    "name": "ipython",
    "version": 3
   },
   "file_extension": ".py",
   "mimetype": "text/x-python",
   "name": "python",
   "nbconvert_exporter": "python",
   "pygments_lexer": "ipython3",
   "version": "3.10.12"
  }
 },
 "nbformat": 4,
 "nbformat_minor": 5
}
